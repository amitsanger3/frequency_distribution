{
 "cells": [
  {
   "cell_type": "code",
   "execution_count": 1,
   "metadata": {},
   "outputs": [],
   "source": [
    "import numpy as np\n",
    "import pandas as pd\n",
    "import matplotlib.pyplot as plt\n",
    "import random\n",
    "import seaborn as sns\n",
    "import sklearn\n",
    "from sklearn.model_selection import train_test_split\n",
    "import math\n",
    "import scipy as stats"
   ]
  },
  {
   "cell_type": "code",
   "execution_count": 2,
   "metadata": {},
   "outputs": [],
   "source": [
    "%matplotlib inline"
   ]
  },
  {
   "cell_type": "code",
   "execution_count": 3,
   "metadata": {},
   "outputs": [],
   "source": [
    "class Relative_Frequency(object):\n",
    "    \n",
    "    def __init__(self, dataset):\n",
    "        self.dataset = dataset\n",
    "        self.width_of_class_interval = None\n",
    "        self.data_range = None\n",
    "        self.number_of_intervals = None\n",
    "\n",
    "        \n",
    "    def get_data_range(self, number_of_intervals):\n",
    "        self.width_of_class_interval = self. get_width_of_class_interval(number_of_intervals)\n",
    "        self.data_range = np.arange(min(self.dataset), max(self.dataset)+self.width_of_class_interval, self.width_of_class_interval).round(decimals=1)\n",
    "        return self.data_range\n",
    "        \n",
    "        \n",
    "    def get_custom_data_range(self, start_point, end_point, width_of_class_interval):\n",
    "        self.data_range = np.arange(start_point, end_point+width_of_class_interval, width_of_class_interval)\n",
    "        return self.data_range\n",
    "        \n",
    "        \n",
    "    def get_width_of_class_interval(self, number_of_intervals):\n",
    "        self.number_of_intervals = number_of_intervals\n",
    "        self.width_of_class_interval = round(((math.ceil(max(self.dataset))-min(self.dataset))/(self.number_of_intervals)), ndigits=1)\n",
    "        if self.width_of_class_interval < 0.2:\n",
    "            self.get_width_of_class_interval(number_of_intervals-1)\n",
    "        else:\n",
    "            return self.width_of_class_interval\n",
    "        \n",
    "        \n",
    "    def get_custom_width_of_class_interval(self, start_point, end_point, number_of_intervals):\n",
    "        self.width_of_class_interval = round((end_point - start_point)/(number_of_intervals))\n",
    "        return self.width_of_class_interval\n",
    "        \n",
    "        \n",
    "    def get_number_of_intervals(self, width_of_class_interval=0.0):\n",
    "        self.width_of_class_interval = width_of_class_interval\n",
    "        if self.width_of_class_interval == 0.0:\n",
    "            return len(self.dataset)\n",
    "        else:\n",
    "            return round(((math.ceil(max(self.dataset))-min(self.dataset))/(width_of_class_interval)), ndigits=1)\n",
    "        \n",
    "        \n",
    "    def frequency(self, data_range):\n",
    "        self.data_range = data_range\n",
    "        result = []\n",
    "        for i in range(len(self.data_range)-1):\n",
    "            if i ==0:\n",
    "                x1 = self.dataset[self.data_range[i]<=self.dataset]\n",
    "                x2 = x1[x1<=self.data_range[i+1]]\n",
    "                result.append(len(x2))\n",
    "            else:\n",
    "                x1 = self.dataset[self.data_range[i]<self.dataset]\n",
    "                x2 = x1[x1<=self.data_range[i+1]]\n",
    "                result.append(len(x2))\n",
    "        return result\n",
    "\n",
    "    \n",
    "    def open_frequency(self, data_range):\n",
    "        self.data_range = data_range\n",
    "        result = []\n",
    "        for i in range(len(self.data_range)+1):\n",
    "            if i == 0:\n",
    "                x1 = self.dataset[self.data_range[i]>self.dataset]\n",
    "                result.append(len(x1))\n",
    "            elif i == len(self.data_range):\n",
    "                x1 = self.dataset[self.data_range[i-1]<self.dataset]\n",
    "                result.append(len(x1))\n",
    "            else:\n",
    "                x1 = self.dataset[self.data_range[i-1]<=self.dataset]\n",
    "                x2 = x1[x1<=self.data_range[i]]\n",
    "                result.append(len(x2))\n",
    "        \n",
    "        return result\n",
    "    \n",
    "    \n",
    "    def interval(self):#, data_range):\n",
    "        #self.data_range = data_range\n",
    "        result = []\n",
    "        for i in range(len(self.data_range)-1):\n",
    "            if i == 0:\n",
    "                result.append(str(round(self.data_range[i], ndigits=1))+'-'+str(round(self.data_range[i+1], ndigits=1)))\n",
    "            elif i == len(self.data_range)-2:\n",
    "                result.append(str(round(self.data_range[i], ndigits=1))+'-'+str(round(max(self.dataset), ndigits=1)))\n",
    "            else:\n",
    "                result.append(str(round(self.data_range[i]+0.1, ndigits=1))+'-'+str(round(self.data_range[i+1], ndigits=1)))\n",
    "        \n",
    "        return result\n",
    "    \n",
    "    \n",
    "    def open_interval(self):#, data_range):\n",
    "        #self.data_range = data_range\n",
    "        result = []\n",
    "        for i in range(len(self.data_range)+1):\n",
    "            if i == 0:\n",
    "                result.append('infinity-'+str(round(self.data_range[i], ndigits=1)))\n",
    "            elif i == len(self.data_range):\n",
    "                result.append(str(round(max(self.dataset), ndigits=1))+'-infinity')\n",
    "            else:\n",
    "                result.append(str(round(self.data_range[i-1]+0.1, ndigits=1))+'-'+str(round(self.data_range[i], ndigits=1)))\n",
    "        \n",
    "        return result\n",
    "    \n",
    "    \n",
    "    def classification(self, data_range, close=True):\n",
    "        if close is True:\n",
    "            f = self.frequency(data_range)\n",
    "            result = {\n",
    "                \"Interval\": self.interval(),\n",
    "                \"Frequency\": f,\n",
    "                \"%\": np.array(f)/len(self.dataset),\n",
    "            }\n",
    "        else:\n",
    "            f = self.open_frequency(data_range)\n",
    "            result = {\n",
    "            \"Interval\": self.open_interval(),\n",
    "            \"Frequency\": f,\n",
    "            \"%\": np.array(f)/len(self.dataset),\n",
    "        }\n",
    "            \n",
    "        return pd.DataFrame(result)\n",
    "    \n",
    "    \n",
    "    def evaluation(self, data_range, close=True):\n",
    "        rep = self.classification(data_range, close) # change\n",
    "        fig = plt.figure(figsize=(15.0, 6.0))\n",
    "        axes1 = fig.add_axes([0.1,0.1,0.8,0.8])\n",
    "        axes1.plot(rep[\"Interval\"], rep[\"Frequency\"])\n",
    "        #axes1.bar(np.arange(0,len(rep['Interval']),1), height=rep['Frequency'])\n",
    "        #sns.barplot(rep.index.to_list(), rep['Frequency'])\n",
    "        #print(\" \")\n",
    "        #print(\"Frequency Distribution Plot\")\n",
    "        #sns.distplot(rep['Frequency'])\n",
    "        \n",
    "        \n",
    "    def commulative_evaluation(self, data_range, more_than=True):\n",
    "        self.data_range = data_range\n",
    "        data_frequency = np.array(self.frequency(self.data_range))\n",
    "        #more_than \n",
    "        if more_than is True:\n",
    "            total = data_frequency.sum()\n",
    "            commulative_frequency_distribution = [total]\n",
    "            for i in data_frequency:\n",
    "                total -= i\n",
    "                commulative_frequency_distribution.append(total)\n",
    "        # less than\n",
    "        else:\n",
    "            start_total = 0\n",
    "            commulative_frequency_distribution = [start_total]\n",
    "            for i in data_frequency:\n",
    "                start_total += i\n",
    "                commulative_frequency_distribution.append(start_total)\n",
    "\n",
    "        # presentation\n",
    "        fig = plt.figure(figsize=(15.0, 6.0))\n",
    "        axes1 = fig.add_axes([0.1,0.1,0.8,0.8])\n",
    "        axes1.plot(data_range, commulative_frequency_distribution)"
   ]
  },
  {
   "cell_type": "code",
   "execution_count": 4,
   "metadata": {},
   "outputs": [],
   "source": [
    "class Measure_of_Central_Tendency(Relative_Frequency):\n",
    "    \n",
    "    def __init__(self, dataset):\n",
    "        relative_frequency.__init__(self, dataset)\n",
    "        self.data_range_mid_point = None\n",
    "        self.weights = None\n",
    "        \n",
    "    def get_data_range_mid_point(self, data_range):\n",
    "        \"\"\"\n",
    "        if class are given in a manner like\n",
    "        [1-3,4-6,7-9,10-12,13-15,16-18,19-21,22-24]\n",
    "        \n",
    "        then, our datarange is\n",
    "        [1,4,7,10,13,16,19,22,25]\n",
    "        \"\"\"\n",
    "        self.data_range_mid_point = [round((data_range[i]+data_range[i+1])/2) for i in range(len(data_range)-1)]\n",
    "        return np.array(self.data_range_mid_point)\n",
    "    \n",
    "    def arithmetic_mean_by_frequency_distribution(self, data_range):\n",
    "        x = self.get_data_range_mid_point(data_range)\n",
    "        f = np.array(self.frequency(data_range))\n",
    "        sum_fx = (f*x).sum()\n",
    "        print(\"fx: \", sum_fx)\n",
    "        sum_f = f.sum()\n",
    "        print(\"f: \", sum_f)\n",
    "        \n",
    "        return sum_fx/sum_f\n",
    "        \n",
    "        \n",
    "    def arithmetic_mean_by_raw_dataset(self):\n",
    "        return self.dataset.mean()\n",
    "    \n",
    "    \n",
    "    def weighted_mean(self, weights):\n",
    "        self.weights = weights\n",
    "        return (self.dataset*self.weights).sum()/self.weights.sum()\n",
    "    \n",
    "    \n",
    "    def geometric_mean(self, change_factors, increase=True):\n",
    "        \"\"\"\n",
    "        if direct % is given then, first multiply the array with 0.01\n",
    "        \"\"\"\n",
    "        if increase is True:\n",
    "            change_factors = change_factors + 1\n",
    "        \n",
    "        product_change_factors = change_factors.cumprod()\n",
    "                \n",
    "        return (product_change_factors)**(1/len(change_factors)) - 1\n",
    "    \n",
    "    \n",
    "    \n",
    "    def get_change_factor(self, increase=True):\n",
    "        change_factors = []\n",
    "        for i in range(len(self.dataset)-1):\n",
    "            change_factors.append(self.dataset[i+1]/self.dataset[i])\n",
    "            \n",
    "        if increase is True:\n",
    "            return np.array(change_factors) - 1\n",
    "        else:\n",
    "            return np.array(change_factors)\n",
    "        \n",
    "        \n",
    "    def estimate_percentage_change(self, geometric_mean, time):\n",
    "        return (1 + geometric_mean)**(time) - 1\n",
    "        \n",
    "            \n",
    "    def median_by_raw_data(self):     \n",
    "        return np.median(self.dataset)\n",
    "        \n",
    "        \n",
    "    def median_by_frequency_distribution(self):\n",
    "        f = np.array(self.frequency(self.data_range))\n",
    "        cum_f = f.cumsum() # Cumulative sum of frequency\n",
    "        n = np.array(f).sum()\n",
    "        center_elemnt = (n+1)/2\n",
    "        if n%2 == 0:\n",
    "            center1,center2 = math.floor(center_elemnt), math.ceil(center_elemnt)\n",
    "            class_num = len(cum_f[cum_f<center_elemnt]) # Class index number of which median belong\n",
    "            fnum = cum_f[class_num] # frequency num of which median belong\n",
    "            data_range_lower_num, data_range_upper_num = self.data_range[class_num], self.data_range[class_num+1]\n",
    "            step_width = (data_range_upper_num - data_range_lower_num)/fnum\n",
    "            center1_item = (step_width * (center1 - 1)) + data_range_lower_num\n",
    "            center2_item = (step_width * (center2 - 1)) + data_range_lower_num\n",
    "            median = (center1_item + center2_item)/2\n",
    "    \n",
    "        else:\n",
    "            center = center_elemnt\n",
    "            class_num = len(cum_f[cum_f<center_elemnt]) # Class index number of which median belong\n",
    "            fnum = cum_f[class_num] # frequency num of which median belong\n",
    "            data_range_lower_num, data_range_upper_num = self.data_range[class_num], self.data_range[class_num+1]\n",
    "            step_width = (data_range_upper_num - data_range_lower_num)/fnum\n",
    "            median = (step_width * (center - 1)) + data_range_lower_num\n",
    "            \n",
    "        return median\n",
    "    \n",
    "    \n",
    "    def mode_by_raw_data(self):\n",
    "        \"\"\"\n",
    "        if dataset takes smaller value having larger number of repeats\n",
    "        \"\"\"\n",
    "        unique_data_set = np.unique(self.dataset, return_counts=True)\n",
    "        return unique_data_set[0][unique_data_set[1].tolist().index(unique_data_set[1].max())], unique_data_set[1].max()\n",
    "        \n",
    "    \n",
    "    def mode_by_frequency_distribution(self):\n",
    "        \"\"\"\n",
    "        if frequency take the larger value\n",
    "        \"\"\"\n",
    "        f = np.array(self.frequency(self.data_range))\n",
    "        cum_f = f.cumsum() # Cumulative sum of frequency\n",
    "        n = np.array(f).sum()\n",
    "        center_elemnt = (n+1)/2\n",
    "       \n",
    "        class_num = len(cum_f[cum_f<center_elemnt]) # Class index number of which median belong\n",
    "        fnum = cum_f[class_num] # frequency num of which median belong\n",
    "        data_range_lower_num, data_range_upper_num = self.data_range[class_num], self.data_range[class_num+1]\n",
    "        \n",
    "        data_range_width = data_range_upper_num - data_range_lower_num\n",
    "        d1 = f[class_num] - f[class_num+1]\n",
    "        d2 = f[class_num] - f[class_num-1]\n",
    "        mode = data_range_lower_num + ((d1/(d1+d2))*data_range_width)\n",
    "        \n",
    "        return mode\n",
    "            "
   ]
  },
  {
   "cell_type": "code",
   "execution_count": 5,
   "metadata": {},
   "outputs": [],
   "source": [
    "class Measure_of_Dispersion(object):\n",
    "   \n",
    "\n",
    "    def __init__(self, dataset):\n",
    "        self.dataset = dataset\n",
    "        \n",
    "        \n",
    "    def get_dataset(self):\n",
    "        return self.dataset\n",
    "    \n",
    "    \n",
    "    def set_dataset(self, new_dataset):\n",
    "        self.dataset = new_dataset\n",
    "    #==============================\n",
    "        # Range \n",
    "    #==============================\n",
    "\n",
    "    \n",
    "    def get_range(self):\n",
    "        return max(self.dataset)-min(self.dataset)\n",
    "    \n",
    "    \n",
    "    def percentile(self, fraction):\n",
    "        return sorted(self.dataset)[math.floor(len(self.dataset)*fraction) - 1]\n",
    "    \n",
    "    \n",
    "    def interfractile_range(self, lower_fractile, upper_fractile):\n",
    "        return self.percentile(upper_fractile) - self.percentile(lower_fractile)\n",
    "    \n",
    "    \n",
    "    def interquartile_range(self):\n",
    "        return self.interfractile_range(0.25, 0.75)\n",
    "        \n",
    "    \n",
    "    #==============================\n",
    "        # Average Deviation Measure\n",
    "    #==============================\n",
    "\n",
    "    \n",
    "    def population_variance(self):\n",
    "        return ((self.dataset**2).sum() / len(self.dataset)) - (self.dataset.mean())**2\n",
    "    \n",
    "    \n",
    "    def population_standard_daviation(self):\n",
    "        return (self.population_variance())**(1/2)\n",
    "    \n",
    "    \n",
    "    def standard_score(self, x):\n",
    "        return (x - self.dataset.mean()) / self.population_standard_daviation()\n",
    "    \n",
    "    \n",
    "    def population_mean_by_frequency_distribution(self, frequency):\n",
    "        return ((self.dataset * frequency).sum())/(frequency.sum())\n",
    "    \n",
    "    \n",
    "    def population_variance_by_frequency_distribution(self, frequency):\n",
    "        return ((frequency * (self.dataset**2)).sum() / (frequency.sum())) - (self.population_mean_by_frequency_distribution(frequency))**2\n",
    "        \n",
    "        \n",
    "    def population_standard_daviation_by_frequency_distribution(self, frequency):\n",
    "        return (self.population_variance_by_frequency_distribution(frequency))**(1/2)\n",
    "    \n",
    "    \n",
    "    def sample_variance(self):\n",
    "        return ((self.dataset - self.dataset.mean())**2).sum() / (len(self.dataset) - 1)\n",
    "    \n",
    "    \n",
    "    def sample_standard_deviation(self):\n",
    "        return (self.sample_variance())**(1/2)\n",
    "    \n",
    "    \n",
    "    def sample_standard_score(self, x):\n",
    "        return (x - self.dataset.mean()) / self.sample_standard_deviation()\n",
    "    \n",
    "    \n",
    "    #==============================\n",
    "        # Relative Dispersion\n",
    "    #==============================\n",
    "\n",
    "    \n",
    "    def coefficient_of_variation(self, sigma, mu):\n",
    "        \"\"\"\n",
    "        lesser is better\n",
    "        \"\"\"\n",
    "        return (sigma/mu)*100"
   ]
  },
  {
   "cell_type": "code",
   "execution_count": 6,
   "metadata": {},
   "outputs": [],
   "source": [
    "class Probability(object):\n",
    "    \n",
    "    def __init__(self):\n",
    "        pass\n",
    "    \n",
    "    \n",
    "    def get_classical_probability(self, A, N):\n",
    "        \"\"\"\n",
    "        A: Number of favourable outcomes\n",
    "        N: Total number of possible outcomes\n",
    "        \"\"\"\n",
    "        return round(A/N, 2)\n",
    "    \n",
    "    \n",
    "    #====================================\n",
    "    # UNDER STATISTICAL INDEPENDENCE \n",
    "    #====================================\n",
    "    def marginal_probability(self, probabilities_of_events_happening, probility_of_events_happening_together=0.0):\n",
    "        \"\"\"\n",
    "        probabilities_of_events_happening: numpy array or list\n",
    "        \"\"\"\n",
    "        return round(np.array(probabilities_of_events_happening).sum() - probility_of_events_happening_together, 2)\n",
    "    \n",
    "    \n",
    "    def joint_probability(self, probabilities_of_events_happening):\n",
    "        return round(np.array(probabilities_of_events_happening).prod(),2)\n",
    "    \n",
    "    \n",
    "    def conditional_probabilities(self, probability_of_required_event_happening):\n",
    "        \"\"\"\n",
    "        as events are independents \n",
    "        \"\"\"\n",
    "        return probability_of_required_event_happening\n",
    "    \n",
    "    \n",
    "    #====================================\n",
    "    # UNDER STATISTICAL DEPENDENCE \n",
    "    #====================================\n",
    "    def conditional_probabilities_under_statistical_dependence(self, probability_of_given_event_happening, probability_of_given_and_required_event_happening_together):\n",
    "        return round(probability_of_given_and_required_event_happening_together/probability_of_given_event_happening, 2)\n",
    "    \n",
    "    \n",
    "    def joint_probabilities_under_statistical_dependence(self, probability_of_given_event_happening, probability_of_conditional_event_happening_together):\n",
    "        return round(probability_of_conditional_event_happening_together*probability_of_given_event_happening, 2)\n",
    "    \n",
    "    \n",
    "    def marginal_probability(self, probabilities_of_all_joint_events_happening):\n",
    "        \"\"\"\n",
    "        probabilities_of_events_happening: numpy array or list\n",
    "        \"\"\"\n",
    "        return round(np.array(probabilities_of_events_happening).sum(), 2)\n",
    "    \n",
    "    \n",
    "    #====================================\n",
    "    # PRIOR ESTIMATES OF PROBABILITIES\n",
    "    #====================================\n",
    "    def bayes_therorem_probability(self, probabilities_of_events, conditional_probabilities):\n",
    "        \"\"\"\n",
    "        return: tuple of probability_of_condition & posterior_probabilities of events\n",
    "        \"\"\"\n",
    "        probabilities_of_conditions_and_event = np.array(probabilities_of_events) * np.array(conditional_probabilities)\n",
    "        probability_of_condition = probabilities_of_conditions_and_event.sum()\n",
    "        posterior_probabilities = probabilities_of_conditions_and_event/probability_of_condition\n",
    "        \n",
    "        return probability_of_condition, posterior_probabilities"
   ]
  },
  {
   "cell_type": "code",
   "execution_count": 7,
   "metadata": {},
   "outputs": [],
   "source": [
    "class Probability_Distribution(object):\n",
    "    \"\"\"\n",
    "    APPLICATIONS OF DISTRIBUTIONS\n",
    "    Binomial Distribution: applied when number of trials is fixed before\n",
    "                        the experiments begins, and each trial is indipendent\n",
    "                        and can result in only two mutually exclusive outcome\n",
    "                        (success/failure, either/or, yes/no)\n",
    "    Possion Distribution: when each trial is independent. But although the\n",
    "                        probabilities approach 0 after the first few values,\n",
    "                        the number of possible values is finite. The result\n",
    "                        are not limited to two mutually exclusive outcomes.\n",
    "    Normal Distribution: where distribution is continues.\n",
    "    \"\"\"\n",
    "    \n",
    "    def __init__(self):\n",
    "        self.X = None\n",
    "        self.probabilities = None\n",
    "        \n",
    "        \n",
    "    def get_random_variable(self):\n",
    "        return self.X\n",
    "    \n",
    "    \n",
    "    def set_random_variable(self, random_variable):\n",
    "        self.X = random_variable\n",
    "        \n",
    "        \n",
    "    def get_probabilities(self):\n",
    "        return self.probabilities\n",
    "    \n",
    "    \n",
    "    def set_probabilities(self, probabilities):\n",
    "        self.probabilities = probabilities\n",
    "        \n",
    "        \n",
    "    def possible_value_of_discrete_random_variable(self):\n",
    "        \"\"\"\n",
    "        weighted average of the outcomes expected in future.\n",
    "        As condition cahnge over time, the value would recompute\n",
    "        and use this new value as the basis of future decision\n",
    "        making.\n",
    "        \"\"\"\n",
    "        return (self.X * self.probabilities).sum()\n",
    "        \n",
    "        \n",
    "        \"\"\"\n",
    "        check the need of init variables\n",
    "        \"\"\"\n",
    "        \n",
    "    def conditional_table(self, obs, opp):\n",
    "        \"\"\"\n",
    "        obs: obsolescence losses: caused by stocking too much than demand\n",
    "        opp: opportunity losses: caused by shortage of stock when demand is high.\n",
    "        \n",
    "        optimal stock action: is the one that will minimize expected losses.\n",
    "        \"\"\"\n",
    "        result_table = np.zeros((len(self.X),len(self.X)))\n",
    "        for i in range(len(self.X)):\n",
    "            for j in range(len(self.X)):\n",
    "                if i>j:\n",
    "                    result_table[i,j] = (i-j)*opp\n",
    "                elif i<j:\n",
    "                    result_table[i,j] = (j-i)*obs\n",
    "                    \n",
    "        return result_table\n",
    "        \n",
    "        \n",
    "    def expected_value(self, obs, opp):\n",
    "        conditions = np.transpose(self.conditional_table(obs, opp))\n",
    "        expectations = []\n",
    "        for condition in conditions:\n",
    "            expectations.append((condition * self.probabilities).sum())\n",
    "        \n",
    "        return expectations\n",
    "    \n",
    "    \n",
    "    def probability_distribution_graph(self):\n",
    "        plt.plot(self.X, self.probabilities)\n",
    "        \n",
    "    \n",
    "    def binomial_distribution(self, p, n, r):\n",
    "        \"\"\"\n",
    "        use for discrete probailities\n",
    "        p: characteristic probability or probability of success\n",
    "        n: number of trials undertaken\n",
    "        r: number of success desired\n",
    "        \"\"\"\n",
    "        return (math.factorial(n)/(math.factorial(r)*(math.factorial(n-r))))*(p**r)*((1-p)**(n-r))\n",
    "    \n",
    "    \n",
    "    def binomial_distribution_evaluation(self, p, n):\n",
    "        binomial_probability_distribution = []\n",
    "        range_of_success_desired = np.arange(0, n+1)\n",
    "        for i in range_of_success_desired:\n",
    "            binomial_probability_distribution.append(self.binomial_distribution(p, n, i))\n",
    "            \n",
    "        plt.plot(range_of_success_desired, binomial_probability_distribution)\n",
    "        \n",
    "        result = {\n",
    "            \"r\": range_of_success_desired,\n",
    "            \"Binomial Probability\": binomial_probability_distribution,\n",
    "        }\n",
    "        \n",
    "        return pd.DataFrame(result)\n",
    "        \n",
    "    def binomial_distribution_mean(self, n, p):\n",
    "        return n*p\n",
    "    \n",
    "    \n",
    "    def binomial_distribution_standard_deviation(self, n, p):\n",
    "        return math.sqrt(n*p*(1-p))\n",
    "    \n",
    "        \n",
    "    def poisson_distribution(self, mean, x):\n",
    "        \"\"\"\n",
    "        use for discrete probailities\n",
    "        mean: the mean number of occurrences per interval of time\n",
    "        x: probability of exactly x occurrences\n",
    "        \"\"\"\n",
    "        return ((mean**x)*((math.e)**(-mean)))/(math.factorial(x))\n",
    "    \n",
    "    \n",
    "    def poisson_distribution_evaluation(self, mean):\n",
    "        \"\"\"\n",
    "        we will calulate this on random variable\n",
    "        \"\"\"\n",
    "        poisson_probability_distribution = []\n",
    "        for i in self.X:\n",
    "            poisson_probability_distribution.append(self.poisson_distribution(mean,i))\n",
    "        \n",
    "        plt.plot(self.X, poisson_probability_distribution)\n",
    "        \n",
    "        result = {\n",
    "            \"x\": self.X,\n",
    "            \"P(x)\": poisson_probability_distribution,\n",
    "        }\n",
    "        \n",
    "        return pd.DataFrame(result)\n",
    "    \n",
    "    \n",
    "    def standard_normal_table(self, file):\n",
    "        df_file = pd.read_csv(file)\n",
    "        df_file.index = df_file['z']\n",
    "        df_file.drop('z', axis=1, inplace=True)\n",
    "\n",
    "        return df_file\n",
    "    \n",
    "    \n",
    "    def number_of_standard_deviations(self, x, mu, sigma):\n",
    "        \"\"\"\n",
    "        To get number of standard deviations from x to the mean \n",
    "        of this ditribution\n",
    "        x = value of random variable with which concerned\n",
    "        mu = mean if the distribution of this random variable\n",
    "        sigma = standard deviation of thistribution\n",
    "        \"\"\"\n",
    "        return round((x - mu)/sigma, 2)\n",
    "    \n",
    "    \n",
    "    def probability_of_num_standard_deviations(self, file, z):\n",
    "        \"\"\"\n",
    "        file = csv file to see standard normal distribution\n",
    "        z = number of standard deviations from x to the mean \n",
    "        of this ditribution\n",
    "        \"\"\"\n",
    "        z_str = str(round(z, 2))\n",
    "        print('z string:', z)\n",
    "        if len(z_str)>3:\n",
    "            first_num, last_num = float(z_str[:-1]), int(z_str[-1])\n",
    "        else:\n",
    "            first_num, last_num = float(z_str), 0\n",
    "        print(\"first, last:\", first_num, last_num)\n",
    "        \n",
    "        normal_table = self.standard_normal_table(file)\n",
    "        probability_value = normal_table.loc[first_num][last_num]\n",
    "    \n",
    "        return probability_value\n",
    "    \n",
    "    \n",
    "    def normal_distribution(self, mu, sigma, X1=-math.inf, X2=math.inf):\n",
    "        \"\"\"\n",
    "        Also called Gausssian Distribution\n",
    "        use for continues probabilities\n",
    "        \n",
    "        NOTE: 1. while taking random variable(rv) if rv's are inclusive\n",
    "        then x1-0.5, x2+0.5, and if not inclusive then x1+0.5 & x2-0.5\n",
    "        \n",
    "        X1 = Smaller value of random variable with which concerned\n",
    "        X2 = Larger value of random variable with which concerned\n",
    "        mu = mean if the distribution of this random variable\n",
    "        sigma = standard deviation of thistribution\n",
    "        \"\"\"\n",
    "        z1 = self.number_of_standard_deviations(X1, mu, sigma)\n",
    "        z2 = self.number_of_standard_deviations(X2, mu, sigma)\n",
    "        print(z1, z2)\n",
    "        \n",
    "        if abs(z1) == abs(z2) == math.inf:\n",
    "            return None\n",
    "        \n",
    "        elif abs(z1) == math.inf and abs(z2) != math.inf:\n",
    "            if z2 > 0:\n",
    "                print(\"a1\")\n",
    "                return self.probability_of_num_standard_deviations('cumulative.csv', z2)\n",
    "            else:\n",
    "                print(\"a2\")\n",
    "                return self.probability_of_num_standard_deviations('complementary_cumulative.csv', abs(z2))\n",
    "        \n",
    "        elif abs(z1) != math.inf and abs(z2) == math.inf:\n",
    "            if z1 > 0:\n",
    "                print(\"a3\")\n",
    "                return self.probability_of_num_standard_deviations('complementary_cumulative.csv', z1)\n",
    "            else:\n",
    "                print(\"a4\")\n",
    "                return self.probability_of_num_standard_deviations('cumulative.csv', abs(z1))\n",
    "        \n",
    "        else:\n",
    "            if abs(z1) == 0 and z2 > 0:\n",
    "                print(\"a5\")\n",
    "                return self.probability_of_num_standard_deviations('cumulative_from_mean_0toZ.csv', z2)\n",
    "            \n",
    "            elif z1>0 and z2>0:\n",
    "                print(\"a6\")\n",
    "                prob1 = self.probability_of_num_standard_deviations('cumulative.csv', z2)\n",
    "                prob2 = self.probability_of_num_standard_deviations('cumulative.csv', z1)\n",
    "                print(\"probabilities 1 & 2\", prob1, prob2)\n",
    "                return prob1 - prob2\n",
    "            \n",
    "            elif (z1<0 and z2>0) or (z1>0 and z2<0):\n",
    "                print(\"a7\")\n",
    "                #prob1 = self.probability_of_num_standard_deviations('cumulative.csv', abs(z2))\n",
    "                #prob2 = self.probability_of_num_standard_deviations('cumulative.csv', abs(z1))\n",
    "                \n",
    "                prob1 = self.probability_of_num_standard_deviations('cumulative_from_mean_0toZ.csv', abs(z2))\n",
    "                prob2 = self.probability_of_num_standard_deviations('cumulative_from_mean_0toZ.csv', abs(z1))\n",
    "                print(\"probabilities 1 & 2\", prob1, prob2)\n",
    "                return prob1 + prob2\n",
    "            \n",
    "            elif z1<0 and z2<0:\n",
    "                print(\"a8\")\n",
    "                prob1 = self.probability_of_num_standard_deviations('complementary_cumulative.csv', abs(z2))\n",
    "                prob2 = self.probability_of_num_standard_deviations('complementary_cumulative.csv', abs(z1))\n",
    "                print(\"probabilities 1 & 2\", prob1, prob2)\n",
    "                return prob1 - prob2\n",
    "    \n",
    "    \n",
    "    def __str__(self):\n",
    "        return \"Random Variables(X): \"+str(self.X)+\"\\n \\nProbabilities: \"+str(self.probabilities)"
   ]
  },
  {
   "cell_type": "code",
   "execution_count": 8,
   "metadata": {},
   "outputs": [],
   "source": [
    "prd = Probability_Distribution()"
   ]
  },
  {
   "cell_type": "code",
   "execution_count": 12,
   "metadata": {},
   "outputs": [],
   "source": [
    "\"\"\"\n",
    "x = np.array([[70,10,40,0,10],\n",
    "             [30,15,20,0,0],\n",
    "             [0,10,30,30,10],\n",
    "             [20,7,10,20,0],\n",
    "            [40,10,0,30,10]])*100\n",
    "\n",
    "\"\"\"\n",
    "x = np.array([15,20,25,30])*1000\n",
    "\n",
    "#p = np.array([10,20,25,30,15])*0.01\n",
    "#lossing\n",
    "c1 = np.array([[25,35,15],\n",
    "               [10,10,15],\n",
    "               [5,10,10]])*0.01\n",
    "#gaining\n",
    "c2 = np.array([[10,15,15],\n",
    "               [30,35,15],\n",
    "               [35,40,10]])*0.01\n",
    "\n",
    "\n",
    "p = np.array([10,30,40,20])*0.01\n",
    "#p2 = np.array()*0.01\n",
    "#p3 = np.array()*0.01\n",
    "x4 = np.array([64,68,58,57,59])\n",
    "\n",
    "f = np.array([18,90,44,21,9,9,4,5])"
   ]
  },
  {
   "cell_type": "code",
   "execution_count": 13,
   "metadata": {},
   "outputs": [
    {
     "data": {
      "text/plain": [
       "[1.19, 0.585, 0.265, 0.325]"
      ]
     },
     "execution_count": 13,
     "metadata": {},
     "output_type": "execute_result"
    }
   ],
   "source": [
    "prd.set_probabilities(p)\n",
    "prd.set_random_variable(x)\n",
    "prd.expected_value(0.25, 0.70)"
   ]
  },
  {
   "cell_type": "code",
   "execution_count": 11,
   "metadata": {},
   "outputs": [
    {
     "data": {
      "text/plain": [
       "[680.0, 630.0]"
      ]
     },
     "execution_count": 11,
     "metadata": {},
     "output_type": "execute_result"
    }
   ],
   "source": [
    "prd.set_probabilities(p)\n",
    "\n",
    "prob = []\n",
    "for i in x:\n",
    "    prd.set_random_variable(i)\n",
    "    prob.append(prd.possible_value_of_discrete_random_variable())\n",
    "\n",
    "prob"
   ]
  },
  {
   "cell_type": "code",
   "execution_count": 25,
   "metadata": {},
   "outputs": [
    {
     "name": "stdout",
     "output_type": "stream",
     "text": [
      "0.97 1.61\n",
      "a6\n",
      "z string: 1.61\n",
      "first, last: 1.6 1\n",
      "z string: 0.97\n",
      "first, last: 0.9 7\n",
      "probabilities 1 & 2 0.9463 0.8339799999999999\n",
      "---------------------\n",
      "-0.65 inf\n",
      "a4\n",
      "z string: 0.65\n",
      "first, last: 0.6 5\n",
      "---------------------\n",
      "-1.29 1.29\n",
      "a7\n",
      "z string: 1.29\n",
      "first, last: 1.2 9\n",
      "z string: 1.29\n",
      "first, last: 1.2 9\n",
      "probabilities 1 & 2 0.40147 0.40147\n",
      "---------------------\n"
     ]
    },
    {
     "data": {
      "text/plain": [
       "[0.11232000000000009, 0.74215, 0.80294]"
      ]
     },
     "execution_count": 25,
     "metadata": {},
     "output_type": "execute_result"
    }
   ],
   "source": [
    "n = 10\n",
    "p =0.4\n",
    "\n",
    "mu = prd.binomial_distribution_mean(n,p)\n",
    "sigma = prd.binomial_distribution_standard_deviation(n,p)\n",
    "\"\"\"\n",
    "mu = []\n",
    "sigma = []\n",
    "\n",
    "for i in range(len(n)):\n",
    "    mu.append(prd.binomial_distribution_mean(n[i], p[i]))\n",
    "    sigma.append(prd.binomial_distribution_standard_deviation(n[i], p[i]))\n",
    "\"\"\"\n",
    "\n",
    "    \n",
    "x1 = np.array([5.5,3,2])\n",
    "x2 = np.array([6.5, math.inf,6])\n",
    "\n",
    "bin_prob = []\n",
    "\"\"\"\n",
    "for j in range(len(mu)):\n",
    "    for k in range(len(x1[0])):\n",
    "        try:\n",
    "            prob = prd.normal_distribution(mu[j], sigma[j], x1[j][k], x2[j][k])\n",
    "        except:\n",
    "            prob = 'Can not be determined'\n",
    "        bin_prob.append(prob)\n",
    "        print(\"---------------------\")\n",
    "    \n",
    "\"\"\"\n",
    "#for j in range(len(mu)):\n",
    "for k in range(len(x1)):\n",
    "    try:\n",
    "        prob = prd.normal_distribution(mu, sigma, x1[k], x2[k])\n",
    "    except:\n",
    "        prob = 'Can not be determined'\n",
    "    bin_prob.append(prob)\n",
    "    print(\"---------------------\")\n",
    "    \n",
    "bin_prob"
   ]
  },
  {
   "cell_type": "code",
   "execution_count": 44,
   "metadata": {},
   "outputs": [
    {
     "name": "stdout",
     "output_type": "stream",
     "text": [
      "-inf 0.32\n",
      "a1\n",
      "z string: 0.32\n",
      "first, last: 0.3 2\n",
      "-inf -2.96\n",
      "a2\n",
      "z string: 2.96\n",
      "first, last: 2.9 6\n"
     ]
    },
    {
     "data": {
      "text/plain": [
       "[0.62552, 0.0015400000000000001]"
      ]
     },
     "execution_count": 44,
     "metadata": {},
     "output_type": "execute_result"
    }
   ],
   "source": [
    "mu = np.array([])\n",
    "sigma = 25\n",
    "x1 = np.array([-math.inf, -math.inf])\n",
    "x2 = np.array([4,3])*82\n",
    "\n",
    "prediction = []\n",
    "for i in range(2):\n",
    "    prediction.append(prd.normal_distribution(mu, sigma, x1[i], x2[i]))\n",
    "    \n",
    "prediction"
   ]
  },
  {
   "cell_type": "code",
   "execution_count": 17,
   "metadata": {},
   "outputs": [
    {
     "data": {
      "text/plain": [
       "[0.62742241, 0.31018636000000005, 0.05750646, 0.00473836, 0.00014641]"
      ]
     },
     "execution_count": 17,
     "metadata": {},
     "output_type": "execute_result"
    }
   ],
   "source": [
    "n = 4\n",
    "p = 0.11\n",
    "r = np.arange(0,5)\n",
    "\n",
    "prob = []\n",
    "for i in range(len(r)):\n",
    "    prob.append(prd.binomial_distribution(p, n, r[i]))\n",
    "    \n",
    "prob"
   ]
  },
  {
   "cell_type": "code",
   "execution_count": 24,
   "metadata": {},
   "outputs": [
    {
     "data": {
      "text/plain": [
       "[[1168.0, 15.283978539634239], [1021.7900000000001, 15.330091323928896]]"
      ]
     },
     "execution_count": 24,
     "metadata": {},
     "output_type": "execute_result"
    }
   ],
   "source": [
    "n = np.array([1460, 1327])\n",
    "p = np.array([80,77])*0.01\n",
    "\n",
    "result = []\n",
    "for i in range(len(n)):\n",
    "    res = []\n",
    "    res.append(prd.binomial_distribution_mean(n[i], p[i]))\n",
    "    res.append(prd.binomial_distribution_standard_deviation(n[i], p[i]))\n",
    "    result.append(res)\n",
    "    \n",
    "result"
   ]
  },
  {
   "cell_type": "code",
   "execution_count": 23,
   "metadata": {},
   "outputs": [
    {
     "data": {
      "text/plain": [
       "0.2305176507937677"
      ]
     },
     "execution_count": 23,
     "metadata": {},
     "output_type": "execute_result"
    }
   ],
   "source": [
    "prd.binomial_distribution(p,n,2)"
   ]
  },
  {
   "cell_type": "code",
   "execution_count": 22,
   "metadata": {},
   "outputs": [
    {
     "data": {
      "text/plain": [
       "0.2238318725470235"
      ]
     },
     "execution_count": 22,
     "metadata": {},
     "output_type": "execute_result"
    }
   ],
   "source": [
    "prd.poisson_distribution(n*p, 2)"
   ]
  },
  {
   "cell_type": "code",
   "execution_count": 48,
   "metadata": {},
   "outputs": [
    {
     "data": {
      "text/plain": [
       "0.0"
      ]
     },
     "execution_count": 48,
     "metadata": {},
     "output_type": "execute_result"
    }
   ],
   "source": [
    "prd.poisson_distribution(mu, 1)"
   ]
  },
  {
   "cell_type": "code",
   "execution_count": 44,
   "metadata": {},
   "outputs": [
    {
     "data": {
      "text/plain": [
       "array([15000,  8500, 10000,  7700, 11000])"
      ]
     },
     "execution_count": 44,
     "metadata": {},
     "output_type": "execute_result"
    }
   ],
   "source": [
    "prd.get_random_variable()"
   ]
  },
  {
   "cell_type": "code",
   "execution_count": null,
   "metadata": {},
   "outputs": [],
   "source": []
  },
  {
   "cell_type": "code",
   "execution_count": 36,
   "metadata": {},
   "outputs": [
    {
     "name": "stdout",
     "output_type": "stream",
     "text": [
      "-0.29 1.14\n",
      "a7\n",
      "z string: 1.14\n",
      "first, last: 1.1 4\n",
      "z string: 0.29\n",
      "first, last: 0.2 9\n",
      "probabilities 1 & 2 0.37285999999999997 0.11409000000000001\n"
     ]
    },
    {
     "data": {
      "text/plain": [
       "0.48695"
      ]
     },
     "execution_count": 36,
     "metadata": {},
     "output_type": "execute_result"
    }
   ],
   "source": [
    "prd.normal_distribution(5.07, 0.07, 5.1-0.05, 5.1+0.05)"
   ]
  },
  {
   "cell_type": "code",
   "execution_count": 73,
   "metadata": {},
   "outputs": [
    {
     "data": {
      "text/plain": [
       "0.31732"
      ]
     },
     "execution_count": 73,
     "metadata": {},
     "output_type": "execute_result"
    }
   ],
   "source": [
    "0.15866/0.5"
   ]
  },
  {
   "cell_type": "code",
   "execution_count": 62,
   "metadata": {},
   "outputs": [
    {
     "name": "stdout",
     "output_type": "stream",
     "text": [
      "z string: 4.3\n",
      "first, last: 4.3 0\n"
     ]
    },
    {
     "ename": "KeyError",
     "evalue": "4.3",
     "output_type": "error",
     "traceback": [
      "\u001b[1;31m---------------------------------------------------------------------------\u001b[0m",
      "\u001b[1;31mKeyError\u001b[0m                                  Traceback (most recent call last)",
      "\u001b[1;32mc:\\users\\pc\\appdata\\local\\programs\\python\\python37-32\\lib\\site-packages\\pandas\\core\\indexes\\base.py\u001b[0m in \u001b[0;36mget_loc\u001b[1;34m(self, key, method, tolerance)\u001b[0m\n\u001b[0;32m   2896\u001b[0m             \u001b[1;32mtry\u001b[0m\u001b[1;33m:\u001b[0m\u001b[1;33m\u001b[0m\u001b[1;33m\u001b[0m\u001b[0m\n\u001b[1;32m-> 2897\u001b[1;33m                 \u001b[1;32mreturn\u001b[0m \u001b[0mself\u001b[0m\u001b[1;33m.\u001b[0m\u001b[0m_engine\u001b[0m\u001b[1;33m.\u001b[0m\u001b[0mget_loc\u001b[0m\u001b[1;33m(\u001b[0m\u001b[0mkey\u001b[0m\u001b[1;33m)\u001b[0m\u001b[1;33m\u001b[0m\u001b[1;33m\u001b[0m\u001b[0m\n\u001b[0m\u001b[0;32m   2898\u001b[0m             \u001b[1;32mexcept\u001b[0m \u001b[0mKeyError\u001b[0m\u001b[1;33m:\u001b[0m\u001b[1;33m\u001b[0m\u001b[1;33m\u001b[0m\u001b[0m\n",
      "\u001b[1;32mpandas\\_libs\\index.pyx\u001b[0m in \u001b[0;36mpandas._libs.index.IndexEngine.get_loc\u001b[1;34m()\u001b[0m\n",
      "\u001b[1;32mpandas\\_libs\\index.pyx\u001b[0m in \u001b[0;36mpandas._libs.index.IndexEngine.get_loc\u001b[1;34m()\u001b[0m\n",
      "\u001b[1;32mpandas\\_libs\\hashtable_class_helper.pxi\u001b[0m in \u001b[0;36mpandas._libs.hashtable.Float64HashTable.get_item\u001b[1;34m()\u001b[0m\n",
      "\u001b[1;32mpandas\\_libs\\hashtable_class_helper.pxi\u001b[0m in \u001b[0;36mpandas._libs.hashtable.Float64HashTable.get_item\u001b[1;34m()\u001b[0m\n",
      "\u001b[1;31mKeyError\u001b[0m: 4.3",
      "\nDuring handling of the above exception, another exception occurred:\n",
      "\u001b[1;31mKeyError\u001b[0m                                  Traceback (most recent call last)",
      "\u001b[1;32m<ipython-input-62-ab29100086f5>\u001b[0m in \u001b[0;36m<module>\u001b[1;34m\u001b[0m\n\u001b[1;32m----> 1\u001b[1;33m \u001b[0mprd\u001b[0m\u001b[1;33m.\u001b[0m\u001b[0mprobability_of_num_standard_deviations\u001b[0m\u001b[1;33m(\u001b[0m\u001b[1;34m'cumulative.csv'\u001b[0m\u001b[1;33m,\u001b[0m \u001b[1;36m4.3\u001b[0m\u001b[1;33m)\u001b[0m\u001b[1;33m\u001b[0m\u001b[1;33m\u001b[0m\u001b[0m\n\u001b[0m",
      "\u001b[1;32m<ipython-input-58-4c53c2d374a4>\u001b[0m in \u001b[0;36mprobability_of_num_standard_deviations\u001b[1;34m(self, file, z)\u001b[0m\n\u001b[0;32m    161\u001b[0m \u001b[1;33m\u001b[0m\u001b[0m\n\u001b[0;32m    162\u001b[0m         \u001b[0mnormal_table\u001b[0m \u001b[1;33m=\u001b[0m \u001b[0mself\u001b[0m\u001b[1;33m.\u001b[0m\u001b[0mstandard_normal_table\u001b[0m\u001b[1;33m(\u001b[0m\u001b[0mfile\u001b[0m\u001b[1;33m)\u001b[0m\u001b[1;33m\u001b[0m\u001b[1;33m\u001b[0m\u001b[0m\n\u001b[1;32m--> 163\u001b[1;33m         \u001b[0mprobability_value\u001b[0m \u001b[1;33m=\u001b[0m \u001b[0mnormal_table\u001b[0m\u001b[1;33m.\u001b[0m\u001b[0mloc\u001b[0m\u001b[1;33m[\u001b[0m\u001b[0mfirst_num\u001b[0m\u001b[1;33m]\u001b[0m\u001b[1;33m[\u001b[0m\u001b[0mlast_num\u001b[0m\u001b[1;33m]\u001b[0m\u001b[1;33m\u001b[0m\u001b[1;33m\u001b[0m\u001b[0m\n\u001b[0m\u001b[0;32m    164\u001b[0m \u001b[1;33m\u001b[0m\u001b[0m\n\u001b[0;32m    165\u001b[0m         \u001b[1;32mreturn\u001b[0m \u001b[0mprobability_value\u001b[0m\u001b[1;33m\u001b[0m\u001b[1;33m\u001b[0m\u001b[0m\n",
      "\u001b[1;32mc:\\users\\pc\\appdata\\local\\programs\\python\\python37-32\\lib\\site-packages\\pandas\\core\\indexing.py\u001b[0m in \u001b[0;36m__getitem__\u001b[1;34m(self, key)\u001b[0m\n\u001b[0;32m   1422\u001b[0m \u001b[1;33m\u001b[0m\u001b[0m\n\u001b[0;32m   1423\u001b[0m             \u001b[0mmaybe_callable\u001b[0m \u001b[1;33m=\u001b[0m \u001b[0mcom\u001b[0m\u001b[1;33m.\u001b[0m\u001b[0mapply_if_callable\u001b[0m\u001b[1;33m(\u001b[0m\u001b[0mkey\u001b[0m\u001b[1;33m,\u001b[0m \u001b[0mself\u001b[0m\u001b[1;33m.\u001b[0m\u001b[0mobj\u001b[0m\u001b[1;33m)\u001b[0m\u001b[1;33m\u001b[0m\u001b[1;33m\u001b[0m\u001b[0m\n\u001b[1;32m-> 1424\u001b[1;33m             \u001b[1;32mreturn\u001b[0m \u001b[0mself\u001b[0m\u001b[1;33m.\u001b[0m\u001b[0m_getitem_axis\u001b[0m\u001b[1;33m(\u001b[0m\u001b[0mmaybe_callable\u001b[0m\u001b[1;33m,\u001b[0m \u001b[0maxis\u001b[0m\u001b[1;33m=\u001b[0m\u001b[0maxis\u001b[0m\u001b[1;33m)\u001b[0m\u001b[1;33m\u001b[0m\u001b[1;33m\u001b[0m\u001b[0m\n\u001b[0m\u001b[0;32m   1425\u001b[0m \u001b[1;33m\u001b[0m\u001b[0m\n\u001b[0;32m   1426\u001b[0m     \u001b[1;32mdef\u001b[0m \u001b[0m_is_scalar_access\u001b[0m\u001b[1;33m(\u001b[0m\u001b[0mself\u001b[0m\u001b[1;33m,\u001b[0m \u001b[0mkey\u001b[0m\u001b[1;33m:\u001b[0m \u001b[0mTuple\u001b[0m\u001b[1;33m)\u001b[0m\u001b[1;33m:\u001b[0m\u001b[1;33m\u001b[0m\u001b[1;33m\u001b[0m\u001b[0m\n",
      "\u001b[1;32mc:\\users\\pc\\appdata\\local\\programs\\python\\python37-32\\lib\\site-packages\\pandas\\core\\indexing.py\u001b[0m in \u001b[0;36m_getitem_axis\u001b[1;34m(self, key, axis)\u001b[0m\n\u001b[0;32m   1848\u001b[0m         \u001b[1;31m# fall thru to straight lookup\u001b[0m\u001b[1;33m\u001b[0m\u001b[1;33m\u001b[0m\u001b[1;33m\u001b[0m\u001b[0m\n\u001b[0;32m   1849\u001b[0m         \u001b[0mself\u001b[0m\u001b[1;33m.\u001b[0m\u001b[0m_validate_key\u001b[0m\u001b[1;33m(\u001b[0m\u001b[0mkey\u001b[0m\u001b[1;33m,\u001b[0m \u001b[0maxis\u001b[0m\u001b[1;33m)\u001b[0m\u001b[1;33m\u001b[0m\u001b[1;33m\u001b[0m\u001b[0m\n\u001b[1;32m-> 1850\u001b[1;33m         \u001b[1;32mreturn\u001b[0m \u001b[0mself\u001b[0m\u001b[1;33m.\u001b[0m\u001b[0m_get_label\u001b[0m\u001b[1;33m(\u001b[0m\u001b[0mkey\u001b[0m\u001b[1;33m,\u001b[0m \u001b[0maxis\u001b[0m\u001b[1;33m=\u001b[0m\u001b[0maxis\u001b[0m\u001b[1;33m)\u001b[0m\u001b[1;33m\u001b[0m\u001b[1;33m\u001b[0m\u001b[0m\n\u001b[0m\u001b[0;32m   1851\u001b[0m \u001b[1;33m\u001b[0m\u001b[0m\n\u001b[0;32m   1852\u001b[0m \u001b[1;33m\u001b[0m\u001b[0m\n",
      "\u001b[1;32mc:\\users\\pc\\appdata\\local\\programs\\python\\python37-32\\lib\\site-packages\\pandas\\core\\indexing.py\u001b[0m in \u001b[0;36m_get_label\u001b[1;34m(self, label, axis)\u001b[0m\n\u001b[0;32m    158\u001b[0m             \u001b[1;32mraise\u001b[0m \u001b[0mIndexingError\u001b[0m\u001b[1;33m(\u001b[0m\u001b[1;34m\"no slices here, handle elsewhere\"\u001b[0m\u001b[1;33m)\u001b[0m\u001b[1;33m\u001b[0m\u001b[1;33m\u001b[0m\u001b[0m\n\u001b[0;32m    159\u001b[0m \u001b[1;33m\u001b[0m\u001b[0m\n\u001b[1;32m--> 160\u001b[1;33m         \u001b[1;32mreturn\u001b[0m \u001b[0mself\u001b[0m\u001b[1;33m.\u001b[0m\u001b[0mobj\u001b[0m\u001b[1;33m.\u001b[0m\u001b[0m_xs\u001b[0m\u001b[1;33m(\u001b[0m\u001b[0mlabel\u001b[0m\u001b[1;33m,\u001b[0m \u001b[0maxis\u001b[0m\u001b[1;33m=\u001b[0m\u001b[0maxis\u001b[0m\u001b[1;33m)\u001b[0m\u001b[1;33m\u001b[0m\u001b[1;33m\u001b[0m\u001b[0m\n\u001b[0m\u001b[0;32m    161\u001b[0m \u001b[1;33m\u001b[0m\u001b[0m\n\u001b[0;32m    162\u001b[0m     \u001b[1;32mdef\u001b[0m \u001b[0m_get_loc\u001b[0m\u001b[1;33m(\u001b[0m\u001b[0mself\u001b[0m\u001b[1;33m,\u001b[0m \u001b[0mkey\u001b[0m\u001b[1;33m:\u001b[0m \u001b[0mint\u001b[0m\u001b[1;33m,\u001b[0m \u001b[0maxis\u001b[0m\u001b[1;33m:\u001b[0m \u001b[0mint\u001b[0m\u001b[1;33m)\u001b[0m\u001b[1;33m:\u001b[0m\u001b[1;33m\u001b[0m\u001b[1;33m\u001b[0m\u001b[0m\n",
      "\u001b[1;32mc:\\users\\pc\\appdata\\local\\programs\\python\\python37-32\\lib\\site-packages\\pandas\\core\\generic.py\u001b[0m in \u001b[0;36mxs\u001b[1;34m(self, key, axis, level, drop_level)\u001b[0m\n\u001b[0;32m   3735\u001b[0m             \u001b[0mloc\u001b[0m\u001b[1;33m,\u001b[0m \u001b[0mnew_index\u001b[0m \u001b[1;33m=\u001b[0m \u001b[0mself\u001b[0m\u001b[1;33m.\u001b[0m\u001b[0mindex\u001b[0m\u001b[1;33m.\u001b[0m\u001b[0mget_loc_level\u001b[0m\u001b[1;33m(\u001b[0m\u001b[0mkey\u001b[0m\u001b[1;33m,\u001b[0m \u001b[0mdrop_level\u001b[0m\u001b[1;33m=\u001b[0m\u001b[0mdrop_level\u001b[0m\u001b[1;33m)\u001b[0m\u001b[1;33m\u001b[0m\u001b[1;33m\u001b[0m\u001b[0m\n\u001b[0;32m   3736\u001b[0m         \u001b[1;32melse\u001b[0m\u001b[1;33m:\u001b[0m\u001b[1;33m\u001b[0m\u001b[1;33m\u001b[0m\u001b[0m\n\u001b[1;32m-> 3737\u001b[1;33m             \u001b[0mloc\u001b[0m \u001b[1;33m=\u001b[0m \u001b[0mself\u001b[0m\u001b[1;33m.\u001b[0m\u001b[0mindex\u001b[0m\u001b[1;33m.\u001b[0m\u001b[0mget_loc\u001b[0m\u001b[1;33m(\u001b[0m\u001b[0mkey\u001b[0m\u001b[1;33m)\u001b[0m\u001b[1;33m\u001b[0m\u001b[1;33m\u001b[0m\u001b[0m\n\u001b[0m\u001b[0;32m   3738\u001b[0m \u001b[1;33m\u001b[0m\u001b[0m\n\u001b[0;32m   3739\u001b[0m             \u001b[1;32mif\u001b[0m \u001b[0misinstance\u001b[0m\u001b[1;33m(\u001b[0m\u001b[0mloc\u001b[0m\u001b[1;33m,\u001b[0m \u001b[0mnp\u001b[0m\u001b[1;33m.\u001b[0m\u001b[0mndarray\u001b[0m\u001b[1;33m)\u001b[0m\u001b[1;33m:\u001b[0m\u001b[1;33m\u001b[0m\u001b[1;33m\u001b[0m\u001b[0m\n",
      "\u001b[1;32mc:\\users\\pc\\appdata\\local\\programs\\python\\python37-32\\lib\\site-packages\\pandas\\core\\indexes\\numeric.py\u001b[0m in \u001b[0;36mget_loc\u001b[1;34m(self, key, method, tolerance)\u001b[0m\n\u001b[0;32m    477\u001b[0m         \u001b[1;32mexcept\u001b[0m \u001b[1;33m(\u001b[0m\u001b[0mTypeError\u001b[0m\u001b[1;33m,\u001b[0m \u001b[0mNotImplementedError\u001b[0m\u001b[1;33m)\u001b[0m\u001b[1;33m:\u001b[0m\u001b[1;33m\u001b[0m\u001b[1;33m\u001b[0m\u001b[0m\n\u001b[0;32m    478\u001b[0m             \u001b[1;32mpass\u001b[0m\u001b[1;33m\u001b[0m\u001b[1;33m\u001b[0m\u001b[0m\n\u001b[1;32m--> 479\u001b[1;33m         \u001b[1;32mreturn\u001b[0m \u001b[0msuper\u001b[0m\u001b[1;33m(\u001b[0m\u001b[1;33m)\u001b[0m\u001b[1;33m.\u001b[0m\u001b[0mget_loc\u001b[0m\u001b[1;33m(\u001b[0m\u001b[0mkey\u001b[0m\u001b[1;33m,\u001b[0m \u001b[0mmethod\u001b[0m\u001b[1;33m=\u001b[0m\u001b[0mmethod\u001b[0m\u001b[1;33m,\u001b[0m \u001b[0mtolerance\u001b[0m\u001b[1;33m=\u001b[0m\u001b[0mtolerance\u001b[0m\u001b[1;33m)\u001b[0m\u001b[1;33m\u001b[0m\u001b[1;33m\u001b[0m\u001b[0m\n\u001b[0m\u001b[0;32m    480\u001b[0m \u001b[1;33m\u001b[0m\u001b[0m\n\u001b[0;32m    481\u001b[0m     \u001b[1;33m@\u001b[0m\u001b[0mcache_readonly\u001b[0m\u001b[1;33m\u001b[0m\u001b[1;33m\u001b[0m\u001b[0m\n",
      "\u001b[1;32mc:\\users\\pc\\appdata\\local\\programs\\python\\python37-32\\lib\\site-packages\\pandas\\core\\indexes\\base.py\u001b[0m in \u001b[0;36mget_loc\u001b[1;34m(self, key, method, tolerance)\u001b[0m\n\u001b[0;32m   2897\u001b[0m                 \u001b[1;32mreturn\u001b[0m \u001b[0mself\u001b[0m\u001b[1;33m.\u001b[0m\u001b[0m_engine\u001b[0m\u001b[1;33m.\u001b[0m\u001b[0mget_loc\u001b[0m\u001b[1;33m(\u001b[0m\u001b[0mkey\u001b[0m\u001b[1;33m)\u001b[0m\u001b[1;33m\u001b[0m\u001b[1;33m\u001b[0m\u001b[0m\n\u001b[0;32m   2898\u001b[0m             \u001b[1;32mexcept\u001b[0m \u001b[0mKeyError\u001b[0m\u001b[1;33m:\u001b[0m\u001b[1;33m\u001b[0m\u001b[1;33m\u001b[0m\u001b[0m\n\u001b[1;32m-> 2899\u001b[1;33m                 \u001b[1;32mreturn\u001b[0m \u001b[0mself\u001b[0m\u001b[1;33m.\u001b[0m\u001b[0m_engine\u001b[0m\u001b[1;33m.\u001b[0m\u001b[0mget_loc\u001b[0m\u001b[1;33m(\u001b[0m\u001b[0mself\u001b[0m\u001b[1;33m.\u001b[0m\u001b[0m_maybe_cast_indexer\u001b[0m\u001b[1;33m(\u001b[0m\u001b[0mkey\u001b[0m\u001b[1;33m)\u001b[0m\u001b[1;33m)\u001b[0m\u001b[1;33m\u001b[0m\u001b[1;33m\u001b[0m\u001b[0m\n\u001b[0m\u001b[0;32m   2900\u001b[0m         \u001b[0mindexer\u001b[0m \u001b[1;33m=\u001b[0m \u001b[0mself\u001b[0m\u001b[1;33m.\u001b[0m\u001b[0mget_indexer\u001b[0m\u001b[1;33m(\u001b[0m\u001b[1;33m[\u001b[0m\u001b[0mkey\u001b[0m\u001b[1;33m]\u001b[0m\u001b[1;33m,\u001b[0m \u001b[0mmethod\u001b[0m\u001b[1;33m=\u001b[0m\u001b[0mmethod\u001b[0m\u001b[1;33m,\u001b[0m \u001b[0mtolerance\u001b[0m\u001b[1;33m=\u001b[0m\u001b[0mtolerance\u001b[0m\u001b[1;33m)\u001b[0m\u001b[1;33m\u001b[0m\u001b[1;33m\u001b[0m\u001b[0m\n\u001b[0;32m   2901\u001b[0m         \u001b[1;32mif\u001b[0m \u001b[0mindexer\u001b[0m\u001b[1;33m.\u001b[0m\u001b[0mndim\u001b[0m \u001b[1;33m>\u001b[0m \u001b[1;36m1\u001b[0m \u001b[1;32mor\u001b[0m \u001b[0mindexer\u001b[0m\u001b[1;33m.\u001b[0m\u001b[0msize\u001b[0m \u001b[1;33m>\u001b[0m \u001b[1;36m1\u001b[0m\u001b[1;33m:\u001b[0m\u001b[1;33m\u001b[0m\u001b[1;33m\u001b[0m\u001b[0m\n",
      "\u001b[1;32mpandas\\_libs\\index.pyx\u001b[0m in \u001b[0;36mpandas._libs.index.IndexEngine.get_loc\u001b[1;34m()\u001b[0m\n",
      "\u001b[1;32mpandas\\_libs\\index.pyx\u001b[0m in \u001b[0;36mpandas._libs.index.IndexEngine.get_loc\u001b[1;34m()\u001b[0m\n",
      "\u001b[1;32mpandas\\_libs\\hashtable_class_helper.pxi\u001b[0m in \u001b[0;36mpandas._libs.hashtable.Float64HashTable.get_item\u001b[1;34m()\u001b[0m\n",
      "\u001b[1;32mpandas\\_libs\\hashtable_class_helper.pxi\u001b[0m in \u001b[0;36mpandas._libs.hashtable.Float64HashTable.get_item\u001b[1;34m()\u001b[0m\n",
      "\u001b[1;31mKeyError\u001b[0m: 4.3"
     ]
    }
   ],
   "source": [
    "prd.probability_of_num_standard_deviations('cumulative.csv', 4.3)"
   ]
  },
  {
   "cell_type": "code",
   "execution_count": 88,
   "metadata": {},
   "outputs": [
    {
     "data": {
      "text/plain": [
       "0.1353352832366127"
      ]
     },
     "execution_count": 88,
     "metadata": {},
     "output_type": "execute_result"
    }
   ],
   "source": [
    "prd.poisson_distribution(50*0.04,0)"
   ]
  },
  {
   "cell_type": "code",
   "execution_count": 93,
   "metadata": {},
   "outputs": [
    {
     "name": "stdout",
     "output_type": "stream",
     "text": [
      "0.006738\n",
      "0.018133\n",
      "0.000157\n"
     ]
    }
   ],
   "source": [
    "n = 1000\n",
    "p = 0.005\n",
    "m = n*p\n",
    "\n",
    "r = np.array([0, 10,15])\n",
    "for i in r:\n",
    "    c = prd.poisson_distribution(m,i)\n",
    "    print(round(c,6))"
   ]
  },
  {
   "cell_type": "code",
   "execution_count": 81,
   "metadata": {},
   "outputs": [
    {
     "name": "stdout",
     "output_type": "stream",
     "text": [
      "Random Variables(X): [ 0  1  2  3  4  5  6  7  8  9 10 11 12 13 14 15 16 17 18 19 20 21 22 23\n",
      " 24 25 26 27 28 29 30 31 32 33 34 35 36 37 38 39 40 41 42 43 44 45 46 47\n",
      " 48 49 50 51 52 53 54 55 56 57 58 59 60 61 62 63 64 65 66 67 68 69 70 71\n",
      " 72 73 74 75 76 77 78 79 80 81 82 83 84 85 86 87 88 89 90 91 92 93 94 95\n",
      " 96 97 98 99]\n",
      " \n",
      "Probabilities: None\n"
     ]
    }
   ],
   "source": [
    "print(prd)"
   ]
  },
  {
   "cell_type": "code",
   "execution_count": 77,
   "metadata": {},
   "outputs": [
    {
     "data": {
      "text/plain": [
       "array([-1,  0,  1,  2,  3,  4,  5,  6,  7,  8,  9])"
      ]
     },
     "execution_count": 77,
     "metadata": {},
     "output_type": "execute_result"
    }
   ],
   "source": [
    "rng = np.arange(-1,10)\n",
    "rng"
   ]
  },
  {
   "cell_type": "code",
   "execution_count": 14,
   "metadata": {},
   "outputs": [
    {
     "data": {
      "text/plain": [
       "[26.3, 17.659999999999997, 11.57, 9.219999999999999, 11.120000000000001, 16.59]"
      ]
     },
     "execution_count": 14,
     "metadata": {},
     "output_type": "execute_result"
    }
   ],
   "source": [
    "pd.expected_value(7,10)"
   ]
  },
  {
   "cell_type": "code",
   "execution_count": 79,
   "metadata": {},
   "outputs": [
    {
     "data": {
      "text/html": [
       "<div>\n",
       "<style scoped>\n",
       "    .dataframe tbody tr th:only-of-type {\n",
       "        vertical-align: middle;\n",
       "    }\n",
       "\n",
       "    .dataframe tbody tr th {\n",
       "        vertical-align: top;\n",
       "    }\n",
       "\n",
       "    .dataframe thead th {\n",
       "        text-align: right;\n",
       "    }\n",
       "</style>\n",
       "<table border=\"1\" class=\"dataframe\">\n",
       "  <thead>\n",
       "    <tr style=\"text-align: right;\">\n",
       "      <th></th>\n",
       "      <th>Interval</th>\n",
       "      <th>Frequency</th>\n",
       "      <th>%</th>\n",
       "    </tr>\n",
       "  </thead>\n",
       "  <tbody>\n",
       "    <tr>\n",
       "      <td>0</td>\n",
       "      <td>-1-0</td>\n",
       "      <td>2</td>\n",
       "      <td>0.166667</td>\n",
       "    </tr>\n",
       "    <tr>\n",
       "      <td>1</td>\n",
       "      <td>0.1-1</td>\n",
       "      <td>1</td>\n",
       "      <td>0.083333</td>\n",
       "    </tr>\n",
       "    <tr>\n",
       "      <td>2</td>\n",
       "      <td>1.1-2</td>\n",
       "      <td>2</td>\n",
       "      <td>0.166667</td>\n",
       "    </tr>\n",
       "    <tr>\n",
       "      <td>3</td>\n",
       "      <td>2.1-3</td>\n",
       "      <td>1</td>\n",
       "      <td>0.083333</td>\n",
       "    </tr>\n",
       "    <tr>\n",
       "      <td>4</td>\n",
       "      <td>3.1-4</td>\n",
       "      <td>3</td>\n",
       "      <td>0.250000</td>\n",
       "    </tr>\n",
       "    <tr>\n",
       "      <td>5</td>\n",
       "      <td>4.1-5</td>\n",
       "      <td>1</td>\n",
       "      <td>0.083333</td>\n",
       "    </tr>\n",
       "    <tr>\n",
       "      <td>6</td>\n",
       "      <td>5.1-6</td>\n",
       "      <td>1</td>\n",
       "      <td>0.083333</td>\n",
       "    </tr>\n",
       "    <tr>\n",
       "      <td>7</td>\n",
       "      <td>6.1-7</td>\n",
       "      <td>1</td>\n",
       "      <td>0.083333</td>\n",
       "    </tr>\n",
       "    <tr>\n",
       "      <td>8</td>\n",
       "      <td>7.1-8</td>\n",
       "      <td>0</td>\n",
       "      <td>0.000000</td>\n",
       "    </tr>\n",
       "    <tr>\n",
       "      <td>9</td>\n",
       "      <td>8-7</td>\n",
       "      <td>0</td>\n",
       "      <td>0.000000</td>\n",
       "    </tr>\n",
       "  </tbody>\n",
       "</table>\n",
       "</div>"
      ],
      "text/plain": [
       "  Interval  Frequency         %\n",
       "0     -1-0          2  0.166667\n",
       "1    0.1-1          1  0.083333\n",
       "2    1.1-2          2  0.166667\n",
       "3    2.1-3          1  0.083333\n",
       "4    3.1-4          3  0.250000\n",
       "5    4.1-5          1  0.083333\n",
       "6    5.1-6          1  0.083333\n",
       "7    6.1-7          1  0.083333\n",
       "8    7.1-8          0  0.000000\n",
       "9      8-7          0  0.000000"
      ]
     },
     "execution_count": 79,
     "metadata": {},
     "output_type": "execute_result"
    }
   ],
   "source": [
    "r.classification(rng)"
   ]
  },
  {
   "cell_type": "code",
   "execution_count": 28,
   "metadata": {},
   "outputs": [
    {
     "data": {
      "text/plain": [
       "0.004747561509942996"
      ]
     },
     "execution_count": 28,
     "metadata": {},
     "output_type": "execute_result"
    }
   ],
   "source": [
    "prd.binomial_distribution(0.3,15,0)"
   ]
  },
  {
   "cell_type": "code",
   "execution_count": 39,
   "metadata": {},
   "outputs": [
    {
     "data": {
      "image/png": "[encoded data removed]",
      "text/plain": [
       "<Figure size 432x288 with 1 Axes>"
      ]
     },
     "metadata": {
      "needs_background": "light"
     },
     "output_type": "display_data"
    }
   ],
   "source": [
    "pd.binomial_distribution_evaluation(0.45, 12)"
   ]
  },
  {
   "cell_type": "code",
   "execution_count": 33,
   "metadata": {},
   "outputs": [
    {
     "name": "stdout",
     "output_type": "stream",
     "text": [
      "c:  [0.006737946999085469, 0.033689734995427344, 0.08422433748856836, 0.14037389581428059, 0.17546736976785074]\n",
      "bd:  0.44049328506521246\n"
     ]
    }
   ],
   "source": [
    "c = []\n",
    "for i in range(5):\n",
    "    #c.append(prd.binomial_distribution(0.3, 15, i)) \n",
    "    c.append(prd.poisson_distribution(5,i))\n",
    "\n",
    "print(\"c: \", c)\n",
    "print(\"bd: \",np.array(c).sum())"
   ]
  },
  {
   "cell_type": "code",
   "execution_count": 20,
   "metadata": {},
   "outputs": [
    {
     "data": {
      "text/html": [
       "<div>\n",
       "<style scoped>\n",
       "    .dataframe tbody tr th:only-of-type {\n",
       "        vertical-align: middle;\n",
       "    }\n",
       "\n",
       "    .dataframe tbody tr th {\n",
       "        vertical-align: top;\n",
       "    }\n",
       "\n",
       "    .dataframe thead th {\n",
       "        text-align: right;\n",
       "    }\n",
       "</style>\n",
       "<table border=\"1\" class=\"dataframe\">\n",
       "  <thead>\n",
       "    <tr style=\"text-align: right;\">\n",
       "      <th></th>\n",
       "      <th>n</th>\n",
       "      <th>p</th>\n",
       "      <th>mean</th>\n",
       "      <th>standard deviation</th>\n",
       "    </tr>\n",
       "  </thead>\n",
       "  <tbody>\n",
       "    <tr>\n",
       "      <td>0</td>\n",
       "      <td>15</td>\n",
       "      <td>0.20</td>\n",
       "      <td>3.00</td>\n",
       "      <td>1.549193</td>\n",
       "    </tr>\n",
       "    <tr>\n",
       "      <td>1</td>\n",
       "      <td>8</td>\n",
       "      <td>0.42</td>\n",
       "      <td>3.36</td>\n",
       "      <td>1.395994</td>\n",
       "    </tr>\n",
       "    <tr>\n",
       "      <td>2</td>\n",
       "      <td>72</td>\n",
       "      <td>0.06</td>\n",
       "      <td>4.32</td>\n",
       "      <td>2.015143</td>\n",
       "    </tr>\n",
       "    <tr>\n",
       "      <td>3</td>\n",
       "      <td>29</td>\n",
       "      <td>0.49</td>\n",
       "      <td>14.21</td>\n",
       "      <td>2.692044</td>\n",
       "    </tr>\n",
       "    <tr>\n",
       "      <td>4</td>\n",
       "      <td>642</td>\n",
       "      <td>0.21</td>\n",
       "      <td>134.82</td>\n",
       "      <td>10.320262</td>\n",
       "    </tr>\n",
       "  </tbody>\n",
       "</table>\n",
       "</div>"
      ],
      "text/plain": [
       "     n     p    mean  standard deviation\n",
       "0   15  0.20    3.00            1.549193\n",
       "1    8  0.42    3.36            1.395994\n",
       "2   72  0.06    4.32            2.015143\n",
       "3   29  0.49   14.21            2.692044\n",
       "4  642  0.21  134.82           10.320262"
      ]
     },
     "execution_count": 20,
     "metadata": {},
     "output_type": "execute_result"
    }
   ],
   "source": [
    "n = np.array([15,8,72,29,642])\n",
    "p = np.array([20,42,6,49,21])*0.01\n",
    "\n",
    "mean = []\n",
    "stnd = []\n",
    "for i in range(len(n)):\n",
    "    mean.append(prd.binomial_distribution_mean(n[i], p[i]))\n",
    "    stnd.append(prd.binomial_distribution_standard_deviation(n[i], p[i]))\n",
    "    \n",
    "result = {\n",
    "    \"n\": n,\n",
    "    \"p\": p,\n",
    "    \"mean\": mean,\n",
    "    \"standard deviation\": stnd,\n",
    "}\n",
    "\n",
    "pd.DataFrame(result)"
   ]
  },
  {
   "cell_type": "code",
   "execution_count": 52,
   "metadata": {},
   "outputs": [
    {
     "data": {
      "text/html": [
       "<div>\n",
       "<style scoped>\n",
       "    .dataframe tbody tr th:only-of-type {\n",
       "        vertical-align: middle;\n",
       "    }\n",
       "\n",
       "    .dataframe tbody tr th {\n",
       "        vertical-align: top;\n",
       "    }\n",
       "\n",
       "    .dataframe thead th {\n",
       "        text-align: right;\n",
       "    }\n",
       "</style>\n",
       "<table border=\"1\" class=\"dataframe\">\n",
       "  <thead>\n",
       "    <tr style=\"text-align: right;\">\n",
       "      <th></th>\n",
       "      <th>p</th>\n",
       "      <th>r</th>\n",
       "      <th>probability</th>\n",
       "    </tr>\n",
       "  </thead>\n",
       "  <tbody>\n",
       "    <tr>\n",
       "      <td>0</td>\n",
       "      <td>0.30</td>\n",
       "      <td>4</td>\n",
       "      <td>0.200121</td>\n",
       "    </tr>\n",
       "    <tr>\n",
       "      <td>1</td>\n",
       "      <td>0.45</td>\n",
       "      <td>10</td>\n",
       "      <td>0.000341</td>\n",
       "    </tr>\n",
       "    <tr>\n",
       "      <td>2</td>\n",
       "      <td>0.15</td>\n",
       "      <td>2</td>\n",
       "      <td>0.275897</td>\n",
       "    </tr>\n",
       "    <tr>\n",
       "      <td>3</td>\n",
       "      <td>0.70</td>\n",
       "      <td>2</td>\n",
       "      <td>0.001447</td>\n",
       "    </tr>\n",
       "  </tbody>\n",
       "</table>\n",
       "</div>"
      ],
      "text/plain": [
       "      p   r  probability\n",
       "0  0.30   4     0.200121\n",
       "1  0.45  10     0.000341\n",
       "2  0.15   2     0.275897\n",
       "3  0.70   2     0.001447"
      ]
     },
     "execution_count": 52,
     "metadata": {},
     "output_type": "execute_result"
    }
   ],
   "source": [
    "n = 10\n",
    "p = np.array([0.3, 1-0.55, 0.15, 1-0.3])\n",
    "r = np.array([4,10,2,2])\n",
    "\n",
    "prob = []\n",
    "for i in range(4):\n",
    "    prob.append(prd.binomial_distribution(p[i], 10, r[i]))\n",
    "    \n",
    "result = {\n",
    "    \"p\": p,\n",
    "    \"r\": r,\n",
    "    \"probability\": prob,\n",
    "}\n",
    "\n",
    "pd.DataFrame(result)"
   ]
  },
  {
   "cell_type": "code",
   "execution_count": 50,
   "metadata": {},
   "outputs": [
    {
     "data": {
      "text/plain": [
       "array([0.3 , 0.45, 0.15, 0.7 ])"
      ]
     },
     "execution_count": 50,
     "metadata": {},
     "output_type": "execute_result"
    }
   ],
   "source": [
    "p"
   ]
  },
  {
   "cell_type": "code",
   "execution_count": 82,
   "metadata": {},
   "outputs": [
    {
     "data": {
      "text/plain": [
       "[<matplotlib.lines.Line2D at 0x10b8b030>]"
      ]
     },
     "execution_count": 82,
     "metadata": {},
     "output_type": "execute_result"
    },
    {
     "data": {
      "image/png": "[encoded data removed]",
      "text/plain": [
       "<Figure size 432x288 with 1 Axes>"
      ]
     },
     "metadata": {
      "needs_background": "light"
     },
     "output_type": "display_data"
    }
   ],
   "source": [
    "plt.plot(m,f)"
   ]
  },
  {
   "cell_type": "code",
   "execution_count": 45,
   "metadata": {},
   "outputs": [],
   "source": [
    "a = np.array([1,2,3])\n",
    "b = np.array([[3,2,1],[4,3,2],[5,4,3]])"
   ]
  },
  {
   "cell_type": "code",
   "execution_count": 46,
   "metadata": {},
   "outputs": [
    {
     "data": {
      "text/plain": [
       "array([26, 20, 14])"
      ]
     },
     "execution_count": 46,
     "metadata": {},
     "output_type": "execute_result"
    }
   ],
   "source": [
    "a.dot(b)"
   ]
  },
  {
   "cell_type": "code",
   "execution_count": null,
   "metadata": {},
   "outputs": [],
   "source": [
    "np.tr"
   ]
  },
  {
   "cell_type": "code",
   "execution_count": 120,
   "metadata": {},
   "outputs": [
    {
     "data": {
      "text/plain": [
       "[<matplotlib.lines.Line2D at 0xede2bd0>]"
      ]
     },
     "execution_count": 120,
     "metadata": {},
     "output_type": "execute_result"
    },
    {
     "data": {
      "image/png": "[encoded data removed]",
      "text/plain": [
       "<Figure size 432x288 with 1 Axes>"
      ]
     },
     "metadata": {
      "needs_background": "light"
     },
     "output_type": "display_data"
    }
   ],
   "source": [
    "plt.plot(np.arange(0,len(xr.dataset),1), sorted(xr.dataset))"
   ]
  },
  {
   "cell_type": "code",
   "execution_count": 54,
   "metadata": {},
   "outputs": [],
   "source": [
    "xrc = measure_of_central_tendency(xc)\n",
    "xrd = measure_of_central_tendency(xd)"
   ]
  },
  {
   "cell_type": "code",
   "execution_count": 30,
   "metadata": {},
   "outputs": [
    {
     "data": {
      "text/plain": [
       "2.718281828459045"
      ]
     },
     "execution_count": 30,
     "metadata": {},
     "output_type": "execute_result"
    }
   ],
   "source": [
    "math.e"
   ]
  },
  {
   "cell_type": "code",
   "execution_count": 33,
   "metadata": {},
   "outputs": [
    {
     "name": "stdout",
     "output_type": "stream",
     "text": [
      "fx:  1330.0\n",
      "f:  20\n"
     ]
    },
    {
     "data": {
      "text/plain": [
       "66.5"
      ]
     },
     "execution_count": 33,
     "metadata": {},
     "output_type": "execute_result"
    }
   ],
   "source": [
    "xr.arithmetic_mean_by_frequency_distribution(dr)"
   ]
  },
  {
   "cell_type": "code",
   "execution_count": 60,
   "metadata": {},
   "outputs": [
    {
     "data": {
      "text/plain": [
       "4.3293333333333335"
      ]
     },
     "execution_count": 60,
     "metadata": {},
     "output_type": "execute_result"
    }
   ],
   "source": [
    "xrd.weighted_mean(w)"
   ]
  },
  {
   "cell_type": "code",
   "execution_count": 52,
   "metadata": {},
   "outputs": [],
   "source": [
    "n1 = xr.get_custom_width_of_class_interval(1,10,3)\n",
    "datarange1 = xr.get_custom_data_range(1,10,n1)\n",
    "n2 = xr.get_custom_width_of_class_interval(1,10,9)\n",
    "datarange2 = xr.get_custom_data_range(1,10,n2)"
   ]
  },
  {
   "cell_type": "code",
   "execution_count": 85,
   "metadata": {},
   "outputs": [],
   "source": [
    "#datarange1 = xr.get_data_range(n)\n",
    "#datarange2 = xr.get_data_range(8)\n",
    "#datarange3 = xr.get_data_range(9)"
   ]
  },
  {
   "cell_type": "code",
   "execution_count": 67,
   "metadata": {},
   "outputs": [
    {
     "data": {
      "text/plain": [
       "15"
      ]
     },
     "execution_count": 67,
     "metadata": {},
     "output_type": "execute_result"
    }
   ],
   "source": [
    "xr.get_number_of_intervals()"
   ]
  },
  {
   "cell_type": "code",
   "execution_count": 36,
   "metadata": {},
   "outputs": [
    {
     "name": "stdout",
     "output_type": "stream",
     "text": [
      "*********datarange1********\n",
      "  Interval  Frequency         %\n",
      "0      1-4         18  0.642857\n",
      "1    4.1-7          8  0.285714\n",
      "2      7-9          2  0.071429\n",
      "*********datarange2********\n",
      "  Interval  Frequency         %\n",
      "0      1-2         13  0.464286\n",
      "1    2.1-3          4  0.142857\n",
      "2    3.1-4          1  0.035714\n",
      "3    4.1-5          4  0.142857\n",
      "4    5.1-6          2  0.071429\n",
      "5    6.1-7          2  0.071429\n",
      "6    7.1-8          1  0.035714\n",
      "7    8.1-9          1  0.035714\n",
      "8      9-9          0  0.000000\n",
      "*********datarange3********\n"
     ]
    }
   ],
   "source": [
    "print(\"*********datarange1********\")\n",
    "#print(xr.classification(datarange))\n",
    "print(xr.classification(datarange1))\n",
    "print(\"*********datarange2********\")\n",
    "print(xr.classification(datarange2))\n",
    "print(\"*********datarange3********\")\n",
    "#print(xr.classification(datarange3))"
   ]
  },
  {
   "cell_type": "code",
   "execution_count": 64,
   "metadata": {},
   "outputs": [
    {
     "data": {
      "image/png": "[encoded data removed]",
      "text/plain": [
       "<Figure size 1080x432 with 1 Axes>"
      ]
     },
     "metadata": {
      "needs_background": "light"
     },
     "output_type": "display_data"
    }
   ],
   "source": [
    "xr.commulative_evaluation(dr, more_than=False)"
   ]
  },
  {
   "cell_type": "code",
   "execution_count": 63,
   "metadata": {},
   "outputs": [
    {
     "data": {
      "image/png": "[encoded data removed]",
      "text/plain": [
       "<Figure size 1080x432 with 1 Axes>"
      ]
     },
     "metadata": {
      "needs_background": "light"
     },
     "output_type": "display_data"
    }
   ],
   "source": [
    "xr.evaluation(dr)"
   ]
  },
  {
   "cell_type": "code",
   "execution_count": 39,
   "metadata": {},
   "outputs": [
    {
     "data": {
      "image/png": "[encoded data removed]",
      "text/plain": [
       "<Figure size 1080x432 with 1 Axes>"
      ]
     },
     "metadata": {
      "needs_background": "light"
     },
     "output_type": "display_data"
    }
   ],
   "source": [
    "xr.evaluation(datarange2)"
   ]
  },
  {
   "cell_type": "code",
   "execution_count": 28,
   "metadata": {},
   "outputs": [],
   "source": [
    "xp = xr.classification(datarange2)"
   ]
  },
  {
   "cell_type": "code",
   "execution_count": 29,
   "metadata": {},
   "outputs": [
    {
     "data": {
      "text/html": [
       "<div>\n",
       "<style scoped>\n",
       "    .dataframe tbody tr th:only-of-type {\n",
       "        vertical-align: middle;\n",
       "    }\n",
       "\n",
       "    .dataframe tbody tr th {\n",
       "        vertical-align: top;\n",
       "    }\n",
       "\n",
       "    .dataframe thead th {\n",
       "        text-align: right;\n",
       "    }\n",
       "</style>\n",
       "<table border=\"1\" class=\"dataframe\">\n",
       "  <thead>\n",
       "    <tr style=\"text-align: right;\">\n",
       "      <th></th>\n",
       "      <th>Interval</th>\n",
       "      <th>Frequency</th>\n",
       "      <th>%</th>\n",
       "    </tr>\n",
       "  </thead>\n",
       "  <tbody>\n",
       "    <tr>\n",
       "      <td>0</td>\n",
       "      <td>5.0-7.0</td>\n",
       "      <td>15</td>\n",
       "      <td>0.375</td>\n",
       "    </tr>\n",
       "    <tr>\n",
       "      <td>1</td>\n",
       "      <td>7.1-9.0</td>\n",
       "      <td>11</td>\n",
       "      <td>0.275</td>\n",
       "    </tr>\n",
       "    <tr>\n",
       "      <td>2</td>\n",
       "      <td>9.1-11.0</td>\n",
       "      <td>8</td>\n",
       "      <td>0.200</td>\n",
       "    </tr>\n",
       "    <tr>\n",
       "      <td>3</td>\n",
       "      <td>11.1-13.0</td>\n",
       "      <td>3</td>\n",
       "      <td>0.075</td>\n",
       "    </tr>\n",
       "    <tr>\n",
       "      <td>4</td>\n",
       "      <td>13.0-15</td>\n",
       "      <td>3</td>\n",
       "      <td>0.075</td>\n",
       "    </tr>\n",
       "  </tbody>\n",
       "</table>\n",
       "</div>"
      ],
      "text/plain": [
       "    Interval  Frequency      %\n",
       "0    5.0-7.0         15  0.375\n",
       "1    7.1-9.0         11  0.275\n",
       "2   9.1-11.0          8  0.200\n",
       "3  11.1-13.0          3  0.075\n",
       "4    13.0-15          3  0.075"
      ]
     },
     "execution_count": 29,
     "metadata": {},
     "output_type": "execute_result"
    }
   ],
   "source": [
    "xp.head()"
   ]
  },
  {
   "cell_type": "code",
   "execution_count": 58,
   "metadata": {},
   "outputs": [
    {
     "data": {
      "text/plain": [
       "(array([1., 0., 2., 3., 3., 2., 3., 3., 2., 1.]),\n",
       " array([2000., 2700., 3400., 4100., 4800., 5500., 6200., 6900., 7600.,\n",
       "        8300., 9000.]),\n",
       " <a list of 10 Patch objects>)"
      ]
     },
     "execution_count": 58,
     "metadata": {},
     "output_type": "execute_result"
    },
    {
     "data": {
      "image/png": "[encoded data removed]",
      "text/plain": [
       "<Figure size 432x288 with 1 Axes>"
      ]
     },
     "metadata": {
      "needs_background": "light"
     },
     "output_type": "display_data"
    }
   ],
   "source": [
    "sns."
   ]
  },
  {
   "cell_type": "code",
   "execution_count": 38,
   "metadata": {},
   "outputs": [
    {
     "data": {
      "text/plain": [
       "array([ 5.,  7.,  9., 11., 13., 15.])"
      ]
     },
     "execution_count": 38,
     "metadata": {},
     "output_type": "execute_result"
    }
   ],
   "source": [
    "datarange2"
   ]
  },
  {
   "cell_type": "code",
   "execution_count": 50,
   "metadata": {},
   "outputs": [
    {
     "data": {
      "image/png": "[encoded data removed]",
      "text/plain": [
       "<Figure size 1080x432 with 1 Axes>"
      ]
     },
     "metadata": {
      "needs_background": "light"
     },
     "output_type": "display_data"
    }
   ],
   "source": [
    "xa.evaluation(data_range)"
   ]
  },
  {
   "cell_type": "code",
   "execution_count": 61,
   "metadata": {},
   "outputs": [
    {
     "data": {
      "image/png": "[encoded data removed]",
      "text/plain": [
       "<Figure size 1080x432 with 1 Axes>"
      ]
     },
     "metadata": {
      "needs_background": "light"
     },
     "output_type": "display_data"
    }
   ],
   "source": [
    "xsubs.evaluation(subs_datarange)"
   ]
  },
  {
   "cell_type": "code",
   "execution_count": 136,
   "metadata": {},
   "outputs": [
    {
     "data": {
      "text/plain": [
       "<matplotlib.axes._subplots.AxesSubplot at 0xff78650>"
      ]
     },
     "execution_count": 136,
     "metadata": {},
     "output_type": "execute_result"
    },
    {
     "data": {
      "image/png": "[encoded data removed]",
      "text/plain": [
       "<Figure size 432x288 with 1 Axes>"
      ]
     },
     "metadata": {
      "needs_background": "light"
     },
     "output_type": "display_data"
    }
   ],
   "source": [
    "sns.distplot(xp['Frequency'])"
   ]
  },
  {
   "cell_type": "code",
   "execution_count": 8,
   "metadata": {},
   "outputs": [],
   "source": [
    "x1 = np.random.randint(10, 380, 100)\n",
    "y1 = np.random.randint(0,24, 100)\n",
    "x3 = np.arange(1, 20, 0.233797)"
   ]
  },
  {
   "cell_type": "code",
   "execution_count": 12,
   "metadata": {},
   "outputs": [
    {
     "data": {
      "text/plain": [
       "array([ 1.  ,  1.23,  1.47,  1.7 ,  1.94,  2.17,  2.4 ,  2.64,  2.87,\n",
       "        3.1 ,  3.34,  3.57,  3.81,  4.04,  4.27,  4.51,  4.74,  4.97,\n",
       "        5.21,  5.44,  5.68,  5.91,  6.14,  6.38,  6.61,  6.84,  7.08,\n",
       "        7.31,  7.55,  7.78,  8.01,  8.25,  8.48,  8.72,  8.95,  9.18,\n",
       "        9.42,  9.65,  9.88, 10.12, 10.35, 10.59, 10.82, 11.05, 11.29,\n",
       "       11.52, 11.75, 11.99, 12.22, 12.46, 12.69, 12.92, 13.16, 13.39,\n",
       "       13.63, 13.86, 14.09, 14.33, 14.56, 14.79, 15.03, 15.26, 15.5 ,\n",
       "       15.73, 15.96, 16.2 , 16.43, 16.66, 16.9 , 17.13, 17.37, 17.6 ,\n",
       "       17.83, 18.07, 18.3 , 18.53, 18.77, 19.  , 19.24, 19.47, 19.7 ,\n",
       "       19.94])"
      ]
     },
     "execution_count": 12,
     "metadata": {},
     "output_type": "execute_result"
    }
   ],
   "source": [
    "x3.round(decimals=2)"
   ]
  },
  {
   "cell_type": "code",
   "execution_count": null,
   "metadata": {},
   "outputs": [],
   "source": []
  },
  {
   "cell_type": "code",
   "execution_count": 23,
   "metadata": {},
   "outputs": [],
   "source": [
    "p1 = pd.DataFrame({'channels':x1, 'hours spent':y1,})\n",
    "p1.sort_values(by=['channels'], inplace=True)"
   ]
  },
  {
   "cell_type": "code",
   "execution_count": 25,
   "metadata": {},
   "outputs": [
    {
     "data": {
      "text/html": [
       "<div>\n",
       "<style scoped>\n",
       "    .dataframe tbody tr th:only-of-type {\n",
       "        vertical-align: middle;\n",
       "    }\n",
       "\n",
       "    .dataframe tbody tr th {\n",
       "        vertical-align: top;\n",
       "    }\n",
       "\n",
       "    .dataframe thead th {\n",
       "        text-align: right;\n",
       "    }\n",
       "</style>\n",
       "<table border=\"1\" class=\"dataframe\">\n",
       "  <thead>\n",
       "    <tr style=\"text-align: right;\">\n",
       "      <th></th>\n",
       "      <th>channels</th>\n",
       "      <th>hours spent</th>\n",
       "    </tr>\n",
       "  </thead>\n",
       "  <tbody>\n",
       "    <tr>\n",
       "      <td>91525</td>\n",
       "      <td>10</td>\n",
       "      <td>17</td>\n",
       "    </tr>\n",
       "    <tr>\n",
       "      <td>28925</td>\n",
       "      <td>10</td>\n",
       "      <td>2</td>\n",
       "    </tr>\n",
       "    <tr>\n",
       "      <td>75160</td>\n",
       "      <td>10</td>\n",
       "      <td>7</td>\n",
       "    </tr>\n",
       "    <tr>\n",
       "      <td>7165</td>\n",
       "      <td>10</td>\n",
       "      <td>19</td>\n",
       "    </tr>\n",
       "    <tr>\n",
       "      <td>88324</td>\n",
       "      <td>10</td>\n",
       "      <td>16</td>\n",
       "    </tr>\n",
       "  </tbody>\n",
       "</table>\n",
       "</div>"
      ],
      "text/plain": [
       "       channels  hours spent\n",
       "91525        10           17\n",
       "28925        10            2\n",
       "75160        10            7\n",
       "7165         10           19\n",
       "88324        10           16"
      ]
     },
     "execution_count": 25,
     "metadata": {},
     "output_type": "execute_result"
    }
   ],
   "source": [
    "p1.head()"
   ]
  },
  {
   "cell_type": "code",
   "execution_count": 32,
   "metadata": {},
   "outputs": [
    {
     "data": {
      "text/plain": [
       "<seaborn.axisgrid.JointGrid at 0x101ce530>"
      ]
     },
     "execution_count": 32,
     "metadata": {},
     "output_type": "execute_result"
    },
    {
     "data": {
      "image/png": "[encoded data removed]",
      "text/plain": [
       "<Figure size 432x432 with 3 Axes>"
      ]
     },
     "metadata": {
      "needs_background": "light"
     },
     "output_type": "display_data"
    }
   ],
   "source": [
    "sns.jointplot(x=p1['channels'], y=p1['hours spent'], data=p1, kind='hex')"
   ]
  },
  {
   "cell_type": "code",
   "execution_count": null,
   "metadata": {},
   "outputs": [],
   "source": []
  },
  {
   "cell_type": "code",
   "execution_count": 47,
   "metadata": {},
   "outputs": [
    {
     "data": {
      "text/plain": [
       "9.999802565159936"
      ]
     },
     "execution_count": 47,
     "metadata": {},
     "output_type": "execute_result"
    }
   ],
   "source": [
    "x.max()"
   ]
  },
  {
   "cell_type": "code",
   "execution_count": 48,
   "metadata": {},
   "outputs": [
    {
     "data": {
      "text/plain": [
       "0.0005800736843142307"
      ]
     },
     "execution_count": 48,
     "metadata": {},
     "output_type": "execute_result"
    }
   ],
   "source": [
    "x.min()"
   ]
  },
  {
   "cell_type": "code",
   "execution_count": 22,
   "metadata": {},
   "outputs": [
    {
     "data": {
      "text/plain": [
       "24924"
      ]
     },
     "execution_count": 22,
     "metadata": {},
     "output_type": "execute_result"
    }
   ],
   "source": [
    "len(x[x<475])"
   ]
  },
  {
   "cell_type": "code",
   "execution_count": 65,
   "metadata": {},
   "outputs": [
    {
     "data": {
      "text/plain": [
       "0.4119"
      ]
     },
     "execution_count": 65,
     "metadata": {},
     "output_type": "execute_result"
    }
   ],
   "source": [
    "len(x[x>6.0])/10000"
   ]
  },
  {
   "cell_type": "code",
   "execution_count": null,
   "metadata": {},
   "outputs": [],
   "source": []
  },
  {
   "cell_type": "code",
   "execution_count": 38,
   "metadata": {},
   "outputs": [
    {
     "data": {
      "text/plain": [
       "14363"
      ]
     },
     "execution_count": 38,
     "metadata": {},
     "output_type": "execute_result"
    }
   ],
   "source": [
    "x1 = x[x>=550]\n",
    "x2 = x1[x1<=650]\n",
    "len(x2)"
   ]
  },
  {
   "cell_type": "code",
   "execution_count": 84,
   "metadata": {},
   "outputs": [],
   "source": [
    "y = x[x==50]"
   ]
  },
  {
   "cell_type": "code",
   "execution_count": 85,
   "metadata": {},
   "outputs": [
    {
     "data": {
      "text/plain": [
       "1563"
      ]
     },
     "execution_count": 85,
     "metadata": {},
     "output_type": "execute_result"
    }
   ],
   "source": [
    "len(y)"
   ]
  },
  {
   "cell_type": "code",
   "execution_count": 21,
   "metadata": {},
   "outputs": [
    {
     "data": {
      "text/plain": [
       "0.7496"
      ]
     },
     "execution_count": 21,
     "metadata": {},
     "output_type": "execute_result"
    }
   ],
   "source": [
    "len(y)/len(x)"
   ]
  },
  {
   "cell_type": "code",
   "execution_count": 22,
   "metadata": {},
   "outputs": [],
   "source": [
    "z = np.arange(35,99)"
   ]
  },
  {
   "cell_type": "code",
   "execution_count": 49,
   "metadata": {},
   "outputs": [],
   "source": [
    "x1 = np.arange(0.0,10.1, 1.0)"
   ]
  },
  {
   "cell_type": "code",
   "execution_count": 51,
   "metadata": {},
   "outputs": [],
   "source": [
    "r1 = []\n",
    "for i in range(len(x1)-1):\n",
    "    x2 = x[x1[i]<x]\n",
    "    x3 = x2[x2<=x1[i+1]]\n",
    "    r1.append(len(x3))"
   ]
  },
  {
   "cell_type": "code",
   "execution_count": 93,
   "metadata": {},
   "outputs": [],
   "source": [
    "r1 = []\n",
    "for i in x1:\n",
    "    r1.append(len(x[x==i]))"
   ]
  },
  {
   "cell_type": "code",
   "execution_count": 50,
   "metadata": {},
   "outputs": [
    {
     "data": {
      "text/plain": [
       "array([ 0.,  1.,  2.,  3.,  4.,  5.,  6.,  7.,  8.,  9., 10.])"
      ]
     },
     "execution_count": 50,
     "metadata": {},
     "output_type": "execute_result"
    }
   ],
   "source": [
    "x1"
   ]
  },
  {
   "cell_type": "code",
   "execution_count": 52,
   "metadata": {},
   "outputs": [
    {
     "data": {
      "text/plain": [
       "10000"
      ]
     },
     "execution_count": 52,
     "metadata": {},
     "output_type": "execute_result"
    }
   ],
   "source": [
    "np.array(r1).sum()"
   ]
  },
  {
   "cell_type": "code",
   "execution_count": 59,
   "metadata": {},
   "outputs": [],
   "source": [
    "interval = []\n",
    "for i in range(len(x1)-1):\n",
    "    interval.append(str(x1[i])+' - '+str(x1[i+1]))"
   ]
  },
  {
   "cell_type": "code",
   "execution_count": 55,
   "metadata": {},
   "outputs": [],
   "source": [
    "r2=np.array(r1)/10000"
   ]
  },
  {
   "cell_type": "code",
   "execution_count": 60,
   "metadata": {},
   "outputs": [],
   "source": [
    "dat = {\n",
    "    'Interval': interval,\n",
    "    'Person': r1,\n",
    "    '%': r2,\n",
    "}"
   ]
  },
  {
   "cell_type": "code",
   "execution_count": 61,
   "metadata": {},
   "outputs": [],
   "source": [
    "p1 = pd.DataFrame(dat)"
   ]
  },
  {
   "cell_type": "code",
   "execution_count": 62,
   "metadata": {},
   "outputs": [
    {
     "data": {
      "text/html": [
       "<div>\n",
       "<style scoped>\n",
       "    .dataframe tbody tr th:only-of-type {\n",
       "        vertical-align: middle;\n",
       "    }\n",
       "\n",
       "    .dataframe tbody tr th {\n",
       "        vertical-align: top;\n",
       "    }\n",
       "\n",
       "    .dataframe thead th {\n",
       "        text-align: right;\n",
       "    }\n",
       "</style>\n",
       "<table border=\"1\" class=\"dataframe\">\n",
       "  <thead>\n",
       "    <tr style=\"text-align: right;\">\n",
       "      <th></th>\n",
       "      <th>Interval</th>\n",
       "      <th>Person</th>\n",
       "      <th>%</th>\n",
       "    </tr>\n",
       "  </thead>\n",
       "  <tbody>\n",
       "    <tr>\n",
       "      <td>0</td>\n",
       "      <td>0.0 - 1.0</td>\n",
       "      <td>961</td>\n",
       "      <td>0.0961</td>\n",
       "    </tr>\n",
       "    <tr>\n",
       "      <td>1</td>\n",
       "      <td>1.0 - 2.0</td>\n",
       "      <td>1023</td>\n",
       "      <td>0.1023</td>\n",
       "    </tr>\n",
       "    <tr>\n",
       "      <td>2</td>\n",
       "      <td>2.0 - 3.0</td>\n",
       "      <td>959</td>\n",
       "      <td>0.0959</td>\n",
       "    </tr>\n",
       "    <tr>\n",
       "      <td>3</td>\n",
       "      <td>3.0 - 4.0</td>\n",
       "      <td>958</td>\n",
       "      <td>0.0958</td>\n",
       "    </tr>\n",
       "    <tr>\n",
       "      <td>4</td>\n",
       "      <td>4.0 - 5.0</td>\n",
       "      <td>991</td>\n",
       "      <td>0.0991</td>\n",
       "    </tr>\n",
       "    <tr>\n",
       "      <td>5</td>\n",
       "      <td>5.0 - 6.0</td>\n",
       "      <td>989</td>\n",
       "      <td>0.0989</td>\n",
       "    </tr>\n",
       "    <tr>\n",
       "      <td>6</td>\n",
       "      <td>6.0 - 7.0</td>\n",
       "      <td>1041</td>\n",
       "      <td>0.1041</td>\n",
       "    </tr>\n",
       "    <tr>\n",
       "      <td>7</td>\n",
       "      <td>7.0 - 8.0</td>\n",
       "      <td>1006</td>\n",
       "      <td>0.1006</td>\n",
       "    </tr>\n",
       "    <tr>\n",
       "      <td>8</td>\n",
       "      <td>8.0 - 9.0</td>\n",
       "      <td>1045</td>\n",
       "      <td>0.1045</td>\n",
       "    </tr>\n",
       "    <tr>\n",
       "      <td>9</td>\n",
       "      <td>9.0 - 10.0</td>\n",
       "      <td>1027</td>\n",
       "      <td>0.1027</td>\n",
       "    </tr>\n",
       "  </tbody>\n",
       "</table>\n",
       "</div>"
      ],
      "text/plain": [
       "     Interval  Person       %\n",
       "0   0.0 - 1.0     961  0.0961\n",
       "1   1.0 - 2.0    1023  0.1023\n",
       "2   2.0 - 3.0     959  0.0959\n",
       "3   3.0 - 4.0     958  0.0958\n",
       "4   4.0 - 5.0     991  0.0991\n",
       "5   5.0 - 6.0     989  0.0989\n",
       "6   6.0 - 7.0    1041  0.1041\n",
       "7   7.0 - 8.0    1006  0.1006\n",
       "8   8.0 - 9.0    1045  0.1045\n",
       "9  9.0 - 10.0    1027  0.1027"
      ]
     },
     "execution_count": 62,
     "metadata": {},
     "output_type": "execute_result"
    }
   ],
   "source": [
    "p1"
   ]
  },
  {
   "cell_type": "code",
   "execution_count": 63,
   "metadata": {},
   "outputs": [
    {
     "data": {
      "text/plain": [
       "[<matplotlib.lines.Line2D at 0xe2173d0>]"
      ]
     },
     "execution_count": 63,
     "metadata": {},
     "output_type": "execute_result"
    },
    {
     "data": {
      "image/png": "[encoded data removed]",
      "text/plain": [
       "<Figure size 432x288 with 1 Axes>"
      ]
     },
     "metadata": {
      "needs_background": "light"
     },
     "output_type": "display_data"
    }
   ],
   "source": [
    "plt.plot(p1['Interval'].to_list(), p1['%'].to_list())"
   ]
  },
  {
   "cell_type": "code",
   "execution_count": 78,
   "metadata": {},
   "outputs": [],
   "source": [
    "f = open('amit.txt')"
   ]
  },
  {
   "cell_type": "code",
   "execution_count": 79,
   "metadata": {},
   "outputs": [
    {
     "data": {
      "text/plain": [
       "[['z', '+0', '+1', '+2', '+3', '+4', '+5', '+6', '+7', '+8', '+9'],\n",
       " ['0',\n",
       "  '5.00000',\n",
       "  'E',\n",
       "  '-1',\n",
       "  '1.58655',\n",
       "  'E',\n",
       "  '-1',\n",
       "  '2.27501',\n",
       "  'E',\n",
       "  '-2',\n",
       "  '1.34990',\n",
       "  'E',\n",
       "  '-3',\n",
       "  '3.16712',\n",
       "  'E',\n",
       "  '-5',\n",
       "  '2.86652',\n",
       "  'E',\n",
       "  '-7',\n",
       "  '9.86588',\n",
       "  'E',\n",
       "  '-10',\n",
       "  '1.27981',\n",
       "  'E',\n",
       "  '-12',\n",
       "  '6.22096',\n",
       "  'E',\n",
       "  '-16',\n",
       "  '1.12859',\n",
       "  'E',\n",
       "  '-19'],\n",
       " ['10',\n",
       "  '7.61985',\n",
       "  'E',\n",
       "  '-24',\n",
       "  '1.91066',\n",
       "  'E',\n",
       "  '-28',\n",
       "  '1.77648',\n",
       "  'E',\n",
       "  '-33',\n",
       "  '6.11716',\n",
       "  'E',\n",
       "  '-39',\n",
       "  '7.79354',\n",
       "  'E',\n",
       "  '-45',\n",
       "  '3.67097',\n",
       "  'E',\n",
       "  '-51',\n",
       "  '6.38875',\n",
       "  'E',\n",
       "  '-58',\n",
       "  '4.10600',\n",
       "  'E',\n",
       "  '-65',\n",
       "  '9.74095',\n",
       "  'E',\n",
       "  '-73',\n",
       "  '8.52722',\n",
       "  'E',\n",
       "  '-81'],\n",
       " ['20',\n",
       "  '2.75362',\n",
       "  'E',\n",
       "  '-89',\n",
       "  '3.27928',\n",
       "  'E',\n",
       "  '-98',\n",
       "  '1.43989',\n",
       "  'E',\n",
       "  '-107',\n",
       "  '2.33064',\n",
       "  'E',\n",
       "  '-117',\n",
       "  '1.39039',\n",
       "  'E',\n",
       "  '-127',\n",
       "  '3.05670',\n",
       "  'E',\n",
       "  '-138',\n",
       "  '2.47606',\n",
       "  'E',\n",
       "  '-149',\n",
       "  '7.38948',\n",
       "  'E',\n",
       "  '-161',\n",
       "  '8.12387',\n",
       "  'E',\n",
       "  '-173',\n",
       "  '3.28979',\n",
       "  'E',\n",
       "  '-185'],\n",
       " ['30',\n",
       "  '4.90671',\n",
       "  'E',\n",
       "  '-198',\n",
       "  '2.69525',\n",
       "  'E',\n",
       "  '-211',\n",
       "  '5.45208',\n",
       "  'E',\n",
       "  '-225',\n",
       "  '4.06119',\n",
       "  'E',\n",
       "  '-239',\n",
       "  '1.11390',\n",
       "  'E',\n",
       "  '-253',\n",
       "  '1.12491',\n",
       "  'E',\n",
       "  '-268',\n",
       "  '4.18262',\n",
       "  'E',\n",
       "  '-284',\n",
       "  '5.72557',\n",
       "  'E',\n",
       "  '-300',\n",
       "  '2.88543',\n",
       "  'E',\n",
       "  '-316',\n",
       "  '5.35312',\n",
       "  'E',\n",
       "  '-333'],\n",
       " ['40',\n",
       "  '3.65589',\n",
       "  'E',\n",
       "  '-350',\n",
       "  '9.19086',\n",
       "  'E',\n",
       "  '-368',\n",
       "  '8.50515',\n",
       "  'E',\n",
       "  '-386',\n",
       "  '2.89707',\n",
       "  'E',\n",
       "  '-404',\n",
       "  '3.63224',\n",
       "  'E',\n",
       "  '-423',\n",
       "  '1.67618',\n",
       "  'E',\n",
       "  '-442',\n",
       "  '2.84699',\n",
       "  'E',\n",
       "  '-462',\n",
       "  '1.77976',\n",
       "  'E',\n",
       "  '-482',\n",
       "  '4.09484',\n",
       "  'E',\n",
       "  '-503',\n",
       "  '3.46743',\n",
       "  'E',\n",
       "  '-524'],\n",
       " ['50',\n",
       "  '1.08060',\n",
       "  'E',\n",
       "  '-545',\n",
       "  '1.23937',\n",
       "  'E',\n",
       "  '-567',\n",
       "  '5.23127',\n",
       "  'E',\n",
       "  '-590',\n",
       "  '8.12606',\n",
       "  'E',\n",
       "  '-613',\n",
       "  '4.64529',\n",
       "  'E',\n",
       "  '-636',\n",
       "  '9.77237',\n",
       "  'E',\n",
       "  '-660',\n",
       "  '7.56547',\n",
       "  'E',\n",
       "  '-684',\n",
       "  '2.15534',\n",
       "  'E',\n",
       "  '-708',\n",
       "  '2.25962',\n",
       "  'E',\n",
       "  '-733',\n",
       "  '8.71741',\n",
       "  'E',\n",
       "  '-759'],\n",
       " ['60',\n",
       "  '1.23757',\n",
       "  'E',\n",
       "  '-784',\n",
       "  '6.46517',\n",
       "  'E',\n",
       "  '-811',\n",
       "  '1.24283',\n",
       "  'E',\n",
       "  '-837',\n",
       "  '8.79146',\n",
       "  'E',\n",
       "  '-865',\n",
       "  '2.28836',\n",
       "  'E',\n",
       "  '-892',\n",
       "  '2.19180',\n",
       "  'E',\n",
       "  '-920',\n",
       "  '7.72476',\n",
       "  'E',\n",
       "  '-949',\n",
       "  '1.00178',\n",
       "  'E',\n",
       "  '-977',\n",
       "  '4.78041',\n",
       "  'E',\n",
       "  '-1007',\n",
       "  '8.39374',\n",
       "  'E',\n",
       "  '-1037'],\n",
       " ['70',\n",
       "  '5.42304',\n",
       "  'E',\n",
       "  '-1067',\n",
       "  '1.28921',\n",
       "  'E',\n",
       "  '-1097',\n",
       "  '1.12771',\n",
       "  'E',\n",
       "  '-1128',\n",
       "  '3.62960',\n",
       "  'E',\n",
       "  '-1160',\n",
       "  '4.29841',\n",
       "  'E',\n",
       "  '-1192',\n",
       "  '1.87302',\n",
       "  'E',\n",
       "  '-1224',\n",
       "  '3.00302',\n",
       "  'E',\n",
       "  '-1257',\n",
       "  '1.77155',\n",
       "  'E',\n",
       "  '-1290',\n",
       "  '3.84530',\n",
       "  'E',\n",
       "  '-1324',\n",
       "  '3.07102',\n",
       "  'E',\n",
       "  '-1358']]"
      ]
     },
     "execution_count": 79,
     "metadata": {},
     "output_type": "execute_result"
    }
   ],
   "source": [
    "x = []\n",
    "for i in f:\n",
    "    j = i.split()\n",
    "    x.append(j)\n",
    "    \n",
    "x"
   ]
  },
  {
   "cell_type": "code",
   "execution_count": 85,
   "metadata": {},
   "outputs": [
    {
     "data": {
      "text/plain": [
       "[[1.8393972058572117,\n",
       "  0.5836591273905518,\n",
       "  0.3078891227161263,\n",
       "  0.06720756358977956,\n",
       "  0.02133988669974357,\n",
       "  0.002613927891901333,\n",
       "  0.0004479102590451043,\n",
       "  7.863424411912982e-06,\n",
       "  7.000768205215227e-07,\n",
       "  6.32326003144019e-09],\n",
       " [2.8765958957225115e-10,\n",
       "  1.3211067708326388e-12,\n",
       "  8.276418059053298e-15,\n",
       "  7.064233498220539e-17,\n",
       "  2.2309153058254975e-19,\n",
       "  2.6047272785522355e-22,\n",
       "  4.1336713381217565e-25,\n",
       "  2.422577176379762e-28,\n",
       "  1.9279871508086974e-31,\n",
       "  5.661798820980907e-35],\n",
       " [6.133312851032025e-39,\n",
       "  9.014035700739855e-43,\n",
       "  4.884495928236257e-47,\n",
       "  3.589391360523336e-51,\n",
       "  9.721592971436582e-56,\n",
       "  3.569556942362447e-60,\n",
       "  4.8292908347205415e-65,\n",
       "  8.855279870896471e-70,\n",
       "  5.981603143155162e-75,\n",
       "  1.488295004504918e-80],\n",
       " [5.0174490822415975e-86,\n",
       "  6.229646065624459e-92,\n",
       "  1.0478612767913976e-97,\n",
       "  6.490410017275115e-104,\n",
       "  1.4802745838768473e-110,\n",
       "  4.57295183780017e-117,\n",
       "  1.913443087282126e-123,\n",
       "  2.947638074743602e-130,\n",
       "  1.6716842912849056e-137,\n",
       "  1.2839393380452266e-144],\n",
       " [3.630149023380185e-152,\n",
       "  1.3899104186074264e-159,\n",
       "  1.9588986310722564e-167,\n",
       "  1.0162213152248152e-175,\n",
       "  7.138528400638361e-184,\n",
       "  1.8456937991723022e-192,\n",
       "  6.461529068031387e-201,\n",
       "  8.325707793580164e-210,\n",
       "  1.4524879551365865e-218,\n",
       "  9.326081041468474e-228],\n",
       " [2.2038007469674368e-237,\n",
       "  7.050659478659893e-247,\n",
       "  3.053956261247844e-256,\n",
       "  4.868135052537617e-266,\n",
       "  2.8557641753072003e-276,\n",
       "  2.26799370946837e-286,\n",
       "  6.628424160499855e-297,\n",
       "  7.128901290862274e-308,\n",
       "  1.037963e-318,\n",
       "  0.0],\n",
       " [0.0, 0.0, 0.0, 0.0, 0.0, 0.0, 0.0, 0.0, 0.0, 0.0],\n",
       " [0.0, 0.0, 0.0, 0.0, 0.0, 0.0, 0.0, 0.0, 0.0, 0.0]]"
      ]
     },
     "execution_count": 85,
     "metadata": {},
     "output_type": "execute_result"
    }
   ],
   "source": [
    "matrix = []\n",
    "\n",
    "for i in range(1,len(x)):\n",
    "    row = []\n",
    "    k = 1\n",
    "    for j in range(1, len(x[i])-2):\n",
    "        if j ==k:\n",
    "            num = (float(x[i][j]))*(math.e**(int(x[i][j+2])))\n",
    "            row.append(num)\n",
    "            k += 3\n",
    "    matrix.append(row)\n",
    "    \n",
    "matrix"
   ]
  },
  {
   "cell_type": "code",
   "execution_count": 87,
   "metadata": {},
   "outputs": [],
   "source": [
    "matpd = pd.DataFrame(matrix)"
   ]
  },
  {
   "cell_type": "code",
   "execution_count": 93,
   "metadata": {},
   "outputs": [],
   "source": [
    "matpd.index = np.arange(0,71,10)"
   ]
  },
  {
   "cell_type": "code",
   "execution_count": 104,
   "metadata": {},
   "outputs": [
    {
     "data": {
      "text/html": [
       "<div>\n",
       "<style scoped>\n",
       "    .dataframe tbody tr th:only-of-type {\n",
       "        vertical-align: middle;\n",
       "    }\n",
       "\n",
       "    .dataframe tbody tr th {\n",
       "        vertical-align: top;\n",
       "    }\n",
       "\n",
       "    .dataframe thead th {\n",
       "        text-align: right;\n",
       "    }\n",
       "</style>\n",
       "<table border=\"1\" class=\"dataframe\">\n",
       "  <thead>\n",
       "    <tr style=\"text-align: right;\">\n",
       "      <th></th>\n",
       "      <th>+0</th>\n",
       "      <th>+1</th>\n",
       "      <th>+2</th>\n",
       "      <th>+3</th>\n",
       "      <th>+4</th>\n",
       "      <th>+5</th>\n",
       "      <th>+6</th>\n",
       "      <th>+7</th>\n",
       "      <th>+8</th>\n",
       "      <th>+9</th>\n",
       "    </tr>\n",
       "  </thead>\n",
       "  <tbody>\n",
       "    <tr>\n",
       "      <td>0</td>\n",
       "      <td>1.839397e+00</td>\n",
       "      <td>5.836591e-01</td>\n",
       "      <td>3.078891e-01</td>\n",
       "      <td>6.720756e-02</td>\n",
       "      <td>2.133989e-02</td>\n",
       "      <td>2.613928e-03</td>\n",
       "      <td>4.479103e-04</td>\n",
       "      <td>7.863424e-06</td>\n",
       "      <td>7.000768e-07</td>\n",
       "      <td>6.323260e-09</td>\n",
       "    </tr>\n",
       "    <tr>\n",
       "      <td>10</td>\n",
       "      <td>2.876596e-10</td>\n",
       "      <td>1.321107e-12</td>\n",
       "      <td>8.276418e-15</td>\n",
       "      <td>7.064233e-17</td>\n",
       "      <td>2.230915e-19</td>\n",
       "      <td>2.604727e-22</td>\n",
       "      <td>4.133671e-25</td>\n",
       "      <td>2.422577e-28</td>\n",
       "      <td>1.927987e-31</td>\n",
       "      <td>5.661799e-35</td>\n",
       "    </tr>\n",
       "    <tr>\n",
       "      <td>20</td>\n",
       "      <td>6.133313e-39</td>\n",
       "      <td>9.014036e-43</td>\n",
       "      <td>4.884496e-47</td>\n",
       "      <td>3.589391e-51</td>\n",
       "      <td>9.721593e-56</td>\n",
       "      <td>3.569557e-60</td>\n",
       "      <td>4.829291e-65</td>\n",
       "      <td>8.855280e-70</td>\n",
       "      <td>5.981603e-75</td>\n",
       "      <td>1.488295e-80</td>\n",
       "    </tr>\n",
       "    <tr>\n",
       "      <td>30</td>\n",
       "      <td>5.017449e-86</td>\n",
       "      <td>6.229646e-92</td>\n",
       "      <td>1.047861e-97</td>\n",
       "      <td>6.490410e-104</td>\n",
       "      <td>1.480275e-110</td>\n",
       "      <td>4.572952e-117</td>\n",
       "      <td>1.913443e-123</td>\n",
       "      <td>2.947638e-130</td>\n",
       "      <td>1.671684e-137</td>\n",
       "      <td>1.283939e-144</td>\n",
       "    </tr>\n",
       "    <tr>\n",
       "      <td>40</td>\n",
       "      <td>3.630149e-152</td>\n",
       "      <td>1.389910e-159</td>\n",
       "      <td>1.958899e-167</td>\n",
       "      <td>1.016221e-175</td>\n",
       "      <td>7.138528e-184</td>\n",
       "      <td>1.845694e-192</td>\n",
       "      <td>6.461529e-201</td>\n",
       "      <td>8.325708e-210</td>\n",
       "      <td>1.452488e-218</td>\n",
       "      <td>9.326081e-228</td>\n",
       "    </tr>\n",
       "    <tr>\n",
       "      <td>50</td>\n",
       "      <td>2.203801e-237</td>\n",
       "      <td>7.050659e-247</td>\n",
       "      <td>3.053956e-256</td>\n",
       "      <td>4.868135e-266</td>\n",
       "      <td>2.855764e-276</td>\n",
       "      <td>2.267994e-286</td>\n",
       "      <td>6.628424e-297</td>\n",
       "      <td>7.128901e-308</td>\n",
       "      <td>1.037963e-318</td>\n",
       "      <td>0.000000e+00</td>\n",
       "    </tr>\n",
       "    <tr>\n",
       "      <td>60</td>\n",
       "      <td>0.000000e+00</td>\n",
       "      <td>0.000000e+00</td>\n",
       "      <td>0.000000e+00</td>\n",
       "      <td>0.000000e+00</td>\n",
       "      <td>0.000000e+00</td>\n",
       "      <td>0.000000e+00</td>\n",
       "      <td>0.000000e+00</td>\n",
       "      <td>0.000000e+00</td>\n",
       "      <td>0.000000e+00</td>\n",
       "      <td>0.000000e+00</td>\n",
       "    </tr>\n",
       "    <tr>\n",
       "      <td>70</td>\n",
       "      <td>0.000000e+00</td>\n",
       "      <td>0.000000e+00</td>\n",
       "      <td>0.000000e+00</td>\n",
       "      <td>0.000000e+00</td>\n",
       "      <td>0.000000e+00</td>\n",
       "      <td>0.000000e+00</td>\n",
       "      <td>0.000000e+00</td>\n",
       "      <td>0.000000e+00</td>\n",
       "      <td>0.000000e+00</td>\n",
       "      <td>0.000000e+00</td>\n",
       "    </tr>\n",
       "  </tbody>\n",
       "</table>\n",
       "</div>"
      ],
      "text/plain": [
       "               +0             +1             +2             +3             +4  \\\n",
       "0    1.839397e+00   5.836591e-01   3.078891e-01   6.720756e-02   2.133989e-02   \n",
       "10   2.876596e-10   1.321107e-12   8.276418e-15   7.064233e-17   2.230915e-19   \n",
       "20   6.133313e-39   9.014036e-43   4.884496e-47   3.589391e-51   9.721593e-56   \n",
       "30   5.017449e-86   6.229646e-92   1.047861e-97  6.490410e-104  1.480275e-110   \n",
       "40  3.630149e-152  1.389910e-159  1.958899e-167  1.016221e-175  7.138528e-184   \n",
       "50  2.203801e-237  7.050659e-247  3.053956e-256  4.868135e-266  2.855764e-276   \n",
       "60   0.000000e+00   0.000000e+00   0.000000e+00   0.000000e+00   0.000000e+00   \n",
       "70   0.000000e+00   0.000000e+00   0.000000e+00   0.000000e+00   0.000000e+00   \n",
       "\n",
       "               +5             +6             +7             +8             +9  \n",
       "0    2.613928e-03   4.479103e-04   7.863424e-06   7.000768e-07   6.323260e-09  \n",
       "10   2.604727e-22   4.133671e-25   2.422577e-28   1.927987e-31   5.661799e-35  \n",
       "20   3.569557e-60   4.829291e-65   8.855280e-70   5.981603e-75   1.488295e-80  \n",
       "30  4.572952e-117  1.913443e-123  2.947638e-130  1.671684e-137  1.283939e-144  \n",
       "40  1.845694e-192  6.461529e-201  8.325708e-210  1.452488e-218  9.326081e-228  \n",
       "50  2.267994e-286  6.628424e-297  7.128901e-308  1.037963e-318   0.000000e+00  \n",
       "60   0.000000e+00   0.000000e+00   0.000000e+00   0.000000e+00   0.000000e+00  \n",
       "70   0.000000e+00   0.000000e+00   0.000000e+00   0.000000e+00   0.000000e+00  "
      ]
     },
     "execution_count": 104,
     "metadata": {},
     "output_type": "execute_result"
    }
   ],
   "source": [
    "matpd"
   ]
  },
  {
   "cell_type": "code",
   "execution_count": 105,
   "metadata": {},
   "outputs": [],
   "source": [
    "matpd.to_csv('greater_than_z.csv')"
   ]
  },
  {
   "cell_type": "code",
   "execution_count": 107,
   "metadata": {},
   "outputs": [
    {
     "data": {
      "text/html": [
       "<div>\n",
       "<style scoped>\n",
       "    .dataframe tbody tr th:only-of-type {\n",
       "        vertical-align: middle;\n",
       "    }\n",
       "\n",
       "    .dataframe tbody tr th {\n",
       "        vertical-align: top;\n",
       "    }\n",
       "\n",
       "    .dataframe thead th {\n",
       "        text-align: right;\n",
       "    }\n",
       "</style>\n",
       "<table border=\"1\" class=\"dataframe\">\n",
       "  <thead>\n",
       "    <tr style=\"text-align: right;\">\n",
       "      <th></th>\n",
       "      <th>z</th>\n",
       "      <th>0</th>\n",
       "      <th>1</th>\n",
       "      <th>2</th>\n",
       "      <th>3</th>\n",
       "      <th>4</th>\n",
       "      <th>5</th>\n",
       "      <th>6</th>\n",
       "      <th>7</th>\n",
       "      <th>8</th>\n",
       "      <th>9</th>\n",
       "    </tr>\n",
       "  </thead>\n",
       "  <tbody>\n",
       "    <tr>\n",
       "      <td>0</td>\n",
       "      <td>0</td>\n",
       "      <td>1.839397e+00</td>\n",
       "      <td>5.836591e-01</td>\n",
       "      <td>3.078891e-01</td>\n",
       "      <td>6.720756e-02</td>\n",
       "      <td>2.133989e-02</td>\n",
       "      <td>2.613928e-03</td>\n",
       "      <td>4.479100e-04</td>\n",
       "      <td>7.860000e-06</td>\n",
       "      <td>7.000000e-07</td>\n",
       "      <td>6.320000e-09</td>\n",
       "    </tr>\n",
       "    <tr>\n",
       "      <td>1</td>\n",
       "      <td>10</td>\n",
       "      <td>2.880000e-10</td>\n",
       "      <td>1.320000e-12</td>\n",
       "      <td>8.280000e-15</td>\n",
       "      <td>7.060000e-17</td>\n",
       "      <td>2.230000e-19</td>\n",
       "      <td>2.600000e-22</td>\n",
       "      <td>4.130000e-25</td>\n",
       "      <td>2.420000e-28</td>\n",
       "      <td>1.930000e-31</td>\n",
       "      <td>5.660000e-35</td>\n",
       "    </tr>\n",
       "    <tr>\n",
       "      <td>2</td>\n",
       "      <td>20</td>\n",
       "      <td>6.130000e-39</td>\n",
       "      <td>9.010000e-43</td>\n",
       "      <td>4.880000e-47</td>\n",
       "      <td>3.590000e-51</td>\n",
       "      <td>9.720000e-56</td>\n",
       "      <td>3.570000e-60</td>\n",
       "      <td>4.830000e-65</td>\n",
       "      <td>8.860000e-70</td>\n",
       "      <td>5.980000e-75</td>\n",
       "      <td>1.490000e-80</td>\n",
       "    </tr>\n",
       "    <tr>\n",
       "      <td>3</td>\n",
       "      <td>30</td>\n",
       "      <td>5.020000e-86</td>\n",
       "      <td>6.230000e-92</td>\n",
       "      <td>1.050000e-97</td>\n",
       "      <td>6.490000e-104</td>\n",
       "      <td>1.480000e-110</td>\n",
       "      <td>4.570000e-117</td>\n",
       "      <td>1.910000e-123</td>\n",
       "      <td>2.950000e-130</td>\n",
       "      <td>1.670000e-137</td>\n",
       "      <td>1.280000e-144</td>\n",
       "    </tr>\n",
       "    <tr>\n",
       "      <td>4</td>\n",
       "      <td>40</td>\n",
       "      <td>3.630000e-152</td>\n",
       "      <td>1.390000e-159</td>\n",
       "      <td>1.960000e-167</td>\n",
       "      <td>1.020000e-175</td>\n",
       "      <td>7.140000e-184</td>\n",
       "      <td>1.850000e-192</td>\n",
       "      <td>6.460000e-201</td>\n",
       "      <td>8.330000e-210</td>\n",
       "      <td>1.450000e-218</td>\n",
       "      <td>9.330000e-228</td>\n",
       "    </tr>\n",
       "    <tr>\n",
       "      <td>5</td>\n",
       "      <td>50</td>\n",
       "      <td>2.200000e-237</td>\n",
       "      <td>7.050000e-247</td>\n",
       "      <td>3.050000e-256</td>\n",
       "      <td>4.870000e-266</td>\n",
       "      <td>2.860000e-276</td>\n",
       "      <td>2.270000e-286</td>\n",
       "      <td>6.630000e-297</td>\n",
       "      <td>7.130000e-308</td>\n",
       "      <td>1.037963e-318</td>\n",
       "      <td>0.000000e+00</td>\n",
       "    </tr>\n",
       "    <tr>\n",
       "      <td>6</td>\n",
       "      <td>60</td>\n",
       "      <td>0.000000e+00</td>\n",
       "      <td>0.000000e+00</td>\n",
       "      <td>0.000000e+00</td>\n",
       "      <td>0.000000e+00</td>\n",
       "      <td>0.000000e+00</td>\n",
       "      <td>0.000000e+00</td>\n",
       "      <td>0.000000e+00</td>\n",
       "      <td>0.000000e+00</td>\n",
       "      <td>0.000000e+00</td>\n",
       "      <td>0.000000e+00</td>\n",
       "    </tr>\n",
       "    <tr>\n",
       "      <td>7</td>\n",
       "      <td>70</td>\n",
       "      <td>0.000000e+00</td>\n",
       "      <td>0.000000e+00</td>\n",
       "      <td>0.000000e+00</td>\n",
       "      <td>0.000000e+00</td>\n",
       "      <td>0.000000e+00</td>\n",
       "      <td>0.000000e+00</td>\n",
       "      <td>0.000000e+00</td>\n",
       "      <td>0.000000e+00</td>\n",
       "      <td>0.000000e+00</td>\n",
       "      <td>0.000000e+00</td>\n",
       "    </tr>\n",
       "  </tbody>\n",
       "</table>\n",
       "</div>"
      ],
      "text/plain": [
       "    z              0              1              2              3  \\\n",
       "0   0   1.839397e+00   5.836591e-01   3.078891e-01   6.720756e-02   \n",
       "1  10   2.880000e-10   1.320000e-12   8.280000e-15   7.060000e-17   \n",
       "2  20   6.130000e-39   9.010000e-43   4.880000e-47   3.590000e-51   \n",
       "3  30   5.020000e-86   6.230000e-92   1.050000e-97  6.490000e-104   \n",
       "4  40  3.630000e-152  1.390000e-159  1.960000e-167  1.020000e-175   \n",
       "5  50  2.200000e-237  7.050000e-247  3.050000e-256  4.870000e-266   \n",
       "6  60   0.000000e+00   0.000000e+00   0.000000e+00   0.000000e+00   \n",
       "7  70   0.000000e+00   0.000000e+00   0.000000e+00   0.000000e+00   \n",
       "\n",
       "               4              5              6              7              8  \\\n",
       "0   2.133989e-02   2.613928e-03   4.479100e-04   7.860000e-06   7.000000e-07   \n",
       "1   2.230000e-19   2.600000e-22   4.130000e-25   2.420000e-28   1.930000e-31   \n",
       "2   9.720000e-56   3.570000e-60   4.830000e-65   8.860000e-70   5.980000e-75   \n",
       "3  1.480000e-110  4.570000e-117  1.910000e-123  2.950000e-130  1.670000e-137   \n",
       "4  7.140000e-184  1.850000e-192  6.460000e-201  8.330000e-210  1.450000e-218   \n",
       "5  2.860000e-276  2.270000e-286  6.630000e-297  7.130000e-308  1.037963e-318   \n",
       "6   0.000000e+00   0.000000e+00   0.000000e+00   0.000000e+00   0.000000e+00   \n",
       "7   0.000000e+00   0.000000e+00   0.000000e+00   0.000000e+00   0.000000e+00   \n",
       "\n",
       "               9  \n",
       "0   6.320000e-09  \n",
       "1   5.660000e-35  \n",
       "2   1.490000e-80  \n",
       "3  1.280000e-144  \n",
       "4  9.330000e-228  \n",
       "5   0.000000e+00  \n",
       "6   0.000000e+00  \n",
       "7   0.000000e+00  "
      ]
     },
     "execution_count": 107,
     "metadata": {},
     "output_type": "execute_result"
    }
   ],
   "source": [
    "pd.read_csv('greater_than_z.csv')"
   ]
  },
  {
   "cell_type": "code",
   "execution_count": 108,
   "metadata": {},
   "outputs": [
    {
     "data": {
      "text/html": [
       "<div>\n",
       "<style scoped>\n",
       "    .dataframe tbody tr th:only-of-type {\n",
       "        vertical-align: middle;\n",
       "    }\n",
       "\n",
       "    .dataframe tbody tr th {\n",
       "        vertical-align: top;\n",
       "    }\n",
       "\n",
       "    .dataframe thead th {\n",
       "        text-align: right;\n",
       "    }\n",
       "</style>\n",
       "<table border=\"1\" class=\"dataframe\">\n",
       "  <thead>\n",
       "    <tr style=\"text-align: right;\">\n",
       "      <th></th>\n",
       "      <th>z</th>\n",
       "      <th>0</th>\n",
       "      <th>0.01</th>\n",
       "      <th>0.02</th>\n",
       "      <th>0.03</th>\n",
       "      <th>0.04</th>\n",
       "      <th>0.05</th>\n",
       "      <th>0.06</th>\n",
       "      <th>0.07</th>\n",
       "      <th>0.08</th>\n",
       "      <th>0.09</th>\n",
       "    </tr>\n",
       "  </thead>\n",
       "  <tbody>\n",
       "    <tr>\n",
       "      <td>0</td>\n",
       "      <td>0.0</td>\n",
       "      <td>0.00000</td>\n",
       "      <td>0.00399</td>\n",
       "      <td>0.00798</td>\n",
       "      <td>0.01197</td>\n",
       "      <td>0.01595</td>\n",
       "      <td>0.01994</td>\n",
       "      <td>0.02392</td>\n",
       "      <td>0.02790</td>\n",
       "      <td>0.03188</td>\n",
       "      <td>0.03586</td>\n",
       "    </tr>\n",
       "    <tr>\n",
       "      <td>1</td>\n",
       "      <td>0.1</td>\n",
       "      <td>0.03983</td>\n",
       "      <td>0.04380</td>\n",
       "      <td>0.04776</td>\n",
       "      <td>0.05172</td>\n",
       "      <td>0.05567</td>\n",
       "      <td>0.05962</td>\n",
       "      <td>0.06356</td>\n",
       "      <td>0.06749</td>\n",
       "      <td>0.07142</td>\n",
       "      <td>0.07535</td>\n",
       "    </tr>\n",
       "    <tr>\n",
       "      <td>2</td>\n",
       "      <td>0.2</td>\n",
       "      <td>0.07926</td>\n",
       "      <td>0.08317</td>\n",
       "      <td>0.08706</td>\n",
       "      <td>0.09095</td>\n",
       "      <td>0.09483</td>\n",
       "      <td>0.09871</td>\n",
       "      <td>0.10257</td>\n",
       "      <td>0.10642</td>\n",
       "      <td>0.11026</td>\n",
       "      <td>0.11409</td>\n",
       "    </tr>\n",
       "    <tr>\n",
       "      <td>3</td>\n",
       "      <td>0.3</td>\n",
       "      <td>0.11791</td>\n",
       "      <td>0.12172</td>\n",
       "      <td>0.12552</td>\n",
       "      <td>0.12930</td>\n",
       "      <td>0.13307</td>\n",
       "      <td>0.13683</td>\n",
       "      <td>0.14058</td>\n",
       "      <td>0.14431</td>\n",
       "      <td>0.14803</td>\n",
       "      <td>0.15173</td>\n",
       "    </tr>\n",
       "    <tr>\n",
       "      <td>4</td>\n",
       "      <td>0.4</td>\n",
       "      <td>0.15542</td>\n",
       "      <td>0.15910</td>\n",
       "      <td>0.16276</td>\n",
       "      <td>0.16640</td>\n",
       "      <td>0.17003</td>\n",
       "      <td>0.17364</td>\n",
       "      <td>0.17724</td>\n",
       "      <td>0.18082</td>\n",
       "      <td>0.18439</td>\n",
       "      <td>0.18793</td>\n",
       "    </tr>\n",
       "  </tbody>\n",
       "</table>\n",
       "</div>"
      ],
      "text/plain": [
       "     z        0     0.01     0.02     0.03     0.04     0.05     0.06  \\\n",
       "0  0.0  0.00000  0.00399  0.00798  0.01197  0.01595  0.01994  0.02392   \n",
       "1  0.1  0.03983  0.04380  0.04776  0.05172  0.05567  0.05962  0.06356   \n",
       "2  0.2  0.07926  0.08317  0.08706  0.09095  0.09483  0.09871  0.10257   \n",
       "3  0.3  0.11791  0.12172  0.12552  0.12930  0.13307  0.13683  0.14058   \n",
       "4  0.4  0.15542  0.15910  0.16276  0.16640  0.17003  0.17364  0.17724   \n",
       "\n",
       "      0.07     0.08     0.09  \n",
       "0  0.02790  0.03188  0.03586  \n",
       "1  0.06749  0.07142  0.07535  \n",
       "2  0.10642  0.11026  0.11409  \n",
       "3  0.14431  0.14803  0.15173  \n",
       "4  0.18082  0.18439  0.18793  "
      ]
     },
     "execution_count": 108,
     "metadata": {},
     "output_type": "execute_result"
    }
   ],
   "source": [
    "pd.read_csv(\"cumulative_from_mean_0toZ.csv\").head()"
   ]
  },
  {
   "cell_type": "code",
   "execution_count": 99,
   "metadata": {},
   "outputs": [
    {
     "data": {
      "text/html": [
       "<div>\n",
       "<style scoped>\n",
       "    .dataframe tbody tr th:only-of-type {\n",
       "        vertical-align: middle;\n",
       "    }\n",
       "\n",
       "    .dataframe tbody tr th {\n",
       "        vertical-align: top;\n",
       "    }\n",
       "\n",
       "    .dataframe thead th {\n",
       "        text-align: right;\n",
       "    }\n",
       "</style>\n",
       "<table border=\"1\" class=\"dataframe\">\n",
       "  <thead>\n",
       "    <tr style=\"text-align: right;\">\n",
       "      <th></th>\n",
       "      <th>z</th>\n",
       "      <th>0</th>\n",
       "      <th>0.01</th>\n",
       "      <th>0.02</th>\n",
       "      <th>0.03</th>\n",
       "      <th>0.04</th>\n",
       "      <th>0.05</th>\n",
       "      <th>0.06</th>\n",
       "      <th>0.07</th>\n",
       "      <th>0.08</th>\n",
       "      <th>0.09</th>\n",
       "    </tr>\n",
       "  </thead>\n",
       "  <tbody>\n",
       "    <tr>\n",
       "      <td>0</td>\n",
       "      <td>0.0</td>\n",
       "      <td>0.50000</td>\n",
       "      <td>0.50399</td>\n",
       "      <td>0.50798</td>\n",
       "      <td>0.51197</td>\n",
       "      <td>0.51595</td>\n",
       "      <td>0.51994</td>\n",
       "      <td>0.52392</td>\n",
       "      <td>0.52790</td>\n",
       "      <td>0.53188</td>\n",
       "      <td>0.53586</td>\n",
       "    </tr>\n",
       "    <tr>\n",
       "      <td>1</td>\n",
       "      <td>0.1</td>\n",
       "      <td>0.53983</td>\n",
       "      <td>0.54380</td>\n",
       "      <td>0.54776</td>\n",
       "      <td>0.55172</td>\n",
       "      <td>0.55567</td>\n",
       "      <td>0.55966</td>\n",
       "      <td>0.56360</td>\n",
       "      <td>0.56749</td>\n",
       "      <td>0.57142</td>\n",
       "      <td>0.57535</td>\n",
       "    </tr>\n",
       "    <tr>\n",
       "      <td>2</td>\n",
       "      <td>0.2</td>\n",
       "      <td>0.57926</td>\n",
       "      <td>0.58317</td>\n",
       "      <td>0.58706</td>\n",
       "      <td>0.59095</td>\n",
       "      <td>0.59483</td>\n",
       "      <td>0.59871</td>\n",
       "      <td>0.60257</td>\n",
       "      <td>0.60642</td>\n",
       "      <td>0.61026</td>\n",
       "      <td>0.61409</td>\n",
       "    </tr>\n",
       "    <tr>\n",
       "      <td>3</td>\n",
       "      <td>0.3</td>\n",
       "      <td>0.61791</td>\n",
       "      <td>0.62172</td>\n",
       "      <td>0.62552</td>\n",
       "      <td>0.62930</td>\n",
       "      <td>0.63307</td>\n",
       "      <td>0.63683</td>\n",
       "      <td>0.64058</td>\n",
       "      <td>0.64431</td>\n",
       "      <td>0.64803</td>\n",
       "      <td>0.65173</td>\n",
       "    </tr>\n",
       "    <tr>\n",
       "      <td>4</td>\n",
       "      <td>0.4</td>\n",
       "      <td>0.65542</td>\n",
       "      <td>0.65910</td>\n",
       "      <td>0.66276</td>\n",
       "      <td>0.66640</td>\n",
       "      <td>0.67003</td>\n",
       "      <td>0.67364</td>\n",
       "      <td>0.67724</td>\n",
       "      <td>0.68082</td>\n",
       "      <td>0.68439</td>\n",
       "      <td>0.68793</td>\n",
       "    </tr>\n",
       "  </tbody>\n",
       "</table>\n",
       "</div>"
      ],
      "text/plain": [
       "     z        0     0.01     0.02     0.03     0.04     0.05     0.06  \\\n",
       "0  0.0  0.50000  0.50399  0.50798  0.51197  0.51595  0.51994  0.52392   \n",
       "1  0.1  0.53983  0.54380  0.54776  0.55172  0.55567  0.55966  0.56360   \n",
       "2  0.2  0.57926  0.58317  0.58706  0.59095  0.59483  0.59871  0.60257   \n",
       "3  0.3  0.61791  0.62172  0.62552  0.62930  0.63307  0.63683  0.64058   \n",
       "4  0.4  0.65542  0.65910  0.66276  0.66640  0.67003  0.67364  0.67724   \n",
       "\n",
       "      0.07     0.08     0.09  \n",
       "0  0.52790  0.53188  0.53586  \n",
       "1  0.56749  0.57142  0.57535  \n",
       "2  0.60642  0.61026  0.61409  \n",
       "3  0.64431  0.64803  0.65173  \n",
       "4  0.68082  0.68439  0.68793  "
      ]
     },
     "execution_count": 99,
     "metadata": {},
     "output_type": "execute_result"
    }
   ],
   "source": [
    "pd.read_csv(\"cumulative.csv\").head()"
   ]
  },
  {
   "cell_type": "code",
   "execution_count": 100,
   "metadata": {},
   "outputs": [
    {
     "data": {
      "text/html": [
       "<div>\n",
       "<style scoped>\n",
       "    .dataframe tbody tr th:only-of-type {\n",
       "        vertical-align: middle;\n",
       "    }\n",
       "\n",
       "    .dataframe tbody tr th {\n",
       "        vertical-align: top;\n",
       "    }\n",
       "\n",
       "    .dataframe thead th {\n",
       "        text-align: right;\n",
       "    }\n",
       "</style>\n",
       "<table border=\"1\" class=\"dataframe\">\n",
       "  <thead>\n",
       "    <tr style=\"text-align: right;\">\n",
       "      <th></th>\n",
       "      <th>z</th>\n",
       "      <th>0</th>\n",
       "      <th>0.01</th>\n",
       "      <th>0.02</th>\n",
       "      <th>0.03</th>\n",
       "      <th>0.04</th>\n",
       "      <th>0.05</th>\n",
       "      <th>0.06</th>\n",
       "      <th>0.07</th>\n",
       "      <th>0.08</th>\n",
       "      <th>0.09</th>\n",
       "    </tr>\n",
       "  </thead>\n",
       "  <tbody>\n",
       "    <tr>\n",
       "      <td>0</td>\n",
       "      <td>0.0</td>\n",
       "      <td>0.50000</td>\n",
       "      <td>0.49601</td>\n",
       "      <td>0.49202</td>\n",
       "      <td>0.48803</td>\n",
       "      <td>0.48405</td>\n",
       "      <td>0.48006</td>\n",
       "      <td>0.47608</td>\n",
       "      <td>0.47210</td>\n",
       "      <td>0.46812</td>\n",
       "      <td>0.46414</td>\n",
       "    </tr>\n",
       "    <tr>\n",
       "      <td>1</td>\n",
       "      <td>0.1</td>\n",
       "      <td>0.46017</td>\n",
       "      <td>0.45620</td>\n",
       "      <td>0.45224</td>\n",
       "      <td>0.44828</td>\n",
       "      <td>0.44433</td>\n",
       "      <td>0.44038</td>\n",
       "      <td>0.43640</td>\n",
       "      <td>0.43251</td>\n",
       "      <td>0.42858</td>\n",
       "      <td>0.42465</td>\n",
       "    </tr>\n",
       "    <tr>\n",
       "      <td>2</td>\n",
       "      <td>0.2</td>\n",
       "      <td>0.42074</td>\n",
       "      <td>0.41683</td>\n",
       "      <td>0.41294</td>\n",
       "      <td>0.40905</td>\n",
       "      <td>0.40517</td>\n",
       "      <td>0.40129</td>\n",
       "      <td>0.39743</td>\n",
       "      <td>0.39358</td>\n",
       "      <td>0.38974</td>\n",
       "      <td>0.38591</td>\n",
       "    </tr>\n",
       "    <tr>\n",
       "      <td>3</td>\n",
       "      <td>0.3</td>\n",
       "      <td>0.38209</td>\n",
       "      <td>0.37828</td>\n",
       "      <td>0.37448</td>\n",
       "      <td>0.37070</td>\n",
       "      <td>0.36693</td>\n",
       "      <td>0.36317</td>\n",
       "      <td>0.35942</td>\n",
       "      <td>0.35569</td>\n",
       "      <td>0.35197</td>\n",
       "      <td>0.34827</td>\n",
       "    </tr>\n",
       "    <tr>\n",
       "      <td>4</td>\n",
       "      <td>0.4</td>\n",
       "      <td>0.34458</td>\n",
       "      <td>0.34090</td>\n",
       "      <td>0.33724</td>\n",
       "      <td>0.33360</td>\n",
       "      <td>0.32997</td>\n",
       "      <td>0.32636</td>\n",
       "      <td>0.32276</td>\n",
       "      <td>0.31918</td>\n",
       "      <td>0.31561</td>\n",
       "      <td>0.31207</td>\n",
       "    </tr>\n",
       "  </tbody>\n",
       "</table>\n",
       "</div>"
      ],
      "text/plain": [
       "     z        0     0.01     0.02     0.03     0.04     0.05     0.06  \\\n",
       "0  0.0  0.50000  0.49601  0.49202  0.48803  0.48405  0.48006  0.47608   \n",
       "1  0.1  0.46017  0.45620  0.45224  0.44828  0.44433  0.44038  0.43640   \n",
       "2  0.2  0.42074  0.41683  0.41294  0.40905  0.40517  0.40129  0.39743   \n",
       "3  0.3  0.38209  0.37828  0.37448  0.37070  0.36693  0.36317  0.35942   \n",
       "4  0.4  0.34458  0.34090  0.33724  0.33360  0.32997  0.32636  0.32276   \n",
       "\n",
       "      0.07     0.08     0.09  \n",
       "0  0.47210  0.46812  0.46414  \n",
       "1  0.43251  0.42858  0.42465  \n",
       "2  0.39358  0.38974  0.38591  \n",
       "3  0.35569  0.35197  0.34827  \n",
       "4  0.31918  0.31561  0.31207  "
      ]
     },
     "execution_count": 100,
     "metadata": {},
     "output_type": "execute_result"
    }
   ],
   "source": [
    "pd.read_csv(\"complementary_cumulative.csv\").head()"
   ]
  },
  {
   "cell_type": "code",
   "execution_count": 109,
   "metadata": {},
   "outputs": [],
   "source": [
    "df1 = pd.read_csv(\"complementary_cumulative.csv\")"
   ]
  },
  {
   "cell_type": "code",
   "execution_count": 110,
   "metadata": {},
   "outputs": [
    {
     "data": {
      "text/plain": [
       "Index(['z', '0', '0.01', '0.02', '0.03', '0.04', '0.05', '0.06', '0.07',\n",
       "       '0.08', '0.09'],\n",
       "      dtype='object')"
      ]
     },
     "execution_count": 110,
     "metadata": {},
     "output_type": "execute_result"
    }
   ],
   "source": [
    "df1.columns"
   ]
  },
  {
   "cell_type": "code",
   "execution_count": 112,
   "metadata": {},
   "outputs": [],
   "source": [
    "df1.index = df1['z']"
   ]
  },
  {
   "cell_type": "code",
   "execution_count": 116,
   "metadata": {},
   "outputs": [
    {
     "data": {
      "text/html": [
       "<div>\n",
       "<style scoped>\n",
       "    .dataframe tbody tr th:only-of-type {\n",
       "        vertical-align: middle;\n",
       "    }\n",
       "\n",
       "    .dataframe tbody tr th {\n",
       "        vertical-align: top;\n",
       "    }\n",
       "\n",
       "    .dataframe thead th {\n",
       "        text-align: right;\n",
       "    }\n",
       "</style>\n",
       "<table border=\"1\" class=\"dataframe\">\n",
       "  <thead>\n",
       "    <tr style=\"text-align: right;\">\n",
       "      <th></th>\n",
       "      <th>0</th>\n",
       "      <th>0.01</th>\n",
       "      <th>0.02</th>\n",
       "      <th>0.03</th>\n",
       "      <th>0.04</th>\n",
       "      <th>0.05</th>\n",
       "      <th>0.06</th>\n",
       "      <th>0.07</th>\n",
       "      <th>0.08</th>\n",
       "      <th>0.09</th>\n",
       "    </tr>\n",
       "    <tr>\n",
       "      <th>z</th>\n",
       "      <th></th>\n",
       "      <th></th>\n",
       "      <th></th>\n",
       "      <th></th>\n",
       "      <th></th>\n",
       "      <th></th>\n",
       "      <th></th>\n",
       "      <th></th>\n",
       "      <th></th>\n",
       "      <th></th>\n",
       "    </tr>\n",
       "  </thead>\n",
       "  <tbody>\n",
       "    <tr>\n",
       "      <td>0.0</td>\n",
       "      <td>0.50000</td>\n",
       "      <td>0.49601</td>\n",
       "      <td>0.49202</td>\n",
       "      <td>0.48803</td>\n",
       "      <td>0.48405</td>\n",
       "      <td>0.48006</td>\n",
       "      <td>0.47608</td>\n",
       "      <td>0.47210</td>\n",
       "      <td>0.46812</td>\n",
       "      <td>0.46414</td>\n",
       "    </tr>\n",
       "    <tr>\n",
       "      <td>0.1</td>\n",
       "      <td>0.46017</td>\n",
       "      <td>0.45620</td>\n",
       "      <td>0.45224</td>\n",
       "      <td>0.44828</td>\n",
       "      <td>0.44433</td>\n",
       "      <td>0.44038</td>\n",
       "      <td>0.43640</td>\n",
       "      <td>0.43251</td>\n",
       "      <td>0.42858</td>\n",
       "      <td>0.42465</td>\n",
       "    </tr>\n",
       "    <tr>\n",
       "      <td>0.2</td>\n",
       "      <td>0.42074</td>\n",
       "      <td>0.41683</td>\n",
       "      <td>0.41294</td>\n",
       "      <td>0.40905</td>\n",
       "      <td>0.40517</td>\n",
       "      <td>0.40129</td>\n",
       "      <td>0.39743</td>\n",
       "      <td>0.39358</td>\n",
       "      <td>0.38974</td>\n",
       "      <td>0.38591</td>\n",
       "    </tr>\n",
       "    <tr>\n",
       "      <td>0.3</td>\n",
       "      <td>0.38209</td>\n",
       "      <td>0.37828</td>\n",
       "      <td>0.37448</td>\n",
       "      <td>0.37070</td>\n",
       "      <td>0.36693</td>\n",
       "      <td>0.36317</td>\n",
       "      <td>0.35942</td>\n",
       "      <td>0.35569</td>\n",
       "      <td>0.35197</td>\n",
       "      <td>0.34827</td>\n",
       "    </tr>\n",
       "    <tr>\n",
       "      <td>0.4</td>\n",
       "      <td>0.34458</td>\n",
       "      <td>0.34090</td>\n",
       "      <td>0.33724</td>\n",
       "      <td>0.33360</td>\n",
       "      <td>0.32997</td>\n",
       "      <td>0.32636</td>\n",
       "      <td>0.32276</td>\n",
       "      <td>0.31918</td>\n",
       "      <td>0.31561</td>\n",
       "      <td>0.31207</td>\n",
       "    </tr>\n",
       "  </tbody>\n",
       "</table>\n",
       "</div>"
      ],
      "text/plain": [
       "           0     0.01     0.02     0.03     0.04     0.05     0.06     0.07  \\\n",
       "z                                                                             \n",
       "0.0  0.50000  0.49601  0.49202  0.48803  0.48405  0.48006  0.47608  0.47210   \n",
       "0.1  0.46017  0.45620  0.45224  0.44828  0.44433  0.44038  0.43640  0.43251   \n",
       "0.2  0.42074  0.41683  0.41294  0.40905  0.40517  0.40129  0.39743  0.39358   \n",
       "0.3  0.38209  0.37828  0.37448  0.37070  0.36693  0.36317  0.35942  0.35569   \n",
       "0.4  0.34458  0.34090  0.33724  0.33360  0.32997  0.32636  0.32276  0.31918   \n",
       "\n",
       "        0.08     0.09  \n",
       "z                      \n",
       "0.0  0.46812  0.46414  \n",
       "0.1  0.42858  0.42465  \n",
       "0.2  0.38974  0.38591  \n",
       "0.3  0.35197  0.34827  \n",
       "0.4  0.31561  0.31207  "
      ]
     },
     "execution_count": 116,
     "metadata": {},
     "output_type": "execute_result"
    }
   ],
   "source": [
    "df1.head()"
   ]
  },
  {
   "cell_type": "code",
   "execution_count": 115,
   "metadata": {},
   "outputs": [],
   "source": [
    "df1.drop('z', axis=1, inplace=True)"
   ]
  },
  {
   "cell_type": "code",
   "execution_count": 118,
   "metadata": {},
   "outputs": [
    {
     "data": {
      "text/plain": [
       "Float64Index([0.0, 0.1, 0.2, 0.3, 0.4, 0.5, 0.6, 0.7, 0.8, 0.9, 1.0, 1.1, 1.2,\n",
       "              1.3, 1.4, 1.5, 1.6, 1.7, 1.8, 1.9, 2.0, 2.1, 2.2, 2.3, 2.4, 2.5,\n",
       "              2.6, 2.7, 2.8, 2.9, 3.0, 3.1, 3.2, 3.3, 3.4, 3.5, 3.6, 3.7, 3.8,\n",
       "              3.9, 4.0],\n",
       "             dtype='float64', name='z')"
      ]
     },
     "execution_count": 118,
     "metadata": {},
     "output_type": "execute_result"
    }
   ],
   "source": [
    "df1.index"
   ]
  },
  {
   "cell_type": "code",
   "execution_count": 123,
   "metadata": {},
   "outputs": [
    {
     "data": {
      "text/plain": [
       "0.36693000000000003"
      ]
     },
     "execution_count": 123,
     "metadata": {},
     "output_type": "execute_result"
    }
   ],
   "source": [
    "df1.loc[0.3][4]"
   ]
  },
  {
   "cell_type": "code",
   "execution_count": 124,
   "metadata": {},
   "outputs": [],
   "source": []
  },
  {
   "cell_type": "code",
   "execution_count": 132,
   "metadata": {},
   "outputs": [],
   "source": []
  },
  {
   "cell_type": "code",
   "execution_count": 136,
   "metadata": {},
   "outputs": [
    {
     "data": {
      "text/plain": [
       "9.72e-56"
      ]
     },
     "execution_count": 136,
     "metadata": {},
     "output_type": "execute_result"
    }
   ],
   "source": [
    "get_val('greater_than_z.csv', 204)"
   ]
  },
  {
   "cell_type": "code",
   "execution_count": 131,
   "metadata": {},
   "outputs": [
    {
     "data": {
      "text/plain": [
       "'r'"
      ]
     },
     "execution_count": 131,
     "metadata": {},
     "output_type": "execute_result"
    }
   ],
   "source": [
    "s[-1]"
   ]
  },
  {
   "cell_type": "code",
   "execution_count": null,
   "metadata": {},
   "outputs": [],
   "source": []
  }
 ],
 "metadata": {
  "kernelspec": {
   "display_name": "Python 3",
   "language": "python",
   "name": "python3"
  },
  "language_info": {
   "codemirror_mode": {
    "name": "ipython",
    "version": 3
   },
   "file_extension": ".py",
   "mimetype": "text/x-python",
   "name": "python",
   "nbconvert_exporter": "python",
   "pygments_lexer": "ipython3",
   "version": "3.7.4"
  }
 },
 "nbformat": 4,
 "nbformat_minor": 2
}
