{
 "cells": [
  {
   "cell_type": "code",
   "execution_count": 1,
   "metadata": {},
   "outputs": [],
   "source": [
    "import numpy as np\n",
    "import pandas as pd\n",
    "import matplotlib.pyplot as plt\n",
    "import random\n",
    "import seaborn as sns\n",
    "import sklearn\n",
    "from sklearn.model_selection import train_test_split\n",
    "import math\n",
    "import scipy as stats\n",
    "import scipy.stats"
   ]
  },
  {
   "cell_type": "code",
   "execution_count": 2,
   "metadata": {},
   "outputs": [],
   "source": [
    "from stat1 import *"
   ]
  },
  {
   "cell_type": "code",
   "execution_count": 3,
   "metadata": {},
   "outputs": [],
   "source": [
    "%matplotlib inline"
   ]
  },
  {
   "cell_type": "code",
   "execution_count": 7,
   "metadata": {},
   "outputs": [],
   "source": [
    "class Sampling_Distibution(Probability_Distribution):\n",
    "    \"\"\"\n",
    "    Stratified Sampling: use when each group has small variation\n",
    "        within itself but there is a wide variation between the \n",
    "        groups.\n",
    "        \n",
    "    Cluster Sampling: use when there is considerable variation\n",
    "        within each group but the groups are essentially similar\n",
    "        to each other.\n",
    "    \"\"\"\n",
    "    \n",
    "    def __init__(self):\n",
    "        pass\n",
    "    \n",
    "    \n",
    "    def standard_error(self, sigma, n):\n",
    "        \"\"\"\n",
    "        To  get sampling distribution standard deviation\n",
    "        for infinite population or from finite sample with\n",
    "        replacements\n",
    "        \n",
    "        sigma: population standard deviation\n",
    "        n: sample size\n",
    "        \"\"\"\n",
    "        return sigma/(math.sqrt(n))\n",
    "    \n",
    "    \n",
    "    def probability(self, mu, sigma, n, X1=-math.inf, X2=math.inf, infinite=True):\n",
    "        \"\"\"\n",
    "        mu = population mean\n",
    "        sigma = population standard deviation\n",
    "        infinte = bool, if true then find probaility for infinite \n",
    "        population, otherwise for finite population\n",
    "        \"\"\"\n",
    "        if infinite is True:\n",
    "            std_error = self.standard_error(sigma, n)\n",
    "        else:\n",
    "            std_error = self.standard_error_finite(sigma, N, n)\n",
    "        \n",
    "        return self.normal_distribution(mu, std_error, X1, X2)\n",
    "    \n",
    "    \n",
    "    \"\"\"\n",
    "    CENTRAL LIMIT THEOREM:\n",
    "    \n",
    "    1. The mean of the sampling distribution of the mean\n",
    "        will be equal to the population mean.\n",
    "    2. As the sample size increases, the sampling distribution\n",
    "        of the mean will approach normality.\n",
    "        \n",
    "    Significance:\n",
    "        it permits use sample statics to make inferences about\n",
    "        population parameterswithout knowing anything about\n",
    "        the shape of the frequency distribution of that population\n",
    "        other than what we can get from the sample.\n",
    "    \"\"\"\n",
    "        \n",
    "    def finite_population_multiplier(self, N, n):\n",
    "        \"\"\"\n",
    "        N: Size of the population\n",
    "        n: Size of sample\n",
    "        \n",
    "        Note: When sampling fraction(n/N) is less than 0.05, the\n",
    "            finite population multiplier need not be used.\n",
    "        \"\"\"\n",
    "        return math.sqrt((N-n)/(N-1))\n",
    "    \n",
    "    \n",
    "    def standard_error_finite(self, sigma, N, n):\n",
    "        \"\"\"\n",
    "        To  get sampling distribution standard deviation\n",
    "        for finite sample without replacements\n",
    "        \n",
    "        sigma: population standard deviation\n",
    "        N: Size of the population\n",
    "        n: Size of sample\n",
    "        \"\"\"\n",
    "        return self.standard_error(sigma, n) * self.finite_population_multiplier(N, n)"
   ]
  },
  {
   "cell_type": "code",
   "execution_count": 8,
   "metadata": {},
   "outputs": [],
   "source": [
    "sd = Sampling_Distibution()"
   ]
  },
  {
   "cell_type": "code",
   "execution_count": 13,
   "metadata": {},
   "outputs": [
    {
     "name": "stdout",
     "output_type": "stream",
     "text": [
      "1.4904348926923439\n",
      "-------------------------------\n",
      "1.68 2.68\n",
      "a6\n",
      "z string: 2.68\n",
      "first, last: 2.6 8\n",
      "z string: 1.68\n",
      "first, last: 1.6 8\n",
      "probabilities 1 & 2 0.9963200000000001 0.95352\n",
      "0.04280000000000006\n"
     ]
    }
   ],
   "source": [
    "mu = 105\n",
    "sigma = 17\n",
    "N = 125\n",
    "n = 64\n",
    "\n",
    "print(sd.standard_error_finite(sigma, N, n))\n",
    "print(\"-------------------------------\")\n",
    "print(sd.probability(mu, sigma, n, 107.5, 109, infinite=False))"
   ]
  },
  {
   "cell_type": "code",
   "execution_count": 14,
   "metadata": {},
   "outputs": [
    {
     "name": "stdout",
     "output_type": "stream",
     "text": [
      "11.28 inf\n",
      "a3\n",
      "z string: 11.28\n",
      "first, last: 11.2 8\n",
      "------------------------------\n",
      "0.0 11.28\n",
      "a5\n",
      "z string: 11.28\n",
      "first, last: 11.2 8\n",
      "------------------------------\n",
      "0.0 0.0\n",
      "------------------------------\n",
      "14.1 inf\n",
      "a3\n",
      "z string: 14.1\n",
      "first, last: 14.0 1\n",
      "------------------------------\n",
      "50.77 50.77\n",
      "a6\n",
      "z string: 50.77\n",
      "first, last: 50.7 7\n",
      "z string: 50.77\n",
      "first, last: 50.7 7\n",
      "probabilities 1 & 2 0.0 0.0\n",
      "------------------------------\n"
     ]
    },
    {
     "data": {
      "text/plain": [
       "[[0.0, 0.0, None, 0.0, 0.0]]"
      ]
     },
     "execution_count": 14,
     "metadata": {},
     "output_type": "execute_result"
    }
   ],
   "source": [
    "n = np.array([35])\n",
    "mu = 64\n",
    "sigma = math.sqrt(17.6)\n",
    "x1 = np.array([72,64,64,74,100])\n",
    "x2 = np.array([math.inf, 72,64,math.inf,100])\n",
    "\n",
    "prob = []\n",
    "for i in range(len(n)):\n",
    "    pr = []\n",
    "    for j in range(len(x1)):\n",
    "        try:\n",
    "            pr.append(sd.probability(mu,sigma,n[i],x1[j],x2[j]))\n",
    "        except:\n",
    "            pr.append(\"Can't be determined\")\n",
    "        print(\"------------------------------\")\n",
    "    prob.append(pr)\n",
    "prob"
   ]
  },
  {
   "cell_type": "code",
   "execution_count": 14,
   "metadata": {},
   "outputs": [
    {
     "name": "stdout",
     "output_type": "stream",
     "text": [
      "-inf 2.5\n",
      "a1\n",
      "z string: 2.5\n",
      "first, last: 2.5 0\n"
     ]
    },
    {
     "data": {
      "text/plain": [
       "0.99379"
      ]
     },
     "execution_count": 14,
     "metadata": {},
     "output_type": "execute_result"
    }
   ],
   "source": [
    "sd.probability(150, 16,16, -math.inf, 160)"
   ]
  },
  {
   "cell_type": "code",
   "execution_count": 25,
   "metadata": {},
   "outputs": [
    {
     "data": {
      "text/plain": [
       "1.5491933384829668"
      ]
     },
     "execution_count": 25,
     "metadata": {},
     "output_type": "execute_result"
    }
   ],
   "source": [
    "sd.standard_error(12,60)"
   ]
  },
  {
   "cell_type": "code",
   "execution_count": 29,
   "metadata": {},
   "outputs": [
    {
     "data": {
      "text/plain": [
       "4.1952353926806065"
      ]
     },
     "execution_count": 29,
     "metadata": {},
     "output_type": "execute_result"
    }
   ],
   "source": [
    "scipy.stats.norm()"
   ]
  },
  {
   "cell_type": "code",
   "execution_count": null,
   "metadata": {},
   "outputs": [],
   "source": []
  }
 ],
 "metadata": {
  "kernelspec": {
   "display_name": "Python 3",
   "language": "python",
   "name": "python3"
  },
  "language_info": {
   "codemirror_mode": {
    "name": "ipython",
    "version": 3
   },
   "file_extension": ".py",
   "mimetype": "text/x-python",
   "name": "python",
   "nbconvert_exporter": "python",
   "pygments_lexer": "ipython3",
   "version": "3.7.4"
  }
 },
 "nbformat": 4,
 "nbformat_minor": 2
}
