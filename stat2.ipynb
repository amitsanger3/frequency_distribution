{
 "cells": [
  {
   "cell_type": "code",
   "execution_count": 1,
   "metadata": {},
   "outputs": [],
   "source": [
    "import numpy as np\n",
    "import pandas as pd\n",
    "import matplotlib.pyplot as plt\n",
    "import random\n",
    "import seaborn as sns\n",
    "import sklearn\n",
    "from sklearn.model_selection import train_test_split\n",
    "import math\n",
    "import scipy as stats\n",
    "import scipy.stats"
   ]
  },
  {
   "cell_type": "code",
   "execution_count": 2,
   "metadata": {},
   "outputs": [],
   "source": [
    "from stat1 import *"
   ]
  },
  {
   "cell_type": "code",
   "execution_count": 3,
   "metadata": {},
   "outputs": [],
   "source": [
    "%matplotlib inline"
   ]
  },
  {
   "cell_type": "code",
   "execution_count": 4,
   "metadata": {},
   "outputs": [],
   "source": [
    "class Sampling_Distibution(Probability_Distribution):\n",
    "    \"\"\"\n",
    "    Stratified Sampling: use when each group has small variation\n",
    "        within itself but there is a wide variation between the \n",
    "        groups.\n",
    "        \n",
    "    Cluster Sampling: use when there is considerable variation\n",
    "        within each group but the groups are essentially similar\n",
    "        to each other.\n",
    "    \"\"\"\n",
    "    \n",
    "    def __init__(self):\n",
    "        pass\n",
    "    \n",
    "    \n",
    "    def standard_error(self, sigma, n):\n",
    "        \"\"\"\n",
    "        To  get sampling distribution standard deviation\n",
    "        for infinite population or from finite sample with\n",
    "        replacements.\n",
    "        \n",
    "        \n",
    "        sigma: population standard deviation\n",
    "        n: sample size\n",
    "        \"\"\"\n",
    "        return sigma/(math.sqrt(n))\n",
    "    \n",
    "    \n",
    "    def probability(self, mu, sigma, n, N=0, X1=-math.inf, X2=math.inf, infinite=True):\n",
    "        \"\"\"\n",
    "        mu = population mean\n",
    "        sigma = population standard deviation\n",
    "        infinte = bool, if true then find probaility for infinite \n",
    "        population, otherwise for finite population\n",
    "\n",
    "        \"\"\"\n",
    "        if infinite is True:\n",
    "            std_error = self.standard_error(sigma, n)\n",
    "        elif infinite is False:\n",
    "            std_error = self.standard_error_finite(sigma, N, n)\n",
    "        print(\"std error:\", std_error)\n",
    "        \n",
    "        return self.normal_distribution(mu, std_error, X1, X2)\n",
    "    \n",
    "    \n",
    "    \"\"\"\n",
    "    CENTRAL LIMIT THEOREM:\n",
    "    \n",
    "    1. The mean of the sampling distribution of the mean\n",
    "        will be equal to the population mean.\n",
    "    2. As the sample size increases, the sampling distribution\n",
    "        of the mean will approach normality.\n",
    "        \n",
    "    Significance:\n",
    "        it permits use sample statics to make inferences about\n",
    "        population parameterswithout knowing anything about\n",
    "        the shape of the frequency distribution of that population\n",
    "        other than what we can get from the sample.\n",
    "    \"\"\"\n",
    "        \n",
    "    def finite_population_multiplier(self, N, n):\n",
    "        \"\"\"\n",
    "        N: Size of the population\n",
    "        n: Size of sample\n",
    "        \n",
    "        Note: When sampling fraction(n/N) is less than 0.05, the\n",
    "            finite population multiplier need not be used.\n",
    "        \"\"\"\n",
    "        return math.sqrt((N-n)/(N-1))\n",
    "    \n",
    "    \"\"\"\n",
    "    Ststistician reccommend that in estimation, n be large\n",
    "    enough, atlest n/N > 0.5 to use Normal distribution\n",
    "    as a substitute for the binomial distribution.\n",
    "    \"\"\"\n",
    "    \n",
    "    def standard_error_finite(self, sigma, N, n):\n",
    "        \"\"\"\n",
    "        To  get sampling distribution standard deviation\n",
    "        for finite sample without replacements\n",
    "        \n",
    "        sigma: population standard deviation\n",
    "        N: Size of the population\n",
    "        n: Size of sample\n",
    "        \n",
    "        if n/N > 0.05 is True then use standard_error_finite\n",
    "        otherwise use standard_error\n",
    "        \"\"\"\n",
    "        return self.standard_error(sigma, n) * self.finite_population_multiplier(N, n)\n",
    "    "
   ]
  },
  {
   "cell_type": "code",
   "execution_count": 108,
   "metadata": {},
   "outputs": [],
   "source": [
    "class Estimation(Sampling_Distibution):\n",
    "    \n",
    "    def __init__(self, x):\n",
    "        \"\"\"\n",
    "        x = np.array of samples\n",
    "        \"\"\"\n",
    "        self.sample = x\n",
    "    \n",
    "    \n",
    "    def point_estimate_mean(self):\n",
    "        return (self.sample.sum())/len(self.sample)\n",
    "        \n",
    "        \n",
    "    def point_estimate_variance(self):\n",
    "        variance = ((self.sample - self.point_estimate_mean())**2).sum()/(len(self.sample)-1)\n",
    "        return variance\n",
    "        \n",
    "    \n",
    "    def point_estimate_deviation(self):\n",
    "        return math.sqrt(self.point_estimate_variance())\n",
    "    \n",
    "    \n",
    "    def interval_estimate(self, mu, sigma, n, N=0, infinite=True):\n",
    "        \"\"\"\n",
    "        68–95–99.7 rule:\n",
    "        \n",
    "        In statistics, the 68–95–99.7 rule, also known as the empirical rule,\n",
    "        is a shorthand used to remember the percentage of values that lie \n",
    "        within a band around the mean in a normal distribution with a width \n",
    "        of two, four and six standard deviations, respectively; more accurately,\n",
    "        68.27%, 95.45% and 99.73% of the values lie within one, two and three \n",
    "        standard deviations of the mean, respectively.\n",
    "\n",
    "        In mathematical notation, these facts can be expressed as follows, where\n",
    "        Χ is an observation from a normally distributed random variable, μ is \n",
    "        the mean of the distribution, and σ is its standard deviation:\n",
    "        \n",
    "        Pr(μ - σ ≤ X ≤ μ + σ) ≈ 0.6827\n",
    "        Pr(μ - 2σ ≤ X ≤ μ + 2σ) ≈ 0.9545\n",
    "        Pr(μ - 2σ ≤ X ≤ μ + 2σ) ≈ 0.9973\n",
    "        \"\"\"\n",
    "        #n = len(self.sample)\n",
    "        result = []\n",
    "        for i in range(1,4):\n",
    "            if infinite is True:\n",
    "                t = (mu - i*self.standard_error(sigma,n), mu + i*self.standard_error(sigma,n))\n",
    "            elif infinite is False:\n",
    "                t = (mu - i*self.standard_error_finite(sigma, N, n), mu + i*self.standard_error_finite(sigma, N, n))\n",
    "                \n",
    "            result.append(t)\n",
    "        \n",
    "        return result\n",
    "    \n",
    "    \n",
    "    def standard_error_from_mean(self, confidence_lavel):\n",
    "        \"\"\"\n",
    "        confidence_lavel = percentage of confidence\n",
    "        \"\"\"\n",
    "        \n",
    "        file = 'cumulative_from_mean_0toZ.csv'\n",
    "        standard_table = self.standard_normal_table(file)\n",
    "\n",
    "\n",
    "        dfr = standard_table[standard_table < confidence_lavel/200]\n",
    "        max_columns = dfr.idxmax(axis=1)\n",
    "        index = max_columns.last_valid_index()\n",
    "        column = max_columns.loc[index]\n",
    "\n",
    "        return round(index + float(column), 2)\n",
    "    \n",
    "    \n",
    "    def confidence_interval_by_std_error(self, confidence, mean, std_error):\n",
    "        \"\"\"\n",
    "        confidence = percentage\n",
    "        mean = sample mean or population mean\n",
    "        std_error = \n",
    "        \"\"\"\n",
    "        return (mean - (confidence * std_error), mean + (confidence * std_error)) \n",
    "    \n",
    "    \n",
    "    def confidence_interval(self, confidence_lavel, x_bar, sigma, n, N=0, infinite=True):\n",
    "        \"\"\"\n",
    "        confidence_lavel = percentage of confidence\n",
    "        x_bar: sample mean\n",
    "        sigma: standard deviation\n",
    "        \"\"\"\n",
    "\n",
    "        conf = self.standard_error_from_mean(confidence_lavel)\n",
    "        \n",
    "        if infinite is True:\n",
    "            std_err = self.standard_error(sigma,n)\n",
    "        elif infinite is False:\n",
    "            std_err = self.standard_error_finite(sigma, N, n)\n",
    "        \n",
    "        return self.confidence_interval_by_std_error(conf, x_bar, std_err)\n",
    "    \n",
    "    \"\"\"\n",
    "    Ststistician reccommend that in estimation, n be large\n",
    "    enough, atlest n/N > 0.5 to use Normal distribution\n",
    "    as a substitute for the binomial distribution.\n",
    "    \"\"\"\n",
    "    \n",
    "    #========================================================\n",
    "    # INTERVAL ESTIMATES OF THE PROPORTION FROM LARGE SAMPLES\n",
    "    #========================================================\n",
    "    \n",
    "    def estimate_mean_of_proportion(self, p_bar):\n",
    "        \"\"\"\n",
    "        p_bar = sample proportion in favour\n",
    "        \"\"\"\n",
    "        return p_bar\n",
    "    \n",
    "    \n",
    "    def estimate_standard_error_of_proportion(self, p_bar, q_bar, n):\n",
    "        \"\"\"\n",
    "        p_bar = sample proportion in favour\n",
    "        q_bar = sample proportion not in favour\n",
    "        n = sample size\n",
    "        \"\"\"\n",
    "        return math.sqrt((p_bar * q_bar)/n)\n",
    "    \n",
    "    \n",
    "    \n",
    "    def confidence_interval_of_proportion(self, confidence, p_bar, q_bar, n):\n",
    "        \"\"\"\n",
    "        confidence = percentage\n",
    "        p_bar = sample proportion in favour\n",
    "        q_bar = sample proportion not in favour\n",
    "        n = sample size\n",
    "        \"\"\"\n",
    "        return self.confidence_interval_by_std_error(self.standard_error_from_mean(confidence), p_bar, self.estimate_standard_error_of_proportion(p_bar, q_bar, n))\n",
    "    "
   ]
  },
  {
   "cell_type": "code",
   "execution_count": 109,
   "metadata": {},
   "outputs": [],
   "source": [
    "x = np.array([3, 9, 15, 21, 42, 30, 6, 9, 6, 15, 21, 24, 32, 9, 12])"
   ]
  },
  {
   "cell_type": "code",
   "execution_count": 110,
   "metadata": {},
   "outputs": [],
   "source": [
    "est = Estimation(x)"
   ]
  },
  {
   "cell_type": "code",
   "execution_count": 64,
   "metadata": {},
   "outputs": [
    {
     "data": {
      "text/plain": [
       "[0.84, 1.03, 1.75, 2.05]"
      ]
     },
     "execution_count": 64,
     "metadata": {},
     "output_type": "execute_result"
    }
   ],
   "source": [
    "c = np.array([60,70,92,96])*0.01\n",
    "\n",
    "cf = []\n",
    "for i in c:\n",
    "    cf.append(est.confidence(i))\n",
    "    \n",
    "cf"
   ]
  },
  {
   "cell_type": "code",
   "execution_count": 68,
   "metadata": {},
   "outputs": [
    {
     "data": {
      "text/plain": [
       "[(20.1, 29.175),\n",
       " (11.733333333333334, 17.78333333333333),\n",
       " (36.04, 39.67),\n",
       " (10.2, 28.35)]"
      ]
     },
     "execution_count": 68,
     "metadata": {},
     "output_type": "execute_result"
    }
   ],
   "source": [
    "n = np.array([2,3 ,5,1])\n",
    "#c = 95.5 * 0.01\n",
    "\n",
    "sigma = 5/n\n",
    "x_bar = np.array([25,15,38,20])\n",
    "\n",
    "#ci = []\n",
    "ie = []\n",
    "for i in range(len(n)):\n",
    "    ie.append((x_bar[i] - (1.96 * sigma[i]), x_bar[i] + (1.67 * sigma[i])))\n",
    "    \n",
    "ie"
   ]
  },
  {
   "cell_type": "code",
   "execution_count": 135,
   "metadata": {},
   "outputs": [
    {
     "data": {
      "text/plain": [
       "16.933333333333334"
      ]
     },
     "execution_count": 135,
     "metadata": {},
     "output_type": "execute_result"
    }
   ],
   "source": [
    "est.point_estimate_mean()"
   ]
  },
  {
   "cell_type": "code",
   "execution_count": 136,
   "metadata": {},
   "outputs": [
    {
     "data": {
      "text/plain": [
       "125.92380952380952"
      ]
     },
     "execution_count": 136,
     "metadata": {},
     "output_type": "execute_result"
    }
   ],
   "source": [
    "est.point_estimate_variance()"
   ]
  },
  {
   "cell_type": "code",
   "execution_count": 137,
   "metadata": {},
   "outputs": [
    {
     "data": {
      "text/plain": [
       "11.221577853573423"
      ]
     },
     "execution_count": 137,
     "metadata": {},
     "output_type": "execute_result"
    }
   ],
   "source": [
    "est.point_estimate_deviation()"
   ]
  },
  {
   "cell_type": "code",
   "execution_count": 97,
   "metadata": {},
   "outputs": [
    {
     "data": {
      "text/plain": [
       "(1451.0645447337886, (247620.25414663658, 252379.74585336342), 1.64)"
      ]
     },
     "execution_count": 97,
     "metadata": {},
     "output_type": "execute_result"
    }
   ],
   "source": [
    "sigma = 41000\n",
    "#muh = 30.3\n",
    "mu = 250000\n",
    "N = 12368\n",
    "n = 750\n",
    "#cd = np.array([95,99])\n",
    "cd = 90\n",
    "\n",
    "a = est.standard_error_finite(sigma,N, n)\n",
    "b = est.confidence_interval(cd, mu, sigma, n, N, infinite=False)\n",
    "c = est.confidence(cd)\n",
    "\"\"\"\n",
    "b = []\n",
    "c = []\n",
    "for i in cd:\n",
    "    b.append(est.confidence_interval(i, mu, sigma, n, N, infinite=True))\n",
    "    c.append(est.confidence(i))\n",
    "\"\"\"\n",
    "    \n",
    "a,b,c"
   ]
  },
  {
   "cell_type": "code",
   "execution_count": 112,
   "metadata": {},
   "outputs": [
    {
     "data": {
      "text/plain": [
       "(0.040298883359219766, (0.3164318697668052, 0.5235681302331948), 2.57)"
      ]
     },
     "execution_count": 112,
     "metadata": {},
     "output_type": "execute_result"
    }
   ],
   "source": [
    "n = 150\n",
    "p = 0.42\n",
    "q = 1-p\n",
    "cd = 99\n",
    "\n",
    "a = est.estimate_standard_error_of_proportion(p, q, n)\n",
    "b = est.confidence_interval_of_proportion(cd, p,q,n)\n",
    "c = est.standard_error_from_mean(cd)\n",
    "a,b,c"
   ]
  },
  {
   "cell_type": "code",
   "execution_count": 126,
   "metadata": {},
   "outputs": [
    {
     "data": {
      "text/plain": [
       "array([107.10414611, 107.45585389])"
      ]
     },
     "execution_count": 126,
     "metadata": {},
     "output_type": "execute_result"
    }
   ],
   "source": [
    "np.array((892.5345509276654, 895.4654490723346))*0.12"
   ]
  },
  {
   "cell_type": "code",
   "execution_count": 139,
   "metadata": {},
   "outputs": [
    {
     "name": "stdout",
     "output_type": "stream",
     "text": [
      "a7\n",
      "z string: 0.45\n",
      "first, last: 0.4 5\n",
      "z string: 0.45\n",
      "first, last: 0.4 5\n",
      "probabilities 1 & 2 0.17364000000000002 0.17364000000000002\n"
     ]
    },
    {
     "data": {
      "text/plain": [
       "0.34728000000000003"
      ]
     },
     "execution_count": 139,
     "metadata": {},
     "output_type": "execute_result"
    }
   ],
   "source": [
    "est.probability_of_normal_distribution(-0.45, 0.45)"
   ]
  },
  {
   "cell_type": "code",
   "execution_count": 10,
   "metadata": {},
   "outputs": [
    {
     "data": {
      "text/plain": [
       "[0.4725369183889301, 0.350442757925283, 0.1879267295948145]"
      ]
     },
     "execution_count": 10,
     "metadata": {},
     "output_type": "execute_result"
    }
   ],
   "source": [
    "mu = 8.2\n",
    "sigma = 2.1\n",
    "N = 80\n",
    "n = np.array([16,25,49])\n",
    "\n",
    "res = []\n",
    "for i in n:\n",
    "    res.append(sd.standard_error_finite(sigma, N, i))\n",
    "    \n",
    "res"
   ]
  },
  {
   "cell_type": "code",
   "execution_count": 17,
   "metadata": {},
   "outputs": [],
   "source": [
    "a1 = np.arange(0.00, 4.10, 0.01)\n",
    "a2 = np.arange(0.00, 4.10, 0.01)\n",
    "# a1<a2"
   ]
  },
  {
   "cell_type": "code",
   "execution_count": 6,
   "metadata": {},
   "outputs": [],
   "source": [
    "file = 'cumulative_from_mean_0toZ.csv'\n",
    "#file = 'complementary_cumulative.csv'\n",
    "df_file = pd.read_csv(file)\n",
    "df_file.index = df_file['z']\n",
    "df_file.drop('z', axis=1, inplace=True)"
   ]
  },
  {
   "cell_type": "code",
   "execution_count": 7,
   "metadata": {},
   "outputs": [
    {
     "data": {
      "text/html": [
       "<div>\n",
       "<style scoped>\n",
       "    .dataframe tbody tr th:only-of-type {\n",
       "        vertical-align: middle;\n",
       "    }\n",
       "\n",
       "    .dataframe tbody tr th {\n",
       "        vertical-align: top;\n",
       "    }\n",
       "\n",
       "    .dataframe thead th {\n",
       "        text-align: right;\n",
       "    }\n",
       "</style>\n",
       "<table border=\"1\" class=\"dataframe\">\n",
       "  <thead>\n",
       "    <tr style=\"text-align: right;\">\n",
       "      <th></th>\n",
       "      <th>0</th>\n",
       "      <th>0.01</th>\n",
       "      <th>0.02</th>\n",
       "      <th>0.03</th>\n",
       "      <th>0.04</th>\n",
       "      <th>0.05</th>\n",
       "      <th>0.06</th>\n",
       "      <th>0.07</th>\n",
       "      <th>0.08</th>\n",
       "      <th>0.09</th>\n",
       "    </tr>\n",
       "    <tr>\n",
       "      <th>z</th>\n",
       "      <th></th>\n",
       "      <th></th>\n",
       "      <th></th>\n",
       "      <th></th>\n",
       "      <th></th>\n",
       "      <th></th>\n",
       "      <th></th>\n",
       "      <th></th>\n",
       "      <th></th>\n",
       "      <th></th>\n",
       "    </tr>\n",
       "  </thead>\n",
       "  <tbody>\n",
       "    <tr>\n",
       "      <td>0.0</td>\n",
       "      <td>0.00000</td>\n",
       "      <td>0.00399</td>\n",
       "      <td>0.00798</td>\n",
       "      <td>0.01197</td>\n",
       "      <td>0.01595</td>\n",
       "      <td>0.01994</td>\n",
       "      <td>0.02392</td>\n",
       "      <td>0.02790</td>\n",
       "      <td>0.03188</td>\n",
       "      <td>0.03586</td>\n",
       "    </tr>\n",
       "    <tr>\n",
       "      <td>0.1</td>\n",
       "      <td>0.03983</td>\n",
       "      <td>0.04380</td>\n",
       "      <td>0.04776</td>\n",
       "      <td>0.05172</td>\n",
       "      <td>0.05567</td>\n",
       "      <td>0.05962</td>\n",
       "      <td>0.06356</td>\n",
       "      <td>0.06749</td>\n",
       "      <td>0.07142</td>\n",
       "      <td>0.07535</td>\n",
       "    </tr>\n",
       "    <tr>\n",
       "      <td>0.2</td>\n",
       "      <td>0.07926</td>\n",
       "      <td>0.08317</td>\n",
       "      <td>0.08706</td>\n",
       "      <td>0.09095</td>\n",
       "      <td>0.09483</td>\n",
       "      <td>0.09871</td>\n",
       "      <td>0.10257</td>\n",
       "      <td>0.10642</td>\n",
       "      <td>0.11026</td>\n",
       "      <td>0.11409</td>\n",
       "    </tr>\n",
       "    <tr>\n",
       "      <td>0.3</td>\n",
       "      <td>0.11791</td>\n",
       "      <td>0.12172</td>\n",
       "      <td>0.12552</td>\n",
       "      <td>0.12930</td>\n",
       "      <td>0.13307</td>\n",
       "      <td>0.13683</td>\n",
       "      <td>0.14058</td>\n",
       "      <td>0.14431</td>\n",
       "      <td>0.14803</td>\n",
       "      <td>0.15173</td>\n",
       "    </tr>\n",
       "    <tr>\n",
       "      <td>0.4</td>\n",
       "      <td>0.15542</td>\n",
       "      <td>0.15910</td>\n",
       "      <td>0.16276</td>\n",
       "      <td>0.16640</td>\n",
       "      <td>0.17003</td>\n",
       "      <td>0.17364</td>\n",
       "      <td>0.17724</td>\n",
       "      <td>0.18082</td>\n",
       "      <td>0.18439</td>\n",
       "      <td>0.18793</td>\n",
       "    </tr>\n",
       "  </tbody>\n",
       "</table>\n",
       "</div>"
      ],
      "text/plain": [
       "           0     0.01     0.02     0.03     0.04     0.05     0.06     0.07  \\\n",
       "z                                                                             \n",
       "0.0  0.00000  0.00399  0.00798  0.01197  0.01595  0.01994  0.02392  0.02790   \n",
       "0.1  0.03983  0.04380  0.04776  0.05172  0.05567  0.05962  0.06356  0.06749   \n",
       "0.2  0.07926  0.08317  0.08706  0.09095  0.09483  0.09871  0.10257  0.10642   \n",
       "0.3  0.11791  0.12172  0.12552  0.12930  0.13307  0.13683  0.14058  0.14431   \n",
       "0.4  0.15542  0.15910  0.16276  0.16640  0.17003  0.17364  0.17724  0.18082   \n",
       "\n",
       "        0.08     0.09  \n",
       "z                      \n",
       "0.0  0.03188  0.03586  \n",
       "0.1  0.07142  0.07535  \n",
       "0.2  0.11026  0.11409  \n",
       "0.3  0.14803  0.15173  \n",
       "0.4  0.18439  0.18793  "
      ]
     },
     "execution_count": 7,
     "metadata": {},
     "output_type": "execute_result"
    }
   ],
   "source": [
    "df_file.head()"
   ]
  },
  {
   "cell_type": "code",
   "execution_count": 12,
   "metadata": {},
   "outputs": [],
   "source": [
    "df1 = df_file[df_file < 0.90/2]"
   ]
  },
  {
   "cell_type": "code",
   "execution_count": 13,
   "metadata": {},
   "outputs": [
    {
     "data": {
      "text/html": [
       "<div>\n",
       "<style scoped>\n",
       "    .dataframe tbody tr th:only-of-type {\n",
       "        vertical-align: middle;\n",
       "    }\n",
       "\n",
       "    .dataframe tbody tr th {\n",
       "        vertical-align: top;\n",
       "    }\n",
       "\n",
       "    .dataframe thead th {\n",
       "        text-align: right;\n",
       "    }\n",
       "</style>\n",
       "<table border=\"1\" class=\"dataframe\">\n",
       "  <thead>\n",
       "    <tr style=\"text-align: right;\">\n",
       "      <th></th>\n",
       "      <th>0</th>\n",
       "      <th>0.01</th>\n",
       "      <th>0.02</th>\n",
       "      <th>0.03</th>\n",
       "      <th>0.04</th>\n",
       "      <th>0.05</th>\n",
       "      <th>0.06</th>\n",
       "      <th>0.07</th>\n",
       "      <th>0.08</th>\n",
       "      <th>0.09</th>\n",
       "    </tr>\n",
       "    <tr>\n",
       "      <th>z</th>\n",
       "      <th></th>\n",
       "      <th></th>\n",
       "      <th></th>\n",
       "      <th></th>\n",
       "      <th></th>\n",
       "      <th></th>\n",
       "      <th></th>\n",
       "      <th></th>\n",
       "      <th></th>\n",
       "      <th></th>\n",
       "    </tr>\n",
       "  </thead>\n",
       "  <tbody>\n",
       "    <tr>\n",
       "      <td>0.0</td>\n",
       "      <td>0.00000</td>\n",
       "      <td>0.00399</td>\n",
       "      <td>0.00798</td>\n",
       "      <td>0.01197</td>\n",
       "      <td>0.01595</td>\n",
       "      <td>0.01994</td>\n",
       "      <td>0.02392</td>\n",
       "      <td>0.02790</td>\n",
       "      <td>0.03188</td>\n",
       "      <td>0.03586</td>\n",
       "    </tr>\n",
       "    <tr>\n",
       "      <td>0.1</td>\n",
       "      <td>0.03983</td>\n",
       "      <td>0.04380</td>\n",
       "      <td>0.04776</td>\n",
       "      <td>0.05172</td>\n",
       "      <td>0.05567</td>\n",
       "      <td>0.05962</td>\n",
       "      <td>0.06356</td>\n",
       "      <td>0.06749</td>\n",
       "      <td>0.07142</td>\n",
       "      <td>0.07535</td>\n",
       "    </tr>\n",
       "    <tr>\n",
       "      <td>0.2</td>\n",
       "      <td>0.07926</td>\n",
       "      <td>0.08317</td>\n",
       "      <td>0.08706</td>\n",
       "      <td>0.09095</td>\n",
       "      <td>0.09483</td>\n",
       "      <td>0.09871</td>\n",
       "      <td>0.10257</td>\n",
       "      <td>0.10642</td>\n",
       "      <td>0.11026</td>\n",
       "      <td>0.11409</td>\n",
       "    </tr>\n",
       "    <tr>\n",
       "      <td>0.3</td>\n",
       "      <td>0.11791</td>\n",
       "      <td>0.12172</td>\n",
       "      <td>0.12552</td>\n",
       "      <td>0.12930</td>\n",
       "      <td>0.13307</td>\n",
       "      <td>0.13683</td>\n",
       "      <td>0.14058</td>\n",
       "      <td>0.14431</td>\n",
       "      <td>0.14803</td>\n",
       "      <td>0.15173</td>\n",
       "    </tr>\n",
       "    <tr>\n",
       "      <td>0.4</td>\n",
       "      <td>0.15542</td>\n",
       "      <td>0.15910</td>\n",
       "      <td>0.16276</td>\n",
       "      <td>0.16640</td>\n",
       "      <td>0.17003</td>\n",
       "      <td>0.17364</td>\n",
       "      <td>0.17724</td>\n",
       "      <td>0.18082</td>\n",
       "      <td>0.18439</td>\n",
       "      <td>0.18793</td>\n",
       "    </tr>\n",
       "    <tr>\n",
       "      <td>0.5</td>\n",
       "      <td>0.19146</td>\n",
       "      <td>0.19497</td>\n",
       "      <td>0.19847</td>\n",
       "      <td>0.20194</td>\n",
       "      <td>0.20540</td>\n",
       "      <td>0.20884</td>\n",
       "      <td>0.21226</td>\n",
       "      <td>0.21566</td>\n",
       "      <td>0.21904</td>\n",
       "      <td>0.22240</td>\n",
       "    </tr>\n",
       "    <tr>\n",
       "      <td>0.6</td>\n",
       "      <td>0.22575</td>\n",
       "      <td>0.22907</td>\n",
       "      <td>0.23237</td>\n",
       "      <td>0.23565</td>\n",
       "      <td>0.23891</td>\n",
       "      <td>0.24215</td>\n",
       "      <td>0.24537</td>\n",
       "      <td>0.24857</td>\n",
       "      <td>0.25175</td>\n",
       "      <td>0.25490</td>\n",
       "    </tr>\n",
       "    <tr>\n",
       "      <td>0.7</td>\n",
       "      <td>0.25804</td>\n",
       "      <td>0.26115</td>\n",
       "      <td>0.26424</td>\n",
       "      <td>0.26730</td>\n",
       "      <td>0.27035</td>\n",
       "      <td>0.27337</td>\n",
       "      <td>0.27637</td>\n",
       "      <td>0.27935</td>\n",
       "      <td>0.28230</td>\n",
       "      <td>0.28524</td>\n",
       "    </tr>\n",
       "    <tr>\n",
       "      <td>0.8</td>\n",
       "      <td>0.28814</td>\n",
       "      <td>0.29103</td>\n",
       "      <td>0.29389</td>\n",
       "      <td>0.29673</td>\n",
       "      <td>0.29955</td>\n",
       "      <td>0.30234</td>\n",
       "      <td>0.30511</td>\n",
       "      <td>0.30785</td>\n",
       "      <td>0.31057</td>\n",
       "      <td>0.31327</td>\n",
       "    </tr>\n",
       "    <tr>\n",
       "      <td>0.9</td>\n",
       "      <td>0.31594</td>\n",
       "      <td>0.31859</td>\n",
       "      <td>0.32121</td>\n",
       "      <td>0.32381</td>\n",
       "      <td>0.32639</td>\n",
       "      <td>0.32894</td>\n",
       "      <td>0.33147</td>\n",
       "      <td>0.33398</td>\n",
       "      <td>0.33646</td>\n",
       "      <td>0.33891</td>\n",
       "    </tr>\n",
       "    <tr>\n",
       "      <td>1.0</td>\n",
       "      <td>0.34134</td>\n",
       "      <td>0.34375</td>\n",
       "      <td>0.34614</td>\n",
       "      <td>0.34849</td>\n",
       "      <td>0.35083</td>\n",
       "      <td>0.35314</td>\n",
       "      <td>0.35543</td>\n",
       "      <td>0.35769</td>\n",
       "      <td>0.35993</td>\n",
       "      <td>0.36214</td>\n",
       "    </tr>\n",
       "    <tr>\n",
       "      <td>1.1</td>\n",
       "      <td>0.36433</td>\n",
       "      <td>0.36650</td>\n",
       "      <td>0.36864</td>\n",
       "      <td>0.37076</td>\n",
       "      <td>0.37286</td>\n",
       "      <td>0.37493</td>\n",
       "      <td>0.37698</td>\n",
       "      <td>0.37900</td>\n",
       "      <td>0.38100</td>\n",
       "      <td>0.38298</td>\n",
       "    </tr>\n",
       "    <tr>\n",
       "      <td>1.2</td>\n",
       "      <td>0.38493</td>\n",
       "      <td>0.38686</td>\n",
       "      <td>0.38877</td>\n",
       "      <td>0.39065</td>\n",
       "      <td>0.39251</td>\n",
       "      <td>0.39435</td>\n",
       "      <td>0.39617</td>\n",
       "      <td>0.39796</td>\n",
       "      <td>0.39973</td>\n",
       "      <td>0.40147</td>\n",
       "    </tr>\n",
       "    <tr>\n",
       "      <td>1.3</td>\n",
       "      <td>0.40320</td>\n",
       "      <td>0.40490</td>\n",
       "      <td>0.40658</td>\n",
       "      <td>0.40824</td>\n",
       "      <td>0.40988</td>\n",
       "      <td>0.41149</td>\n",
       "      <td>0.41308</td>\n",
       "      <td>0.41466</td>\n",
       "      <td>0.41621</td>\n",
       "      <td>0.41774</td>\n",
       "    </tr>\n",
       "    <tr>\n",
       "      <td>1.4</td>\n",
       "      <td>0.41924</td>\n",
       "      <td>0.42073</td>\n",
       "      <td>0.42220</td>\n",
       "      <td>0.42364</td>\n",
       "      <td>0.42507</td>\n",
       "      <td>0.42647</td>\n",
       "      <td>0.42785</td>\n",
       "      <td>0.42922</td>\n",
       "      <td>0.43056</td>\n",
       "      <td>0.43189</td>\n",
       "    </tr>\n",
       "    <tr>\n",
       "      <td>1.5</td>\n",
       "      <td>0.43319</td>\n",
       "      <td>0.43448</td>\n",
       "      <td>0.43574</td>\n",
       "      <td>0.43699</td>\n",
       "      <td>0.43822</td>\n",
       "      <td>0.43943</td>\n",
       "      <td>0.44062</td>\n",
       "      <td>0.44179</td>\n",
       "      <td>0.44295</td>\n",
       "      <td>0.44408</td>\n",
       "    </tr>\n",
       "    <tr>\n",
       "      <td>1.6</td>\n",
       "      <td>0.44520</td>\n",
       "      <td>0.44630</td>\n",
       "      <td>0.44738</td>\n",
       "      <td>0.44845</td>\n",
       "      <td>0.44950</td>\n",
       "      <td>NaN</td>\n",
       "      <td>NaN</td>\n",
       "      <td>NaN</td>\n",
       "      <td>NaN</td>\n",
       "      <td>NaN</td>\n",
       "    </tr>\n",
       "    <tr>\n",
       "      <td>1.7</td>\n",
       "      <td>NaN</td>\n",
       "      <td>NaN</td>\n",
       "      <td>NaN</td>\n",
       "      <td>NaN</td>\n",
       "      <td>NaN</td>\n",
       "      <td>NaN</td>\n",
       "      <td>NaN</td>\n",
       "      <td>NaN</td>\n",
       "      <td>NaN</td>\n",
       "      <td>NaN</td>\n",
       "    </tr>\n",
       "    <tr>\n",
       "      <td>1.8</td>\n",
       "      <td>NaN</td>\n",
       "      <td>NaN</td>\n",
       "      <td>NaN</td>\n",
       "      <td>NaN</td>\n",
       "      <td>NaN</td>\n",
       "      <td>NaN</td>\n",
       "      <td>NaN</td>\n",
       "      <td>NaN</td>\n",
       "      <td>NaN</td>\n",
       "      <td>NaN</td>\n",
       "    </tr>\n",
       "    <tr>\n",
       "      <td>1.9</td>\n",
       "      <td>NaN</td>\n",
       "      <td>NaN</td>\n",
       "      <td>NaN</td>\n",
       "      <td>NaN</td>\n",
       "      <td>NaN</td>\n",
       "      <td>NaN</td>\n",
       "      <td>NaN</td>\n",
       "      <td>NaN</td>\n",
       "      <td>NaN</td>\n",
       "      <td>NaN</td>\n",
       "    </tr>\n",
       "    <tr>\n",
       "      <td>2.0</td>\n",
       "      <td>NaN</td>\n",
       "      <td>NaN</td>\n",
       "      <td>NaN</td>\n",
       "      <td>NaN</td>\n",
       "      <td>NaN</td>\n",
       "      <td>NaN</td>\n",
       "      <td>NaN</td>\n",
       "      <td>NaN</td>\n",
       "      <td>NaN</td>\n",
       "      <td>NaN</td>\n",
       "    </tr>\n",
       "    <tr>\n",
       "      <td>2.1</td>\n",
       "      <td>NaN</td>\n",
       "      <td>NaN</td>\n",
       "      <td>NaN</td>\n",
       "      <td>NaN</td>\n",
       "      <td>NaN</td>\n",
       "      <td>NaN</td>\n",
       "      <td>NaN</td>\n",
       "      <td>NaN</td>\n",
       "      <td>NaN</td>\n",
       "      <td>NaN</td>\n",
       "    </tr>\n",
       "    <tr>\n",
       "      <td>2.2</td>\n",
       "      <td>NaN</td>\n",
       "      <td>NaN</td>\n",
       "      <td>NaN</td>\n",
       "      <td>NaN</td>\n",
       "      <td>NaN</td>\n",
       "      <td>NaN</td>\n",
       "      <td>NaN</td>\n",
       "      <td>NaN</td>\n",
       "      <td>NaN</td>\n",
       "      <td>NaN</td>\n",
       "    </tr>\n",
       "    <tr>\n",
       "      <td>2.3</td>\n",
       "      <td>NaN</td>\n",
       "      <td>NaN</td>\n",
       "      <td>NaN</td>\n",
       "      <td>NaN</td>\n",
       "      <td>NaN</td>\n",
       "      <td>NaN</td>\n",
       "      <td>NaN</td>\n",
       "      <td>NaN</td>\n",
       "      <td>NaN</td>\n",
       "      <td>NaN</td>\n",
       "    </tr>\n",
       "    <tr>\n",
       "      <td>2.4</td>\n",
       "      <td>NaN</td>\n",
       "      <td>NaN</td>\n",
       "      <td>NaN</td>\n",
       "      <td>NaN</td>\n",
       "      <td>NaN</td>\n",
       "      <td>NaN</td>\n",
       "      <td>NaN</td>\n",
       "      <td>NaN</td>\n",
       "      <td>NaN</td>\n",
       "      <td>NaN</td>\n",
       "    </tr>\n",
       "    <tr>\n",
       "      <td>2.5</td>\n",
       "      <td>NaN</td>\n",
       "      <td>NaN</td>\n",
       "      <td>NaN</td>\n",
       "      <td>NaN</td>\n",
       "      <td>NaN</td>\n",
       "      <td>NaN</td>\n",
       "      <td>NaN</td>\n",
       "      <td>NaN</td>\n",
       "      <td>NaN</td>\n",
       "      <td>NaN</td>\n",
       "    </tr>\n",
       "    <tr>\n",
       "      <td>2.6</td>\n",
       "      <td>NaN</td>\n",
       "      <td>NaN</td>\n",
       "      <td>NaN</td>\n",
       "      <td>NaN</td>\n",
       "      <td>NaN</td>\n",
       "      <td>NaN</td>\n",
       "      <td>NaN</td>\n",
       "      <td>NaN</td>\n",
       "      <td>NaN</td>\n",
       "      <td>NaN</td>\n",
       "    </tr>\n",
       "    <tr>\n",
       "      <td>2.7</td>\n",
       "      <td>NaN</td>\n",
       "      <td>NaN</td>\n",
       "      <td>NaN</td>\n",
       "      <td>NaN</td>\n",
       "      <td>NaN</td>\n",
       "      <td>NaN</td>\n",
       "      <td>NaN</td>\n",
       "      <td>NaN</td>\n",
       "      <td>NaN</td>\n",
       "      <td>NaN</td>\n",
       "    </tr>\n",
       "    <tr>\n",
       "      <td>2.8</td>\n",
       "      <td>NaN</td>\n",
       "      <td>NaN</td>\n",
       "      <td>NaN</td>\n",
       "      <td>NaN</td>\n",
       "      <td>NaN</td>\n",
       "      <td>NaN</td>\n",
       "      <td>NaN</td>\n",
       "      <td>NaN</td>\n",
       "      <td>NaN</td>\n",
       "      <td>NaN</td>\n",
       "    </tr>\n",
       "    <tr>\n",
       "      <td>2.9</td>\n",
       "      <td>NaN</td>\n",
       "      <td>NaN</td>\n",
       "      <td>NaN</td>\n",
       "      <td>NaN</td>\n",
       "      <td>NaN</td>\n",
       "      <td>NaN</td>\n",
       "      <td>NaN</td>\n",
       "      <td>NaN</td>\n",
       "      <td>NaN</td>\n",
       "      <td>NaN</td>\n",
       "    </tr>\n",
       "    <tr>\n",
       "      <td>3.0</td>\n",
       "      <td>NaN</td>\n",
       "      <td>NaN</td>\n",
       "      <td>NaN</td>\n",
       "      <td>NaN</td>\n",
       "      <td>NaN</td>\n",
       "      <td>NaN</td>\n",
       "      <td>NaN</td>\n",
       "      <td>NaN</td>\n",
       "      <td>NaN</td>\n",
       "      <td>NaN</td>\n",
       "    </tr>\n",
       "    <tr>\n",
       "      <td>3.1</td>\n",
       "      <td>NaN</td>\n",
       "      <td>NaN</td>\n",
       "      <td>NaN</td>\n",
       "      <td>NaN</td>\n",
       "      <td>NaN</td>\n",
       "      <td>NaN</td>\n",
       "      <td>NaN</td>\n",
       "      <td>NaN</td>\n",
       "      <td>NaN</td>\n",
       "      <td>NaN</td>\n",
       "    </tr>\n",
       "    <tr>\n",
       "      <td>3.2</td>\n",
       "      <td>NaN</td>\n",
       "      <td>NaN</td>\n",
       "      <td>NaN</td>\n",
       "      <td>NaN</td>\n",
       "      <td>NaN</td>\n",
       "      <td>NaN</td>\n",
       "      <td>NaN</td>\n",
       "      <td>NaN</td>\n",
       "      <td>NaN</td>\n",
       "      <td>NaN</td>\n",
       "    </tr>\n",
       "    <tr>\n",
       "      <td>3.3</td>\n",
       "      <td>NaN</td>\n",
       "      <td>NaN</td>\n",
       "      <td>NaN</td>\n",
       "      <td>NaN</td>\n",
       "      <td>NaN</td>\n",
       "      <td>NaN</td>\n",
       "      <td>NaN</td>\n",
       "      <td>NaN</td>\n",
       "      <td>NaN</td>\n",
       "      <td>NaN</td>\n",
       "    </tr>\n",
       "    <tr>\n",
       "      <td>3.4</td>\n",
       "      <td>NaN</td>\n",
       "      <td>NaN</td>\n",
       "      <td>NaN</td>\n",
       "      <td>NaN</td>\n",
       "      <td>NaN</td>\n",
       "      <td>NaN</td>\n",
       "      <td>NaN</td>\n",
       "      <td>NaN</td>\n",
       "      <td>NaN</td>\n",
       "      <td>NaN</td>\n",
       "    </tr>\n",
       "    <tr>\n",
       "      <td>3.5</td>\n",
       "      <td>NaN</td>\n",
       "      <td>NaN</td>\n",
       "      <td>NaN</td>\n",
       "      <td>NaN</td>\n",
       "      <td>NaN</td>\n",
       "      <td>NaN</td>\n",
       "      <td>NaN</td>\n",
       "      <td>NaN</td>\n",
       "      <td>NaN</td>\n",
       "      <td>NaN</td>\n",
       "    </tr>\n",
       "    <tr>\n",
       "      <td>3.6</td>\n",
       "      <td>NaN</td>\n",
       "      <td>NaN</td>\n",
       "      <td>NaN</td>\n",
       "      <td>NaN</td>\n",
       "      <td>NaN</td>\n",
       "      <td>NaN</td>\n",
       "      <td>NaN</td>\n",
       "      <td>NaN</td>\n",
       "      <td>NaN</td>\n",
       "      <td>NaN</td>\n",
       "    </tr>\n",
       "    <tr>\n",
       "      <td>3.7</td>\n",
       "      <td>NaN</td>\n",
       "      <td>NaN</td>\n",
       "      <td>NaN</td>\n",
       "      <td>NaN</td>\n",
       "      <td>NaN</td>\n",
       "      <td>NaN</td>\n",
       "      <td>NaN</td>\n",
       "      <td>NaN</td>\n",
       "      <td>NaN</td>\n",
       "      <td>NaN</td>\n",
       "    </tr>\n",
       "    <tr>\n",
       "      <td>3.8</td>\n",
       "      <td>NaN</td>\n",
       "      <td>NaN</td>\n",
       "      <td>NaN</td>\n",
       "      <td>NaN</td>\n",
       "      <td>NaN</td>\n",
       "      <td>NaN</td>\n",
       "      <td>NaN</td>\n",
       "      <td>NaN</td>\n",
       "      <td>NaN</td>\n",
       "      <td>NaN</td>\n",
       "    </tr>\n",
       "    <tr>\n",
       "      <td>3.9</td>\n",
       "      <td>NaN</td>\n",
       "      <td>NaN</td>\n",
       "      <td>NaN</td>\n",
       "      <td>NaN</td>\n",
       "      <td>NaN</td>\n",
       "      <td>NaN</td>\n",
       "      <td>NaN</td>\n",
       "      <td>NaN</td>\n",
       "      <td>NaN</td>\n",
       "      <td>NaN</td>\n",
       "    </tr>\n",
       "    <tr>\n",
       "      <td>4.0</td>\n",
       "      <td>NaN</td>\n",
       "      <td>NaN</td>\n",
       "      <td>NaN</td>\n",
       "      <td>NaN</td>\n",
       "      <td>NaN</td>\n",
       "      <td>NaN</td>\n",
       "      <td>NaN</td>\n",
       "      <td>NaN</td>\n",
       "      <td>NaN</td>\n",
       "      <td>NaN</td>\n",
       "    </tr>\n",
       "  </tbody>\n",
       "</table>\n",
       "</div>"
      ],
      "text/plain": [
       "           0     0.01     0.02     0.03     0.04     0.05     0.06     0.07  \\\n",
       "z                                                                             \n",
       "0.0  0.00000  0.00399  0.00798  0.01197  0.01595  0.01994  0.02392  0.02790   \n",
       "0.1  0.03983  0.04380  0.04776  0.05172  0.05567  0.05962  0.06356  0.06749   \n",
       "0.2  0.07926  0.08317  0.08706  0.09095  0.09483  0.09871  0.10257  0.10642   \n",
       "0.3  0.11791  0.12172  0.12552  0.12930  0.13307  0.13683  0.14058  0.14431   \n",
       "0.4  0.15542  0.15910  0.16276  0.16640  0.17003  0.17364  0.17724  0.18082   \n",
       "0.5  0.19146  0.19497  0.19847  0.20194  0.20540  0.20884  0.21226  0.21566   \n",
       "0.6  0.22575  0.22907  0.23237  0.23565  0.23891  0.24215  0.24537  0.24857   \n",
       "0.7  0.25804  0.26115  0.26424  0.26730  0.27035  0.27337  0.27637  0.27935   \n",
       "0.8  0.28814  0.29103  0.29389  0.29673  0.29955  0.30234  0.30511  0.30785   \n",
       "0.9  0.31594  0.31859  0.32121  0.32381  0.32639  0.32894  0.33147  0.33398   \n",
       "1.0  0.34134  0.34375  0.34614  0.34849  0.35083  0.35314  0.35543  0.35769   \n",
       "1.1  0.36433  0.36650  0.36864  0.37076  0.37286  0.37493  0.37698  0.37900   \n",
       "1.2  0.38493  0.38686  0.38877  0.39065  0.39251  0.39435  0.39617  0.39796   \n",
       "1.3  0.40320  0.40490  0.40658  0.40824  0.40988  0.41149  0.41308  0.41466   \n",
       "1.4  0.41924  0.42073  0.42220  0.42364  0.42507  0.42647  0.42785  0.42922   \n",
       "1.5  0.43319  0.43448  0.43574  0.43699  0.43822  0.43943  0.44062  0.44179   \n",
       "1.6  0.44520  0.44630  0.44738  0.44845  0.44950      NaN      NaN      NaN   \n",
       "1.7      NaN      NaN      NaN      NaN      NaN      NaN      NaN      NaN   \n",
       "1.8      NaN      NaN      NaN      NaN      NaN      NaN      NaN      NaN   \n",
       "1.9      NaN      NaN      NaN      NaN      NaN      NaN      NaN      NaN   \n",
       "2.0      NaN      NaN      NaN      NaN      NaN      NaN      NaN      NaN   \n",
       "2.1      NaN      NaN      NaN      NaN      NaN      NaN      NaN      NaN   \n",
       "2.2      NaN      NaN      NaN      NaN      NaN      NaN      NaN      NaN   \n",
       "2.3      NaN      NaN      NaN      NaN      NaN      NaN      NaN      NaN   \n",
       "2.4      NaN      NaN      NaN      NaN      NaN      NaN      NaN      NaN   \n",
       "2.5      NaN      NaN      NaN      NaN      NaN      NaN      NaN      NaN   \n",
       "2.6      NaN      NaN      NaN      NaN      NaN      NaN      NaN      NaN   \n",
       "2.7      NaN      NaN      NaN      NaN      NaN      NaN      NaN      NaN   \n",
       "2.8      NaN      NaN      NaN      NaN      NaN      NaN      NaN      NaN   \n",
       "2.9      NaN      NaN      NaN      NaN      NaN      NaN      NaN      NaN   \n",
       "3.0      NaN      NaN      NaN      NaN      NaN      NaN      NaN      NaN   \n",
       "3.1      NaN      NaN      NaN      NaN      NaN      NaN      NaN      NaN   \n",
       "3.2      NaN      NaN      NaN      NaN      NaN      NaN      NaN      NaN   \n",
       "3.3      NaN      NaN      NaN      NaN      NaN      NaN      NaN      NaN   \n",
       "3.4      NaN      NaN      NaN      NaN      NaN      NaN      NaN      NaN   \n",
       "3.5      NaN      NaN      NaN      NaN      NaN      NaN      NaN      NaN   \n",
       "3.6      NaN      NaN      NaN      NaN      NaN      NaN      NaN      NaN   \n",
       "3.7      NaN      NaN      NaN      NaN      NaN      NaN      NaN      NaN   \n",
       "3.8      NaN      NaN      NaN      NaN      NaN      NaN      NaN      NaN   \n",
       "3.9      NaN      NaN      NaN      NaN      NaN      NaN      NaN      NaN   \n",
       "4.0      NaN      NaN      NaN      NaN      NaN      NaN      NaN      NaN   \n",
       "\n",
       "        0.08     0.09  \n",
       "z                      \n",
       "0.0  0.03188  0.03586  \n",
       "0.1  0.07142  0.07535  \n",
       "0.2  0.11026  0.11409  \n",
       "0.3  0.14803  0.15173  \n",
       "0.4  0.18439  0.18793  \n",
       "0.5  0.21904  0.22240  \n",
       "0.6  0.25175  0.25490  \n",
       "0.7  0.28230  0.28524  \n",
       "0.8  0.31057  0.31327  \n",
       "0.9  0.33646  0.33891  \n",
       "1.0  0.35993  0.36214  \n",
       "1.1  0.38100  0.38298  \n",
       "1.2  0.39973  0.40147  \n",
       "1.3  0.41621  0.41774  \n",
       "1.4  0.43056  0.43189  \n",
       "1.5  0.44295  0.44408  \n",
       "1.6      NaN      NaN  \n",
       "1.7      NaN      NaN  \n",
       "1.8      NaN      NaN  \n",
       "1.9      NaN      NaN  \n",
       "2.0      NaN      NaN  \n",
       "2.1      NaN      NaN  \n",
       "2.2      NaN      NaN  \n",
       "2.3      NaN      NaN  \n",
       "2.4      NaN      NaN  \n",
       "2.5      NaN      NaN  \n",
       "2.6      NaN      NaN  \n",
       "2.7      NaN      NaN  \n",
       "2.8      NaN      NaN  \n",
       "2.9      NaN      NaN  \n",
       "3.0      NaN      NaN  \n",
       "3.1      NaN      NaN  \n",
       "3.2      NaN      NaN  \n",
       "3.3      NaN      NaN  \n",
       "3.4      NaN      NaN  \n",
       "3.5      NaN      NaN  \n",
       "3.6      NaN      NaN  \n",
       "3.7      NaN      NaN  \n",
       "3.8      NaN      NaN  \n",
       "3.9      NaN      NaN  \n",
       "4.0      NaN      NaN  "
      ]
     },
     "execution_count": 13,
     "metadata": {},
     "output_type": "execute_result"
    }
   ],
   "source": [
    "df1"
   ]
  },
  {
   "cell_type": "code",
   "execution_count": 35,
   "metadata": {},
   "outputs": [],
   "source": [
    "def z_number(percentage):\n",
    "    \n",
    "    #file = 'complementary_cumulative.csv'\n",
    "    file = 'cumulative_from_mean_0toZ.csv'\n",
    "    df_file = pd.read_csv(file)\n",
    "    df_file.index = df_file['z']\n",
    "    df_file.drop('z', axis=1, inplace=True)\n",
    "    \n",
    "    dfr = df_file[df_file < percentage]\n",
    "    df2 = dfr.idxmax(axis=1)\n",
    "    n1 = df2.last_valid_index()\n",
    "    n2 = df2.loc[n1]\n",
    "    \n",
    "    return round(n1 + float(n2), 2)"
   ]
  },
  {
   "cell_type": "code",
   "execution_count": 39,
   "metadata": {},
   "outputs": [
    {
     "data": {
      "text/plain": [
       "4.06"
      ]
     },
     "execution_count": 39,
     "metadata": {},
     "output_type": "execute_result"
    }
   ],
   "source": [
    "z_number(0.5)"
   ]
  },
  {
   "cell_type": "code",
   "execution_count": 14,
   "metadata": {},
   "outputs": [
    {
     "data": {
      "text/plain": [
       "Index(['0', '0.01', '0.02', '0.03', '0.04', '0.05', '0.06', '0.07', '0.08',\n",
       "       '0.09'],\n",
       "      dtype='object')"
      ]
     },
     "execution_count": 14,
     "metadata": {},
     "output_type": "execute_result"
    }
   ],
   "source": [
    "df1.columns"
   ]
  },
  {
   "cell_type": "code",
   "execution_count": 16,
   "metadata": {},
   "outputs": [
    {
     "data": {
      "text/plain": [
       "0.4495"
      ]
     },
     "execution_count": 16,
     "metadata": {},
     "output_type": "execute_result"
    }
   ],
   "source": [
    "df1['0.04'].max()"
   ]
  },
  {
   "cell_type": "code",
   "execution_count": 21,
   "metadata": {},
   "outputs": [],
   "source": [
    "df2 = df1.idxmax(axis=1)"
   ]
  },
  {
   "cell_type": "code",
   "execution_count": 25,
   "metadata": {},
   "outputs": [
    {
     "data": {
      "text/plain": [
       "1.6"
      ]
     },
     "execution_count": 25,
     "metadata": {},
     "output_type": "execute_result"
    }
   ],
   "source": [
    "df2.last_valid_index()"
   ]
  },
  {
   "cell_type": "code",
   "execution_count": 27,
   "metadata": {},
   "outputs": [
    {
     "data": {
      "text/plain": [
       "Float64Index([0.0, 0.1, 0.2, 0.3, 0.4, 0.5, 0.6, 0.7, 0.8, 0.9, 1.0, 1.1, 1.2,\n",
       "              1.3, 1.4, 1.5, 1.6, 1.7, 1.8, 1.9, 2.0, 2.1, 2.2, 2.3, 2.4, 2.5,\n",
       "              2.6, 2.7, 2.8, 2.9, 3.0, 3.1, 3.2, 3.3, 3.4, 3.5, 3.6, 3.7, 3.8,\n",
       "              3.9, 4.0],\n",
       "             dtype='float64', name='z')"
      ]
     },
     "execution_count": 27,
     "metadata": {},
     "output_type": "execute_result"
    }
   ],
   "source": [
    "df2.index"
   ]
  },
  {
   "cell_type": "code",
   "execution_count": 32,
   "metadata": {},
   "outputs": [
    {
     "data": {
      "text/plain": [
       "'0.04'"
      ]
     },
     "execution_count": 32,
     "metadata": {},
     "output_type": "execute_result"
    }
   ],
   "source": [
    "df2.loc[1.6]"
   ]
  },
  {
   "cell_type": "code",
   "execution_count": 53,
   "metadata": {},
   "outputs": [],
   "source": [
    "def standard_deviation_from_mean(probability):\n",
    "    n = len(str(probability))-2\n",
    "    \n",
    "    file = 'complementary_cumulative.csv'\n",
    "    df_file = pd.read_csv(file)\n",
    "    df_file.index = df_file['z']\n",
    "    df_file.drop('z', axis=1, inplace=True)\n",
    "    \n",
    "    dfr = df_file.round(n)\n",
    "    \n",
    "    l1 = []\n",
    "    sd0 = set([])\n",
    "    for i in dfr.columns:\n",
    "        sd = dfr[dfr[i]==probability].index.tolist()\n",
    "        print(sd)\n",
    "        if len(sd)>0:\n",
    "            for j in sd:\n",
    "                #print(\"value: \", j, float(i))\n",
    "                t = j + float(i)\n",
    "                if i not in l1:\n",
    "                    l1.append(round(t, 2))\n",
    "            \n",
    "              \n",
    "    return np.array(sorted(l1))"
   ]
  },
  {
   "cell_type": "code",
   "execution_count": 54,
   "metadata": {},
   "outputs": [
    {
     "data": {
      "text/plain": [
       "array([1.6 , 1.61, 1.62, 1.63, 1.64, 1.65, 1.66, 1.67, 1.68, 1.69])"
      ]
     },
     "execution_count": 54,
     "metadata": {},
     "output_type": "execute_result"
    }
   ],
   "source": [
    "standard_deviation_from_mean(0.05)"
   ]
  },
  {
   "cell_type": "code",
   "execution_count": 62,
   "metadata": {},
   "outputs": [
    {
     "data": {
      "text/plain": [
       "array([1.39])"
      ]
     },
     "execution_count": 62,
     "metadata": {},
     "output_type": "execute_result"
    }
   ],
   "source": [
    "#dfr[dfr == 0.02]\n",
    "sd.standard_deviation_from_mean(0.082, 'complementary_cumulative.csv')"
   ]
  },
  {
   "cell_type": "code",
   "execution_count": 11,
   "metadata": {},
   "outputs": [
    {
     "data": {
      "text/plain": [
       "array([ 0,  3,  6,  9, 12, 15, 18])"
      ]
     },
     "execution_count": 11,
     "metadata": {},
     "output_type": "execute_result"
    }
   ],
   "source": [
    "g = np.arange(0,20,3)\n",
    "g"
   ]
  },
  {
   "cell_type": "code",
   "execution_count": 9,
   "metadata": {},
   "outputs": [
    {
     "data": {
      "text/plain": [
       "array([-63, -60, -57, -54, -51, -48, -45])"
      ]
     },
     "execution_count": 9,
     "metadata": {},
     "output_type": "execute_result"
    }
   ],
   "source": [
    "g-g.sum()"
   ]
  },
  {
   "cell_type": "code",
   "execution_count": 13,
   "metadata": {},
   "outputs": [
    {
     "data": {
      "text/plain": [
       "20664"
      ]
     },
     "execution_count": 13,
     "metadata": {},
     "output_type": "execute_result"
    }
   ],
   "source": [
    "((g-g.sum())**2).sum()"
   ]
  },
  {
   "cell_type": "code",
   "execution_count": 67,
   "metadata": {},
   "outputs": [
    {
     "data": {
      "text/plain": [
       "0.0"
      ]
     },
     "execution_count": 67,
     "metadata": {},
     "output_type": "execute_result"
    }
   ],
   "source": [
    "3.07102E-1358"
   ]
  },
  {
   "cell_type": "code",
   "execution_count": null,
   "metadata": {},
   "outputs": [],
   "source": []
  }
 ],
 "metadata": {
  "kernelspec": {
   "display_name": "Python 3",
   "language": "python",
   "name": "python3"
  },
  "language_info": {
   "codemirror_mode": {
    "name": "ipython",
    "version": 3
   },
   "file_extension": ".py",
   "mimetype": "text/x-python",
   "name": "python",
   "nbconvert_exporter": "python",
   "pygments_lexer": "ipython3",
   "version": "3.7.4"
  }
 },
 "nbformat": 4,
 "nbformat_minor": 2
}
